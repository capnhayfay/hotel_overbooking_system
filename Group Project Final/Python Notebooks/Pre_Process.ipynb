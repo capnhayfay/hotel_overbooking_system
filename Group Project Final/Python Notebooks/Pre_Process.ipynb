{
 "cells": [
  {
   "cell_type": "code",
   "execution_count": null,
   "metadata": {
    "collapsed": true,
    "pycharm": {
     "is_executing": true
    }
   },
   "outputs": [],
   "source": [
    "from hyperopt import hp, fmin, space_eval, STATUS_OK, tpe\n",
    "from hyperopt.pyll import scope\n",
    "import numpy as np\n",
    "import pandas as pd\n",
    "import seaborn as sb\n",
    "import matplotlib.pyplot as plt\n",
    "from matplotlib import rcParams\n",
    "from statsmodels.graphics.tsaplots import plot_acf\n",
    "from sklearn.model_selection import cross_val_score, KFold, StratifiedKFold, RepeatedStratifiedKFold, GridSearchCV\n",
    "from sklearn.impute import SimpleImputer, KNNImputer, IterativeImputer\n",
    "\n",
    "from sklearn.preprocessing import StandardScaler\n",
    "from category_encoders import LeaveOneOutEncoder, CatBoostEncoder\n",
    "from sklearn.preprocessing import LabelEncoder, OneHotEncoder, OrdinalEncoder, robust_scale, quantile_transform\n",
    "from scipy.stats import boxcox\n",
    "from sklearn.decomposition import PCA, FastICA, KernelPCA\n",
    "from sklearn.linear_model import Lasso, LinearRegression, Ridge, LogisticRegression, BayesianRidge\n",
    "from scipy import stats\n",
    "from scipy.stats import boxcox\n",
    "\n",
    "from sklearn.model_selection import cross_val_score, KFold\n",
    "from sklearn.impute import SimpleImputer\n",
    "from sklearn.preprocessing import StandardScaler\n",
    "from sklearn.preprocessing import LabelEncoder, OneHotEncoder\n",
    "from category_encoders import LeaveOneOutEncoder, CatBoostEncoder\n",
    "from statsmodels.stats.stattools import durbin_watson\n",
    "from statsmodels.stats.outliers_influence import variance_inflation_factor, multipletests, outlier_test\n",
    "from collections import defaultdict"
   ]
  },
  {
   "cell_type": "markdown",
   "source": [
    "# Preprocessing Error-Solution Table\n",
    "\n",
    "|         Error         |           Solution            |\n",
    "|:---------------------:|:-----------------------------:|\n",
    "|    Missing Values     |      Imputation/ Removal      |\n",
    "|                       |                               |\n",
    "|   Auto-correlation    | Model parameter optimization  |\n",
    "|   Multicollinearity   |          PCA, Lasso           |\n",
    "|     Dataset Skew      |        Transformation         |\n",
    "|   Dataset Outliers    | Transformation, Winsorization |\n",
    "| Categorical Variables |        Dummy Encoding         |\n",
    "|    Class Imbalance    |    Resampling, K-Folds CV     |\n",
    "|         Noise         |      Remove noisy points      |\n",
    "\n",
    "# Additional Preprocessing Steps\n",
    "|        Item        |         Check         |\n",
    "|:------------------:|:---------------------:|\n",
    "|||\n",
    "| Heteroscedasticity | Boxcox Transformation |\n",
    "\n",
    "\n",
    "# Post Preprocessing Checks\n",
    "|       Error        |    Solution    |\n",
    "|:------------------:|:--------------:|\n",
    "| Heteroscedasticity | Transformation |"
   ],
   "metadata": {
    "collapsed": false
   }
  },
  {
   "cell_type": "code",
   "execution_count": 2,
   "outputs": [
    {
     "data": {
      "text/plain": "          hotel  is_canceled  lead_time  arrival_date_year arrival_date_month  \\\n0  Resort Hotel            0        342               2015               July   \n1  Resort Hotel            0        737               2015               July   \n2  Resort Hotel            0          7               2015               July   \n3  Resort Hotel            0         13               2015               July   \n4  Resort Hotel            0         14               2015               July   \n\n   arrival_date_week_number  arrival_date_day_of_month  \\\n0                        27                          1   \n1                        27                          1   \n2                        27                          1   \n3                        27                          1   \n4                        27                          1   \n\n   stays_in_weekend_nights  stays_in_week_nights  adults  ...  deposit_type  \\\n0                        0                     0       2  ...    No Deposit   \n1                        0                     0       2  ...    No Deposit   \n2                        0                     1       1  ...    No Deposit   \n3                        0                     1       1  ...    No Deposit   \n4                        0                     2       2  ...    No Deposit   \n\n   agent company days_in_waiting_list customer_type   adr  \\\n0    NaN     NaN                    0     Transient   0.0   \n1    NaN     NaN                    0     Transient   0.0   \n2    NaN     NaN                    0     Transient  75.0   \n3  304.0     NaN                    0     Transient  75.0   \n4  240.0     NaN                    0     Transient  98.0   \n\n   required_car_parking_spaces  total_of_special_requests  reservation_status  \\\n0                            0                          0           Check-Out   \n1                            0                          0           Check-Out   \n2                            0                          0           Check-Out   \n3                            0                          0           Check-Out   \n4                            0                          1           Check-Out   \n\n  reservation_status_date  \n0                1/7/2015  \n1                1/7/2015  \n2                2/7/2015  \n3                2/7/2015  \n4                3/7/2015  \n\n[5 rows x 32 columns]",
      "text/html": "<div>\n<style scoped>\n    .dataframe tbody tr th:only-of-type {\n        vertical-align: middle;\n    }\n\n    .dataframe tbody tr th {\n        vertical-align: top;\n    }\n\n    .dataframe thead th {\n        text-align: right;\n    }\n</style>\n<table border=\"1\" class=\"dataframe\">\n  <thead>\n    <tr style=\"text-align: right;\">\n      <th></th>\n      <th>hotel</th>\n      <th>is_canceled</th>\n      <th>lead_time</th>\n      <th>arrival_date_year</th>\n      <th>arrival_date_month</th>\n      <th>arrival_date_week_number</th>\n      <th>arrival_date_day_of_month</th>\n      <th>stays_in_weekend_nights</th>\n      <th>stays_in_week_nights</th>\n      <th>adults</th>\n      <th>...</th>\n      <th>deposit_type</th>\n      <th>agent</th>\n      <th>company</th>\n      <th>days_in_waiting_list</th>\n      <th>customer_type</th>\n      <th>adr</th>\n      <th>required_car_parking_spaces</th>\n      <th>total_of_special_requests</th>\n      <th>reservation_status</th>\n      <th>reservation_status_date</th>\n    </tr>\n  </thead>\n  <tbody>\n    <tr>\n      <th>0</th>\n      <td>Resort Hotel</td>\n      <td>0</td>\n      <td>342</td>\n      <td>2015</td>\n      <td>July</td>\n      <td>27</td>\n      <td>1</td>\n      <td>0</td>\n      <td>0</td>\n      <td>2</td>\n      <td>...</td>\n      <td>No Deposit</td>\n      <td>NaN</td>\n      <td>NaN</td>\n      <td>0</td>\n      <td>Transient</td>\n      <td>0.0</td>\n      <td>0</td>\n      <td>0</td>\n      <td>Check-Out</td>\n      <td>1/7/2015</td>\n    </tr>\n    <tr>\n      <th>1</th>\n      <td>Resort Hotel</td>\n      <td>0</td>\n      <td>737</td>\n      <td>2015</td>\n      <td>July</td>\n      <td>27</td>\n      <td>1</td>\n      <td>0</td>\n      <td>0</td>\n      <td>2</td>\n      <td>...</td>\n      <td>No Deposit</td>\n      <td>NaN</td>\n      <td>NaN</td>\n      <td>0</td>\n      <td>Transient</td>\n      <td>0.0</td>\n      <td>0</td>\n      <td>0</td>\n      <td>Check-Out</td>\n      <td>1/7/2015</td>\n    </tr>\n    <tr>\n      <th>2</th>\n      <td>Resort Hotel</td>\n      <td>0</td>\n      <td>7</td>\n      <td>2015</td>\n      <td>July</td>\n      <td>27</td>\n      <td>1</td>\n      <td>0</td>\n      <td>1</td>\n      <td>1</td>\n      <td>...</td>\n      <td>No Deposit</td>\n      <td>NaN</td>\n      <td>NaN</td>\n      <td>0</td>\n      <td>Transient</td>\n      <td>75.0</td>\n      <td>0</td>\n      <td>0</td>\n      <td>Check-Out</td>\n      <td>2/7/2015</td>\n    </tr>\n    <tr>\n      <th>3</th>\n      <td>Resort Hotel</td>\n      <td>0</td>\n      <td>13</td>\n      <td>2015</td>\n      <td>July</td>\n      <td>27</td>\n      <td>1</td>\n      <td>0</td>\n      <td>1</td>\n      <td>1</td>\n      <td>...</td>\n      <td>No Deposit</td>\n      <td>304.0</td>\n      <td>NaN</td>\n      <td>0</td>\n      <td>Transient</td>\n      <td>75.0</td>\n      <td>0</td>\n      <td>0</td>\n      <td>Check-Out</td>\n      <td>2/7/2015</td>\n    </tr>\n    <tr>\n      <th>4</th>\n      <td>Resort Hotel</td>\n      <td>0</td>\n      <td>14</td>\n      <td>2015</td>\n      <td>July</td>\n      <td>27</td>\n      <td>1</td>\n      <td>0</td>\n      <td>2</td>\n      <td>2</td>\n      <td>...</td>\n      <td>No Deposit</td>\n      <td>240.0</td>\n      <td>NaN</td>\n      <td>0</td>\n      <td>Transient</td>\n      <td>98.0</td>\n      <td>0</td>\n      <td>1</td>\n      <td>Check-Out</td>\n      <td>3/7/2015</td>\n    </tr>\n  </tbody>\n</table>\n<p>5 rows × 32 columns</p>\n</div>"
     },
     "execution_count": 2,
     "metadata": {},
     "output_type": "execute_result"
    }
   ],
   "source": [
    "data = pd.read_csv('hotel_bookings.csv')\n",
    "data.head()"
   ],
   "metadata": {
    "collapsed": false
   }
  },
  {
   "cell_type": "code",
   "execution_count": 3,
   "outputs": [
    {
     "data": {
      "text/plain": "Index(['hotel', 'is_canceled', 'lead_time', 'arrival_date_year',\n       'arrival_date_month', 'arrival_date_week_number',\n       'arrival_date_day_of_month', 'stays_in_weekend_nights',\n       'stays_in_week_nights', 'adults', 'children', 'babies', 'meal',\n       'country', 'market_segment', 'distribution_channel',\n       'is_repeated_guest', 'previous_cancellations',\n       'previous_bookings_not_canceled', 'reserved_room_type',\n       'assigned_room_type', 'booking_changes', 'deposit_type', 'agent',\n       'company', 'days_in_waiting_list', 'customer_type', 'adr',\n       'required_car_parking_spaces', 'total_of_special_requests',\n       'reservation_status', 'reservation_status_date'],\n      dtype='object')"
     },
     "execution_count": 3,
     "metadata": {},
     "output_type": "execute_result"
    }
   ],
   "source": [
    "data.columns"
   ],
   "metadata": {
    "collapsed": false
   }
  },
  {
   "cell_type": "markdown",
   "source": [
    "# Part I\n",
    "## Data Cleaning"
   ],
   "metadata": {
    "collapsed": false
   }
  },
  {
   "cell_type": "markdown",
   "source": [
    "### Missing Values Checks and Imputation"
   ],
   "metadata": {
    "collapsed": false
   }
  },
  {
   "cell_type": "code",
   "execution_count": 13,
   "outputs": [
    {
     "data": {
      "text/plain": "129425"
     },
     "execution_count": 13,
     "metadata": {},
     "output_type": "execute_result"
    }
   ],
   "source": [
    "# Check count of total missing items\n",
    "data.isna().sum().sum()"
   ],
   "metadata": {
    "collapsed": false
   }
  },
  {
   "cell_type": "code",
   "execution_count": 30,
   "outputs": [
    {
     "name": "stdout",
     "output_type": "stream",
     "text": [
      "['hotel', 'is_canceled', 'lead_time', 'arrival_date_year', 'arrival_date_month', 'arrival_date_week_number', 'arrival_date_day_of_month', 'stays_in_weekend_nights', 'stays_in_week_nights', 'adults', 'children', 'babies', 'meal', 'country', 'market_segment', 'distribution_channel', 'is_repeated_guest', 'previous_cancellations', 'previous_bookings_not_canceled', 'reserved_room_type', 'assigned_room_type', 'booking_changes', 'deposit_type', 'agent', 'company', 'days_in_waiting_list', 'customer_type', 'adr', 'required_car_parking_spaces', 'total_of_special_requests', 'reservation_status', 'reservation_status_date']\n"
     ]
    }
   ],
   "source": [
    "print([column for column in data.columns])"
   ],
   "metadata": {
    "collapsed": false
   }
  },
  {
   "cell_type": "code",
   "execution_count": 35,
   "outputs": [
    {
     "data": {
      "text/plain": "children         4\ncountry        488\nagent        16340\ncompany     112593\ndtype: int64"
     },
     "execution_count": 35,
     "metadata": {},
     "output_type": "execute_result"
    }
   ],
   "source": [
    "# Check columns which have missing values and missing value counts\n",
    "data[data.columns[data.isnull().any()]].isnull().sum()"
   ],
   "metadata": {
    "collapsed": false
   }
  },
  {
   "cell_type": "markdown",
   "source": [
    "#### Company has missing values across almost the entire dataset, and country has about 10% of all records with null values"
   ],
   "metadata": {
    "collapsed": false
   }
  },
  {
   "cell_type": "code",
   "execution_count": 58,
   "outputs": [
    {
     "data": {
      "text/plain": "  market_segment distribution_channel  company  agent country\n0         Direct               Direct      NaN    NaN     PRT\n1         Direct               Direct      NaN    NaN     PRT\n2         Direct               Direct      NaN    NaN     GBR\n3      Corporate            Corporate      NaN  304.0     GBR\n4      Online TA                TA/TO      NaN  240.0     GBR\n5      Online TA                TA/TO      NaN  240.0     GBR\n6         Direct               Direct      NaN    NaN     PRT\n7         Direct               Direct      NaN  303.0     PRT\n8      Online TA                TA/TO      NaN  240.0     PRT\n9  Offline TA/TO                TA/TO      NaN   15.0     PRT",
      "text/html": "<div>\n<style scoped>\n    .dataframe tbody tr th:only-of-type {\n        vertical-align: middle;\n    }\n\n    .dataframe tbody tr th {\n        vertical-align: top;\n    }\n\n    .dataframe thead th {\n        text-align: right;\n    }\n</style>\n<table border=\"1\" class=\"dataframe\">\n  <thead>\n    <tr style=\"text-align: right;\">\n      <th></th>\n      <th>market_segment</th>\n      <th>distribution_channel</th>\n      <th>company</th>\n      <th>agent</th>\n      <th>country</th>\n    </tr>\n  </thead>\n  <tbody>\n    <tr>\n      <th>0</th>\n      <td>Direct</td>\n      <td>Direct</td>\n      <td>NaN</td>\n      <td>NaN</td>\n      <td>PRT</td>\n    </tr>\n    <tr>\n      <th>1</th>\n      <td>Direct</td>\n      <td>Direct</td>\n      <td>NaN</td>\n      <td>NaN</td>\n      <td>PRT</td>\n    </tr>\n    <tr>\n      <th>2</th>\n      <td>Direct</td>\n      <td>Direct</td>\n      <td>NaN</td>\n      <td>NaN</td>\n      <td>GBR</td>\n    </tr>\n    <tr>\n      <th>3</th>\n      <td>Corporate</td>\n      <td>Corporate</td>\n      <td>NaN</td>\n      <td>304.0</td>\n      <td>GBR</td>\n    </tr>\n    <tr>\n      <th>4</th>\n      <td>Online TA</td>\n      <td>TA/TO</td>\n      <td>NaN</td>\n      <td>240.0</td>\n      <td>GBR</td>\n    </tr>\n    <tr>\n      <th>5</th>\n      <td>Online TA</td>\n      <td>TA/TO</td>\n      <td>NaN</td>\n      <td>240.0</td>\n      <td>GBR</td>\n    </tr>\n    <tr>\n      <th>6</th>\n      <td>Direct</td>\n      <td>Direct</td>\n      <td>NaN</td>\n      <td>NaN</td>\n      <td>PRT</td>\n    </tr>\n    <tr>\n      <th>7</th>\n      <td>Direct</td>\n      <td>Direct</td>\n      <td>NaN</td>\n      <td>303.0</td>\n      <td>PRT</td>\n    </tr>\n    <tr>\n      <th>8</th>\n      <td>Online TA</td>\n      <td>TA/TO</td>\n      <td>NaN</td>\n      <td>240.0</td>\n      <td>PRT</td>\n    </tr>\n    <tr>\n      <th>9</th>\n      <td>Offline TA/TO</td>\n      <td>TA/TO</td>\n      <td>NaN</td>\n      <td>15.0</td>\n      <td>PRT</td>\n    </tr>\n  </tbody>\n</table>\n</div>"
     },
     "execution_count": 58,
     "metadata": {},
     "output_type": "execute_result"
    }
   ],
   "source": [
    "# check missing values for company their country, segment, distribution channel, and agent values\n",
    "data.query('company.isnull() == True')[['market_segment','distribution_channel', 'company', 'agent', 'country']].head(10)"
   ],
   "metadata": {
    "collapsed": false
   }
  },
  {
   "cell_type": "code",
   "execution_count": 67,
   "outputs": [
    {
     "name": "stdout",
     "output_type": "stream",
     "text": [
      "                                     company  agent\n",
      "market_segment distribution_channel                \n",
      "Aviation       Corporate                   0     23\n",
      "               TA/TO                       0      2\n",
      "Complementary  Corporate                   0      8\n",
      "               Direct                      0     33\n",
      "               TA/TO                       0     60\n",
      "Corporate      Corporate                   0    552\n",
      "               Direct                      0      5\n",
      "               TA/TO                       0     13\n",
      "Direct         Corporate                   0     13\n",
      "               Direct                      0   6496\n",
      "               GDS                         0      0\n",
      "               TA/TO                       0     68\n",
      "               Undefined                   0      1\n",
      "Groups         Corporate                   0    183\n",
      "               Direct                      0    392\n",
      "               TA/TO                       0  15087\n",
      "Offline TA/TO  Corporate                   0    211\n",
      "               Direct                      0     12\n",
      "               GDS                         0     45\n",
      "               TA/TO                       0  23544\n",
      "Online TA      Corporate                   0     12\n",
      "               Direct                      0     62\n",
      "               GDS                         0    145\n",
      "               TA/TO                       0  55865\n",
      "               Undefined                   0      1\n",
      "Undefined      Undefined                   0      0\n"
     ]
    }
   ],
   "source": [
    "# group these by market segment and dist channel to see patterns\n",
    "print(data.query('company.isnull() == True').groupby(['market_segment', 'distribution_channel'])[['company', 'agent']].count())"
   ],
   "metadata": {
    "collapsed": false
   }
  },
  {
   "cell_type": "code",
   "execution_count": 81,
   "outputs": [
    {
     "name": "stderr",
     "output_type": "stream",
     "text": [
      "  0%|          | 0/102833 [00:00<?, ?it/s]C:\\Users\\fight\\AppData\\Local\\Temp\\ipykernel_39316\\1067996775.py:5: SettingWithCopyWarning: \n",
      "A value is trying to be set on a copy of a slice from a DataFrame\n",
      "\n",
      "See the caveats in the documentation: https://pandas.pydata.org/pandas-docs/stable/user_guide/indexing.html#returning-a-view-versus-a-copy\n",
      "  data['company'][idx] = 0\n",
      "100%|██████████| 102833/102833 [00:18<00:00, 5610.62it/s]\n"
     ]
    }
   ],
   "source": [
    "# we can assign company to 0 if the agent column has a value\n",
    "# lets try this and see how many missing values we are left with\n",
    "index_range = data.query('company.isnull() == True and agent.isnull() == False').index\n",
    "for idx in tqdm(index_range):\n",
    "    data.loc[idx:idx, 'company'] = 0"
   ],
   "metadata": {
    "collapsed": false
   }
  },
  {
   "cell_type": "code",
   "execution_count": 82,
   "outputs": [
    {
     "data": {
      "text/plain": "9760"
     },
     "execution_count": 82,
     "metadata": {},
     "output_type": "execute_result"
    }
   ],
   "source": [
    "# check the number of leftover nulls\n",
    "data.company.isnull().sum()"
   ],
   "metadata": {
    "collapsed": false
   }
  },
  {
   "cell_type": "code",
   "execution_count": 84,
   "outputs": [
    {
     "name": "stderr",
     "output_type": "stream",
     "text": [
      "  0%|          | 0/9760 [00:00<?, ?it/s]C:\\Users\\fight\\AppData\\Local\\Temp\\ipykernel_39316\\4204530474.py:4: SettingWithCopyWarning: \n",
      "A value is trying to be set on a copy of a slice from a DataFrame\n",
      "\n",
      "See the caveats in the documentation: https://pandas.pydata.org/pandas-docs/stable/user_guide/indexing.html#returning-a-view-versus-a-copy\n",
      "  data['company'].iloc[idx] = 0\n",
      "100%|██████████| 9760/9760 [00:01<00:00, 5122.02it/s]\n"
     ]
    }
   ],
   "source": [
    "# if both company and agent are null, we can replace both of their nulls with 0\n",
    "index_range = data.query('company.isnull() == True and agent.isnull() == True').index\n",
    "for idx in tqdm(index_range):\n",
    "    data.loc[idx:idx, 'company'] = 0"
   ],
   "metadata": {
    "collapsed": false
   }
  },
  {
   "cell_type": "code",
   "execution_count": 85,
   "outputs": [
    {
     "data": {
      "text/plain": "0"
     },
     "execution_count": 85,
     "metadata": {},
     "output_type": "execute_result"
    }
   ],
   "source": [
    "# check the number of leftover nulls\n",
    "data.company.isnull().sum()"
   ],
   "metadata": {
    "collapsed": false
   }
  },
  {
   "cell_type": "code",
   "execution_count": 94,
   "outputs": [
    {
     "name": "stderr",
     "output_type": "stream",
     "text": [
      "100%|██████████| 16340/16340 [00:00<00:00, 17774.45it/s]\n"
     ]
    }
   ],
   "source": [
    "import tqdm\n",
    "# repeat the process on agent\n",
    "index_range = data.query('company.isnull() == False and agent.isnull() == True').index\n",
    "for idx in tqdm.tqdm(index_range):\n",
    "    data.loc[idx:idx,'agent'] = 0"
   ],
   "metadata": {
    "collapsed": false
   }
  },
  {
   "cell_type": "code",
   "execution_count": 95,
   "outputs": [
    {
     "data": {
      "text/plain": "0"
     },
     "execution_count": 95,
     "metadata": {},
     "output_type": "execute_result"
    }
   ],
   "source": [
    "data.agent.isnull().sum()"
   ],
   "metadata": {
    "collapsed": false
   }
  },
  {
   "cell_type": "markdown",
   "source": [
    "###### Voila! We now have no more nulls for agent or company without having to drop any missing columns"
   ],
   "metadata": {
    "collapsed": false
   }
  },
  {
   "cell_type": "code",
   "execution_count": 96,
   "outputs": [
    {
     "data": {
      "text/plain": "        children country\n30           0.0     NaN\n4127         0.0     NaN\n7092         0.0     NaN\n7860         0.0     NaN\n8779         0.0     NaN\n...          ...     ...\n65908        0.0     NaN\n65909        0.0     NaN\n65910        0.0     NaN\n80830        0.0     NaN\n101488       0.0     NaN\n\n[488 rows x 2 columns]",
      "text/html": "<div>\n<style scoped>\n    .dataframe tbody tr th:only-of-type {\n        vertical-align: middle;\n    }\n\n    .dataframe tbody tr th {\n        vertical-align: top;\n    }\n\n    .dataframe thead th {\n        text-align: right;\n    }\n</style>\n<table border=\"1\" class=\"dataframe\">\n  <thead>\n    <tr style=\"text-align: right;\">\n      <th></th>\n      <th>children</th>\n      <th>country</th>\n    </tr>\n  </thead>\n  <tbody>\n    <tr>\n      <th>30</th>\n      <td>0.0</td>\n      <td>NaN</td>\n    </tr>\n    <tr>\n      <th>4127</th>\n      <td>0.0</td>\n      <td>NaN</td>\n    </tr>\n    <tr>\n      <th>7092</th>\n      <td>0.0</td>\n      <td>NaN</td>\n    </tr>\n    <tr>\n      <th>7860</th>\n      <td>0.0</td>\n      <td>NaN</td>\n    </tr>\n    <tr>\n      <th>8779</th>\n      <td>0.0</td>\n      <td>NaN</td>\n    </tr>\n    <tr>\n      <th>...</th>\n      <td>...</td>\n      <td>...</td>\n    </tr>\n    <tr>\n      <th>65908</th>\n      <td>0.0</td>\n      <td>NaN</td>\n    </tr>\n    <tr>\n      <th>65909</th>\n      <td>0.0</td>\n      <td>NaN</td>\n    </tr>\n    <tr>\n      <th>65910</th>\n      <td>0.0</td>\n      <td>NaN</td>\n    </tr>\n    <tr>\n      <th>80830</th>\n      <td>0.0</td>\n      <td>NaN</td>\n    </tr>\n    <tr>\n      <th>101488</th>\n      <td>0.0</td>\n      <td>NaN</td>\n    </tr>\n  </tbody>\n</table>\n<p>488 rows × 2 columns</p>\n</div>"
     },
     "execution_count": 96,
     "metadata": {},
     "output_type": "execute_result"
    }
   ],
   "source": [
    "data.query('country.isnull() == True')[data.columns[data.isnull().any()]]"
   ],
   "metadata": {
    "collapsed": false
   }
  },
  {
   "cell_type": "code",
   "execution_count": 139,
   "outputs": [
    {
     "data": {
      "text/plain": "                                                  is_canceled\nhotel        distribution_channel market_segment             \nCity Hotel   Corporate            Complementary             7\n             Direct               Corporate                 1\n                                  Direct                    1\n             TA/TO                Groups                    1\n                                  Offline TA/TO            14\nResort Hotel Corporate            Corporate               173\n                                  Direct                    6\n             Direct               Complementary             2\n                                  Corporate                 7\n                                  Direct                  145\n                                  Groups                    4\n                                  Online TA                 2\n             TA/TO                Corporate                 3\n                                  Direct                    5\n                                  Offline TA/TO            45\n                                  Online TA                72",
      "text/html": "<div>\n<style scoped>\n    .dataframe tbody tr th:only-of-type {\n        vertical-align: middle;\n    }\n\n    .dataframe tbody tr th {\n        vertical-align: top;\n    }\n\n    .dataframe thead th {\n        text-align: right;\n    }\n</style>\n<table border=\"1\" class=\"dataframe\">\n  <thead>\n    <tr style=\"text-align: right;\">\n      <th></th>\n      <th></th>\n      <th></th>\n      <th>is_canceled</th>\n    </tr>\n    <tr>\n      <th>hotel</th>\n      <th>distribution_channel</th>\n      <th>market_segment</th>\n      <th></th>\n    </tr>\n  </thead>\n  <tbody>\n    <tr>\n      <th rowspan=\"5\" valign=\"top\">City Hotel</th>\n      <th>Corporate</th>\n      <th>Complementary</th>\n      <td>7</td>\n    </tr>\n    <tr>\n      <th rowspan=\"2\" valign=\"top\">Direct</th>\n      <th>Corporate</th>\n      <td>1</td>\n    </tr>\n    <tr>\n      <th>Direct</th>\n      <td>1</td>\n    </tr>\n    <tr>\n      <th rowspan=\"2\" valign=\"top\">TA/TO</th>\n      <th>Groups</th>\n      <td>1</td>\n    </tr>\n    <tr>\n      <th>Offline TA/TO</th>\n      <td>14</td>\n    </tr>\n    <tr>\n      <th rowspan=\"11\" valign=\"top\">Resort Hotel</th>\n      <th rowspan=\"2\" valign=\"top\">Corporate</th>\n      <th>Corporate</th>\n      <td>173</td>\n    </tr>\n    <tr>\n      <th>Direct</th>\n      <td>6</td>\n    </tr>\n    <tr>\n      <th rowspan=\"5\" valign=\"top\">Direct</th>\n      <th>Complementary</th>\n      <td>2</td>\n    </tr>\n    <tr>\n      <th>Corporate</th>\n      <td>7</td>\n    </tr>\n    <tr>\n      <th>Direct</th>\n      <td>145</td>\n    </tr>\n    <tr>\n      <th>Groups</th>\n      <td>4</td>\n    </tr>\n    <tr>\n      <th>Online TA</th>\n      <td>2</td>\n    </tr>\n    <tr>\n      <th rowspan=\"4\" valign=\"top\">TA/TO</th>\n      <th>Corporate</th>\n      <td>3</td>\n    </tr>\n    <tr>\n      <th>Direct</th>\n      <td>5</td>\n    </tr>\n    <tr>\n      <th>Offline TA/TO</th>\n      <td>45</td>\n    </tr>\n    <tr>\n      <th>Online TA</th>\n      <td>72</td>\n    </tr>\n  </tbody>\n</table>\n</div>"
     },
     "execution_count": 139,
     "metadata": {},
     "output_type": "execute_result"
    }
   ],
   "source": [
    "# For null country values, there are no overlapping missing values under children\n",
    "# let's check country stats with hotel and market segment\n",
    "pd.options.display.max_rows = 16\n",
    "data.query('country.isnull() == True').groupby(['hotel', 'distribution_channel', 'market_segment', ])[['is_canceled']].count()"
   ],
   "metadata": {
    "collapsed": false
   }
  },
  {
   "cell_type": "code",
   "execution_count": 116,
   "outputs": [],
   "source": [
    "pd.set_option('display.max_rows', 10)"
   ],
   "metadata": {
    "collapsed": false
   }
  },
  {
   "cell_type": "markdown",
   "source": [
    "(\n",
    "(hotel == \"City Hotel\" and (\n",
    "(distribution_channel == \"Corporate\" and market_segment == \"Complementary\") or\n",
    "(distribution_channel == \"Direct\" and (market_segment == \"Corporate\" or market_segment == \"Direct\")) or\n",
    "(distribution_channel == \"TA/TO\" and (market_segment == \"Groups\" or market_segment == \"Offline TA/TO\"))\n",
    "))\n",
    "or\n",
    "(hotel == \"Resort Hotel\" and (\n",
    "(distribution_channel == \"Corporate\" and (market_segment == \"Corporate\" or market_segment == \"Direct\")) or\n",
    "(distribution_channel == \"Direct\" and (market_segment == \"Corporate\" or market_segment == \"Direct\" or market_segment == \"Complementary\"))\n",
    "))\n",
    ")\n",
    "\n",
    "market_segment == \"Corporate\" or market_segment == \"Direct\" or market_segment == \"Groups\" or market_segment == \"Offline TA/TO\") and (distribution_channel == \"Direct\" or distribution_channel == \"Corporate\" or distribution_channel == \"TA/TO\")"
   ],
   "metadata": {
    "collapsed": false
   }
  },
  {
   "cell_type": "code",
   "execution_count": 153,
   "outputs": [],
   "source": [
    "# Now let's check the mode of countries of each type\n",
    "grouped = data.query('country.isnull() == False and'\n",
    "           '('\n",
    "           '(hotel == \"City Hotel\" and ('\n",
    "           '(distribution_channel == \"Corporate\" and market_segment == \"Complementary\") or'\n",
    "           '(distribution_channel ==\"Direct\" and (market_segment == \"Corporate\" or market_segment == \"Direct\")) or'\n",
    "           '(distribution_channel == \"TA/TO\" and (market_segment == \"Groups\" or market_segment == \"Offline TA/TO\"))'\n",
    "           ')) or'\n",
    "           '(hotel == \"Resort Hotel\" and ('\n",
    "           '(distribution_channel == \"Corporate\" and (market_segment == \"Corporate\" or market_segment == \"Direct\")) or'\n",
    "           '(distribution_channel == \"Direct\" and (market_segment == \"Corporate\" or market_segment == \"Direct\" or market_segment == \"Complementary\"))'\n",
    "           '))'\n",
    "           ')')\\\n",
    "    .groupby(['hotel', 'distribution_channel', 'market_segment', 'country'])['is_canceled'].count().sort_values(ascending = False)"
   ],
   "metadata": {
    "collapsed": false
   }
  },
  {
   "cell_type": "markdown",
   "source": [],
   "metadata": {
    "collapsed": false
   }
  },
  {
   "cell_type": "code",
   "execution_count": 156,
   "outputs": [],
   "source": [
    "max_counts = grouped.groupby(level=['hotel', 'distribution_channel', 'market_segment']).idxmax()"
   ],
   "metadata": {
    "collapsed": false
   }
  },
  {
   "cell_type": "code",
   "execution_count": 157,
   "outputs": [
    {
     "data": {
      "text/plain": "hotel       distribution_channel  market_segment\nCity Hotel  Corporate             Complementary     (City Hotel, Corporate, Complementary, PRT)\n            Direct                Corporate                (City Hotel, Direct, Corporate, PRT)\n                                  Direct                      (City Hotel, Direct, Direct, PRT)\n            TA/TO                 Groups                       (City Hotel, TA/TO, Groups, PRT)\n                                  Offline TA/TO         (City Hotel, TA/TO, Offline TA/TO, PRT)\nName: is_canceled, dtype: object"
     },
     "execution_count": 157,
     "metadata": {},
     "output_type": "execute_result"
    }
   ],
   "source": [
    "max_counts.head()"
   ],
   "metadata": {
    "collapsed": false
   }
  },
  {
   "cell_type": "code",
   "execution_count": 158,
   "outputs": [
    {
     "data": {
      "text/plain": "hotel         distribution_channel  market_segment  country\nCity Hotel    TA/TO                 Groups          PRT        10804\n                                    Offline TA/TO   PRT         9381\nResort Hotel  Direct                Direct          PRT         3626\nCity Hotel    Direct                Direct          PRT         2048\nResort Hotel  Corporate             Corporate       PRT         1711\n              Direct                Complementary   PRT          122\n                                    Corporate       PRT           93\nCity Hotel    Corporate             Complementary   PRT           61\nResort Hotel  Corporate             Direct          PRT           54\nCity Hotel    Direct                Corporate       PRT           35\nName: is_canceled, dtype: int64"
     },
     "execution_count": 158,
     "metadata": {},
     "output_type": "execute_result"
    }
   ],
   "source": [
    "result = grouped.loc[max_counts].sort_values(ascending=False)\n",
    "result"
   ],
   "metadata": {
    "collapsed": false
   }
  },
  {
   "cell_type": "code",
   "execution_count": 159,
   "outputs": [
    {
     "data": {
      "text/plain": "0"
     },
     "execution_count": 159,
     "metadata": {},
     "output_type": "execute_result"
    }
   ],
   "source": [
    "# As we can see, the modal value for country in all categories is PRT (Portugal) let's replace NA's with this\n",
    "data.country = data.country.fillna('PRT')\n",
    "data.country.isnull().sum()"
   ],
   "metadata": {
    "collapsed": false
   }
  },
  {
   "cell_type": "code",
   "execution_count": 160,
   "outputs": [
    {
     "data": {
      "text/plain": "0"
     },
     "execution_count": 160,
     "metadata": {},
     "output_type": "execute_result"
    }
   ],
   "source": [
    "# Finally, since there are only 4 columns with children, we can safely set these to 0\n",
    "data.children = data.children.fillna(0)\n",
    "data.isnull().sum().sum()"
   ],
   "metadata": {
    "collapsed": false
   }
  },
  {
   "cell_type": "markdown",
   "source": [
    "#### Missing Values Have now been dealt with. Yay!"
   ],
   "metadata": {
    "collapsed": false
   }
  },
  {
   "cell_type": "markdown",
   "source": [
    "### Type Checking and Corrections"
   ],
   "metadata": {
    "collapsed": false
   }
  },
  {
   "cell_type": "code",
   "execution_count": 162,
   "outputs": [
    {
     "name": "stdout",
     "output_type": "stream",
     "text": [
      "<class 'pandas.core.frame.DataFrame'>\n",
      "RangeIndex: 119390 entries, 0 to 119389\n",
      "Data columns (total 32 columns):\n",
      " #   Column                          Non-Null Count   Dtype  \n",
      "---  ------                          --------------   -----  \n",
      " 0   hotel                           119390 non-null  object \n",
      " 1   is_canceled                     119390 non-null  int64  \n",
      " 2   lead_time                       119390 non-null  int64  \n",
      " 3   arrival_date_year               119390 non-null  int64  \n",
      " 4   arrival_date_month              119390 non-null  object \n",
      " 5   arrival_date_week_number        119390 non-null  int64  \n",
      " 6   arrival_date_day_of_month       119390 non-null  int64  \n",
      " 7   stays_in_weekend_nights         119390 non-null  int64  \n",
      " 8   stays_in_week_nights            119390 non-null  int64  \n",
      " 9   adults                          119390 non-null  int64  \n",
      " 10  children                        119390 non-null  float64\n",
      " 11  babies                          119390 non-null  int64  \n",
      " 12  meal                            119390 non-null  object \n",
      " 13  country                         119390 non-null  object \n",
      " 14  market_segment                  119390 non-null  object \n",
      " 15  distribution_channel            119390 non-null  object \n",
      " 16  is_repeated_guest               119390 non-null  int64  \n",
      " 17  previous_cancellations          119390 non-null  int64  \n",
      " 18  previous_bookings_not_canceled  119390 non-null  int64  \n",
      " 19  reserved_room_type              119390 non-null  object \n",
      " 20  assigned_room_type              119390 non-null  object \n",
      " 21  booking_changes                 119390 non-null  int64  \n",
      " 22  deposit_type                    119390 non-null  object \n",
      " 23  agent                           119390 non-null  float64\n",
      " 24  company                         119390 non-null  float64\n",
      " 25  days_in_waiting_list            119390 non-null  int64  \n",
      " 26  customer_type                   119390 non-null  object \n",
      " 27  adr                             119390 non-null  float64\n",
      " 28  required_car_parking_spaces     119390 non-null  int64  \n",
      " 29  total_of_special_requests       119390 non-null  int64  \n",
      " 30  reservation_status              119390 non-null  object \n",
      " 31  reservation_status_date         119390 non-null  object \n",
      "dtypes: float64(4), int64(16), object(12)\n",
      "memory usage: 29.1+ MB\n"
     ]
    }
   ],
   "source": [
    "data.info()"
   ],
   "metadata": {
    "collapsed": false
   }
  },
  {
   "cell_type": "code",
   "execution_count": 166,
   "outputs": [
    {
     "data": {
      "text/plain": "array(['Check-Out', 'Canceled', 'No-Show'], dtype=object)"
     },
     "execution_count": 166,
     "metadata": {},
     "output_type": "execute_result"
    }
   ],
   "source": [
    "data.reservation_status.unique()"
   ],
   "metadata": {
    "collapsed": false
   }
  },
  {
   "cell_type": "code",
   "execution_count": 181,
   "outputs": [
    {
     "data": {
      "text/plain": "(-10.0, 1000.0)"
     },
     "execution_count": 181,
     "metadata": {},
     "output_type": "execute_result"
    },
    {
     "data": {
      "text/plain": "<Figure size 640x480 with 1 Axes>",
      "image/png": "[encoded data removed]"
     },
     "metadata": {},
     "output_type": "display_data"
    }
   ],
   "source": [
    "sb.scatterplot(data=data.query('is_canceled == 1'), y='adr', x='lead_time')"
   ],
   "metadata": {
    "collapsed": false
   }
  },
  {
   "cell_type": "code",
   "execution_count": 201,
   "outputs": [
    {
     "data": {
      "text/plain": "               hotel  is_canceled  lead_time  arrival_date_year  \\\n140     Resort Hotel            0         44               2015   \n303     Resort Hotel            0         79               2015   \n396     Resort Hotel            0        317               2015   \n412     Resort Hotel            0         37               2015   \n523     Resort Hotel            0          0               2015   \n...              ...          ...        ...                ...   \n119251    City Hotel            0        140               2017   \n119289    City Hotel            0         25               2017   \n119339    City Hotel            0        110               2017   \n119365    City Hotel            0         54               2017   \n119386    City Hotel            0        102               2017   \n\n       arrival_date_month  arrival_date_week_number  \\\n140                  July                        28   \n303                  July                        28   \n396                  July                        29   \n412                  July                        29   \n523                  July                        29   \n...                   ...                       ...   \n119251             August                        35   \n119289             August                        35   \n119339             August                        35   \n119365             August                        35   \n119386             August                        35   \n\n        arrival_date_day_of_month  stays_in_weekend_nights  \\\n140                             5                        2   \n303                            11                        2   \n396                            14                        1   \n412                            15                        2   \n523                            18                        0   \n...                           ...                      ...   \n119251                         27                        2   \n119289                         30                        0   \n119339                         29                        0   \n119365                         27                        3   \n119386                         31                        2   \n\n        stays_in_week_nights  adults  ...  deposit_type  agent company  \\\n140                        0       3  ...    No Deposit  240.0     0.0   \n303                        6       2  ...    No Deposit  250.0     0.0   \n396                        5       2  ...    No Deposit  240.0     0.0   \n412                        6       2  ...    No Deposit  240.0     0.0   \n523                        1       2  ...    No Deposit    0.0     0.0   \n...                      ...     ...  ...           ...    ...     ...   \n119251                     3       2  ...    No Deposit    9.0     0.0   \n119289                     3       3  ...    No Deposit    9.0     0.0   \n119339                     5       3  ...    No Deposit   14.0     0.0   \n119365                     5       1  ...    No Deposit   14.0     0.0   \n119386                     5       3  ...    No Deposit    9.0     0.0   \n\n       days_in_waiting_list customer_type     adr  \\\n140                       0     Transient  225.00   \n303                       0     Transient  213.75   \n396                       0     Transient  230.67   \n412                       0     Transient  216.13   \n523                       0     Transient  249.00   \n...                     ...           ...     ...   \n119251                    0     Transient  235.00   \n119289                    0     Transient  236.33   \n119339                    0     Transient  229.00   \n119365                    0     Transient  266.75   \n119386                    0     Transient  225.43   \n\n        required_car_parking_spaces  total_of_special_requests  \\\n140                               2                          0   \n303                               0                          0   \n396                               1                          2   \n412                               1                          0   \n523                               0                          0   \n...                             ...                        ...   \n119251                            0                          0   \n119289                            0                          3   \n119339                            0                          1   \n119365                            0                          1   \n119386                            0                          2   \n\n        reservation_status reservation_status_date  \n140              Check-Out                7/7/2015  \n303              Check-Out               19/7/2015  \n396              Check-Out               20/7/2015  \n412              Check-Out               23/7/2015  \n523              Check-Out               19/7/2015  \n...                    ...                     ...  \n119251           Check-Out                1/9/2017  \n119289           Check-Out                2/9/2017  \n119339           Check-Out                3/9/2017  \n119365           Check-Out                4/9/2017  \n119386           Check-Out                7/9/2017  \n\n[3793 rows x 32 columns]",
      "text/html": "<div>\n<style scoped>\n    .dataframe tbody tr th:only-of-type {\n        vertical-align: middle;\n    }\n\n    .dataframe tbody tr th {\n        vertical-align: top;\n    }\n\n    .dataframe thead th {\n        text-align: right;\n    }\n</style>\n<table border=\"1\" class=\"dataframe\">\n  <thead>\n    <tr style=\"text-align: right;\">\n      <th></th>\n      <th>hotel</th>\n      <th>is_canceled</th>\n      <th>lead_time</th>\n      <th>arrival_date_year</th>\n      <th>arrival_date_month</th>\n      <th>arrival_date_week_number</th>\n      <th>arrival_date_day_of_month</th>\n      <th>stays_in_weekend_nights</th>\n      <th>stays_in_week_nights</th>\n      <th>adults</th>\n      <th>...</th>\n      <th>deposit_type</th>\n      <th>agent</th>\n      <th>company</th>\n      <th>days_in_waiting_list</th>\n      <th>customer_type</th>\n      <th>adr</th>\n      <th>required_car_parking_spaces</th>\n      <th>total_of_special_requests</th>\n      <th>reservation_status</th>\n      <th>reservation_status_date</th>\n    </tr>\n  </thead>\n  <tbody>\n    <tr>\n      <th>140</th>\n      <td>Resort Hotel</td>\n      <td>0</td>\n      <td>44</td>\n      <td>2015</td>\n      <td>July</td>\n      <td>28</td>\n      <td>5</td>\n      <td>2</td>\n      <td>0</td>\n      <td>3</td>\n      <td>...</td>\n      <td>No Deposit</td>\n      <td>240.0</td>\n      <td>0.0</td>\n      <td>0</td>\n      <td>Transient</td>\n      <td>225.00</td>\n      <td>2</td>\n      <td>0</td>\n      <td>Check-Out</td>\n      <td>7/7/2015</td>\n    </tr>\n    <tr>\n      <th>303</th>\n      <td>Resort Hotel</td>\n      <td>0</td>\n      <td>79</td>\n      <td>2015</td>\n      <td>July</td>\n      <td>28</td>\n      <td>11</td>\n      <td>2</td>\n      <td>6</td>\n      <td>2</td>\n      <td>...</td>\n      <td>No Deposit</td>\n      <td>250.0</td>\n      <td>0.0</td>\n      <td>0</td>\n      <td>Transient</td>\n      <td>213.75</td>\n      <td>0</td>\n      <td>0</td>\n      <td>Check-Out</td>\n      <td>19/7/2015</td>\n    </tr>\n    <tr>\n      <th>396</th>\n      <td>Resort Hotel</td>\n      <td>0</td>\n      <td>317</td>\n      <td>2015</td>\n      <td>July</td>\n      <td>29</td>\n      <td>14</td>\n      <td>1</td>\n      <td>5</td>\n      <td>2</td>\n      <td>...</td>\n      <td>No Deposit</td>\n      <td>240.0</td>\n      <td>0.0</td>\n      <td>0</td>\n      <td>Transient</td>\n      <td>230.67</td>\n      <td>1</td>\n      <td>2</td>\n      <td>Check-Out</td>\n      <td>20/7/2015</td>\n    </tr>\n    <tr>\n      <th>412</th>\n      <td>Resort Hotel</td>\n      <td>0</td>\n      <td>37</td>\n      <td>2015</td>\n      <td>July</td>\n      <td>29</td>\n      <td>15</td>\n      <td>2</td>\n      <td>6</td>\n      <td>2</td>\n      <td>...</td>\n      <td>No Deposit</td>\n      <td>240.0</td>\n      <td>0.0</td>\n      <td>0</td>\n      <td>Transient</td>\n      <td>216.13</td>\n      <td>1</td>\n      <td>0</td>\n      <td>Check-Out</td>\n      <td>23/7/2015</td>\n    </tr>\n    <tr>\n      <th>523</th>\n      <td>Resort Hotel</td>\n      <td>0</td>\n      <td>0</td>\n      <td>2015</td>\n      <td>July</td>\n      <td>29</td>\n      <td>18</td>\n      <td>0</td>\n      <td>1</td>\n      <td>2</td>\n      <td>...</td>\n      <td>No Deposit</td>\n      <td>0.0</td>\n      <td>0.0</td>\n      <td>0</td>\n      <td>Transient</td>\n      <td>249.00</td>\n      <td>0</td>\n      <td>0</td>\n      <td>Check-Out</td>\n      <td>19/7/2015</td>\n    </tr>\n    <tr>\n      <th>...</th>\n      <td>...</td>\n      <td>...</td>\n      <td>...</td>\n      <td>...</td>\n      <td>...</td>\n      <td>...</td>\n      <td>...</td>\n      <td>...</td>\n      <td>...</td>\n      <td>...</td>\n      <td>...</td>\n      <td>...</td>\n      <td>...</td>\n      <td>...</td>\n      <td>...</td>\n      <td>...</td>\n      <td>...</td>\n      <td>...</td>\n      <td>...</td>\n      <td>...</td>\n      <td>...</td>\n    </tr>\n    <tr>\n      <th>119251</th>\n      <td>City Hotel</td>\n      <td>0</td>\n      <td>140</td>\n      <td>2017</td>\n      <td>August</td>\n      <td>35</td>\n      <td>27</td>\n      <td>2</td>\n      <td>3</td>\n      <td>2</td>\n      <td>...</td>\n      <td>No Deposit</td>\n      <td>9.0</td>\n      <td>0.0</td>\n      <td>0</td>\n      <td>Transient</td>\n      <td>235.00</td>\n      <td>0</td>\n      <td>0</td>\n      <td>Check-Out</td>\n      <td>1/9/2017</td>\n    </tr>\n    <tr>\n      <th>119289</th>\n      <td>City Hotel</td>\n      <td>0</td>\n      <td>25</td>\n      <td>2017</td>\n      <td>August</td>\n      <td>35</td>\n      <td>30</td>\n      <td>0</td>\n      <td>3</td>\n      <td>3</td>\n      <td>...</td>\n      <td>No Deposit</td>\n      <td>9.0</td>\n      <td>0.0</td>\n      <td>0</td>\n      <td>Transient</td>\n      <td>236.33</td>\n      <td>0</td>\n      <td>3</td>\n      <td>Check-Out</td>\n      <td>2/9/2017</td>\n    </tr>\n    <tr>\n      <th>119339</th>\n      <td>City Hotel</td>\n      <td>0</td>\n      <td>110</td>\n      <td>2017</td>\n      <td>August</td>\n      <td>35</td>\n      <td>29</td>\n      <td>0</td>\n      <td>5</td>\n      <td>3</td>\n      <td>...</td>\n      <td>No Deposit</td>\n      <td>14.0</td>\n      <td>0.0</td>\n      <td>0</td>\n      <td>Transient</td>\n      <td>229.00</td>\n      <td>0</td>\n      <td>1</td>\n      <td>Check-Out</td>\n      <td>3/9/2017</td>\n    </tr>\n    <tr>\n      <th>119365</th>\n      <td>City Hotel</td>\n      <td>0</td>\n      <td>54</td>\n      <td>2017</td>\n      <td>August</td>\n      <td>35</td>\n      <td>27</td>\n      <td>3</td>\n      <td>5</td>\n      <td>1</td>\n      <td>...</td>\n      <td>No Deposit</td>\n      <td>14.0</td>\n      <td>0.0</td>\n      <td>0</td>\n      <td>Transient</td>\n      <td>266.75</td>\n      <td>0</td>\n      <td>1</td>\n      <td>Check-Out</td>\n      <td>4/9/2017</td>\n    </tr>\n    <tr>\n      <th>119386</th>\n      <td>City Hotel</td>\n      <td>0</td>\n      <td>102</td>\n      <td>2017</td>\n      <td>August</td>\n      <td>35</td>\n      <td>31</td>\n      <td>2</td>\n      <td>5</td>\n      <td>3</td>\n      <td>...</td>\n      <td>No Deposit</td>\n      <td>9.0</td>\n      <td>0.0</td>\n      <td>0</td>\n      <td>Transient</td>\n      <td>225.43</td>\n      <td>0</td>\n      <td>2</td>\n      <td>Check-Out</td>\n      <td>7/9/2017</td>\n    </tr>\n  </tbody>\n</table>\n<p>3793 rows × 32 columns</p>\n</div>"
     },
     "execution_count": 201,
     "metadata": {},
     "output_type": "execute_result"
    }
   ],
   "source": [
    "data.query('adr > adr.quantile(0.75) + 1.5*(adr.quantile(0.75) - adr.quantile(0.25))')"
   ],
   "metadata": {
    "collapsed": false
   }
  },
  {
   "cell_type": "code",
   "execution_count": 203,
   "outputs": [
    {
     "data": {
      "text/plain": "              hotel  is_canceled  lead_time  arrival_date_year  \\\n14969  Resort Hotel            0        195               2017   \n\n      arrival_date_month  arrival_date_week_number  arrival_date_day_of_month  \\\n14969              March                        10                          5   \n\n       stays_in_weekend_nights  stays_in_week_nights  adults  ...  \\\n14969                        4                     6       2  ...   \n\n       deposit_type  agent company days_in_waiting_list    customer_type  \\\n14969    No Deposit  273.0     0.0                    0  Transient-Party   \n\n        adr  required_car_parking_spaces  total_of_special_requests  \\\n14969 -6.38                            0                          0   \n\n       reservation_status reservation_status_date  \n14969           Check-Out               15/3/2017  \n\n[1 rows x 32 columns]",
      "text/html": "<div>\n<style scoped>\n    .dataframe tbody tr th:only-of-type {\n        vertical-align: middle;\n    }\n\n    .dataframe tbody tr th {\n        vertical-align: top;\n    }\n\n    .dataframe thead th {\n        text-align: right;\n    }\n</style>\n<table border=\"1\" class=\"dataframe\">\n  <thead>\n    <tr style=\"text-align: right;\">\n      <th></th>\n      <th>hotel</th>\n      <th>is_canceled</th>\n      <th>lead_time</th>\n      <th>arrival_date_year</th>\n      <th>arrival_date_month</th>\n      <th>arrival_date_week_number</th>\n      <th>arrival_date_day_of_month</th>\n      <th>stays_in_weekend_nights</th>\n      <th>stays_in_week_nights</th>\n      <th>adults</th>\n      <th>...</th>\n      <th>deposit_type</th>\n      <th>agent</th>\n      <th>company</th>\n      <th>days_in_waiting_list</th>\n      <th>customer_type</th>\n      <th>adr</th>\n      <th>required_car_parking_spaces</th>\n      <th>total_of_special_requests</th>\n      <th>reservation_status</th>\n      <th>reservation_status_date</th>\n    </tr>\n  </thead>\n  <tbody>\n    <tr>\n      <th>14969</th>\n      <td>Resort Hotel</td>\n      <td>0</td>\n      <td>195</td>\n      <td>2017</td>\n      <td>March</td>\n      <td>10</td>\n      <td>5</td>\n      <td>4</td>\n      <td>6</td>\n      <td>2</td>\n      <td>...</td>\n      <td>No Deposit</td>\n      <td>273.0</td>\n      <td>0.0</td>\n      <td>0</td>\n      <td>Transient-Party</td>\n      <td>-6.38</td>\n      <td>0</td>\n      <td>0</td>\n      <td>Check-Out</td>\n      <td>15/3/2017</td>\n    </tr>\n  </tbody>\n</table>\n<p>1 rows × 32 columns</p>\n</div>"
     },
     "execution_count": 203,
     "metadata": {},
     "output_type": "execute_result"
    }
   ],
   "source": [
    "data.query('adr < 0')"
   ],
   "metadata": {
    "collapsed": false
   }
  },
  {
   "cell_type": "code",
   "execution_count": 204,
   "outputs": [
    {
     "data": {
      "text/plain": "Empty DataFrame\nColumns: [hotel, is_canceled, lead_time, arrival_date_year, arrival_date_month, arrival_date_week_number, arrival_date_day_of_month, stays_in_weekend_nights, stays_in_week_nights, adults, children, babies, meal, country, market_segment, distribution_channel, is_repeated_guest, previous_cancellations, previous_bookings_not_canceled, reserved_room_type, assigned_room_type, booking_changes, deposit_type, agent, company, days_in_waiting_list, customer_type, adr, required_car_parking_spaces, total_of_special_requests, reservation_status, reservation_status_date]\nIndex: []\n\n[0 rows x 32 columns]",
      "text/html": "<div>\n<style scoped>\n    .dataframe tbody tr th:only-of-type {\n        vertical-align: middle;\n    }\n\n    .dataframe tbody tr th {\n        vertical-align: top;\n    }\n\n    .dataframe thead th {\n        text-align: right;\n    }\n</style>\n<table border=\"1\" class=\"dataframe\">\n  <thead>\n    <tr style=\"text-align: right;\">\n      <th></th>\n      <th>hotel</th>\n      <th>is_canceled</th>\n      <th>lead_time</th>\n      <th>arrival_date_year</th>\n      <th>arrival_date_month</th>\n      <th>arrival_date_week_number</th>\n      <th>arrival_date_day_of_month</th>\n      <th>stays_in_weekend_nights</th>\n      <th>stays_in_week_nights</th>\n      <th>adults</th>\n      <th>...</th>\n      <th>deposit_type</th>\n      <th>agent</th>\n      <th>company</th>\n      <th>days_in_waiting_list</th>\n      <th>customer_type</th>\n      <th>adr</th>\n      <th>required_car_parking_spaces</th>\n      <th>total_of_special_requests</th>\n      <th>reservation_status</th>\n      <th>reservation_status_date</th>\n    </tr>\n  </thead>\n  <tbody>\n  </tbody>\n</table>\n<p>0 rows × 32 columns</p>\n</div>"
     },
     "execution_count": 204,
     "metadata": {},
     "output_type": "execute_result"
    }
   ],
   "source": [
    "data.query('adr < adr.quantile(0.25) - 1.5*(adr.quantile(0.75) - adr.quantile(0.25))')"
   ],
   "metadata": {
    "collapsed": false
   }
  },
  {
   "cell_type": "code",
   "execution_count": 214,
   "outputs": [
    {
     "data": {
      "text/plain": "         is_canceled      lead_time  arrival_date_year  \\\ncount  119390.000000  119390.000000      119390.000000   \nmean        0.370416     104.011416        2016.156554   \nstd         0.482918     106.863097           0.707476   \nmin         0.000000       0.000000        2015.000000   \n25%         0.000000      18.000000        2016.000000   \n50%         0.000000      69.000000        2016.000000   \n75%         1.000000     160.000000        2017.000000   \nmax         1.000000     737.000000        2017.000000   \n\n       arrival_date_week_number  arrival_date_day_of_month  \\\ncount             119390.000000              119390.000000   \nmean                  27.165173                  15.798241   \nstd                   13.605138                   8.780829   \nmin                    1.000000                   1.000000   \n25%                   16.000000                   8.000000   \n50%                   28.000000                  16.000000   \n75%                   38.000000                  23.000000   \nmax                   53.000000                  31.000000   \n\n       stays_in_weekend_nights  stays_in_week_nights         adults  \\\ncount            119390.000000         119390.000000  119390.000000   \nmean                  0.927599              2.500302       1.856403   \nstd                   0.998613              1.908286       0.579261   \nmin                   0.000000              0.000000       0.000000   \n25%                   0.000000              1.000000       2.000000   \n50%                   1.000000              2.000000       2.000000   \n75%                   2.000000              3.000000       2.000000   \nmax                  19.000000             50.000000      55.000000   \n\n            children         babies  is_repeated_guest  \\\ncount  119390.000000  119390.000000      119390.000000   \nmean        0.103886       0.007949           0.031912   \nstd         0.398555       0.097436           0.175767   \nmin         0.000000       0.000000           0.000000   \n25%         0.000000       0.000000           0.000000   \n50%         0.000000       0.000000           0.000000   \n75%         0.000000       0.000000           0.000000   \nmax        10.000000      10.000000           1.000000   \n\n       previous_cancellations  previous_bookings_not_canceled  \\\ncount           119390.000000                   119390.000000   \nmean                 0.087118                        0.137097   \nstd                  0.844336                        1.497437   \nmin                  0.000000                        0.000000   \n25%                  0.000000                        0.000000   \n50%                  0.000000                        0.000000   \n75%                  0.000000                        0.000000   \nmax                 26.000000                       72.000000   \n\n       booking_changes          agent        company  days_in_waiting_list  \\\ncount    119390.000000  119390.000000  119390.000000         119390.000000   \nmean          0.221124      74.828319      10.775157              2.321149   \nstd           0.652306     107.141953      53.943884             17.594721   \nmin           0.000000       0.000000       0.000000              0.000000   \n25%           0.000000       7.000000       0.000000              0.000000   \n50%           0.000000       9.000000       0.000000              0.000000   \n75%           0.000000     152.000000       0.000000              0.000000   \nmax          21.000000     535.000000     543.000000            391.000000   \n\n                 adr  required_car_parking_spaces  total_of_special_requests  \ncount  119390.000000                119390.000000              119390.000000  \nmean      101.831122                     0.062518                   0.571363  \nstd        50.535790                     0.245291                   0.792798  \nmin        -6.380000                     0.000000                   0.000000  \n25%        69.290000                     0.000000                   0.000000  \n50%        94.575000                     0.000000                   0.000000  \n75%       126.000000                     0.000000                   1.000000  \nmax      5400.000000                     8.000000                   5.000000  ",
      "text/html": "<div>\n<style scoped>\n    .dataframe tbody tr th:only-of-type {\n        vertical-align: middle;\n    }\n\n    .dataframe tbody tr th {\n        vertical-align: top;\n    }\n\n    .dataframe thead th {\n        text-align: right;\n    }\n</style>\n<table border=\"1\" class=\"dataframe\">\n  <thead>\n    <tr style=\"text-align: right;\">\n      <th></th>\n      <th>is_canceled</th>\n      <th>lead_time</th>\n      <th>arrival_date_year</th>\n      <th>arrival_date_week_number</th>\n      <th>arrival_date_day_of_month</th>\n      <th>stays_in_weekend_nights</th>\n      <th>stays_in_week_nights</th>\n      <th>adults</th>\n      <th>children</th>\n      <th>babies</th>\n      <th>is_repeated_guest</th>\n      <th>previous_cancellations</th>\n      <th>previous_bookings_not_canceled</th>\n      <th>booking_changes</th>\n      <th>agent</th>\n      <th>company</th>\n      <th>days_in_waiting_list</th>\n      <th>adr</th>\n      <th>required_car_parking_spaces</th>\n      <th>total_of_special_requests</th>\n    </tr>\n  </thead>\n  <tbody>\n    <tr>\n      <th>count</th>\n      <td>119390.000000</td>\n      <td>119390.000000</td>\n      <td>119390.000000</td>\n      <td>119390.000000</td>\n      <td>119390.000000</td>\n      <td>119390.000000</td>\n      <td>119390.000000</td>\n      <td>119390.000000</td>\n      <td>119390.000000</td>\n      <td>119390.000000</td>\n      <td>119390.000000</td>\n      <td>119390.000000</td>\n      <td>119390.000000</td>\n      <td>119390.000000</td>\n      <td>119390.000000</td>\n      <td>119390.000000</td>\n      <td>119390.000000</td>\n      <td>119390.000000</td>\n      <td>119390.000000</td>\n      <td>119390.000000</td>\n    </tr>\n    <tr>\n      <th>mean</th>\n      <td>0.370416</td>\n      <td>104.011416</td>\n      <td>2016.156554</td>\n      <td>27.165173</td>\n      <td>15.798241</td>\n      <td>0.927599</td>\n      <td>2.500302</td>\n      <td>1.856403</td>\n      <td>0.103886</td>\n      <td>0.007949</td>\n      <td>0.031912</td>\n      <td>0.087118</td>\n      <td>0.137097</td>\n      <td>0.221124</td>\n      <td>74.828319</td>\n      <td>10.775157</td>\n      <td>2.321149</td>\n      <td>101.831122</td>\n      <td>0.062518</td>\n      <td>0.571363</td>\n    </tr>\n    <tr>\n      <th>std</th>\n      <td>0.482918</td>\n      <td>106.863097</td>\n      <td>0.707476</td>\n      <td>13.605138</td>\n      <td>8.780829</td>\n      <td>0.998613</td>\n      <td>1.908286</td>\n      <td>0.579261</td>\n      <td>0.398555</td>\n      <td>0.097436</td>\n      <td>0.175767</td>\n      <td>0.844336</td>\n      <td>1.497437</td>\n      <td>0.652306</td>\n      <td>107.141953</td>\n      <td>53.943884</td>\n      <td>17.594721</td>\n      <td>50.535790</td>\n      <td>0.245291</td>\n      <td>0.792798</td>\n    </tr>\n    <tr>\n      <th>min</th>\n      <td>0.000000</td>\n      <td>0.000000</td>\n      <td>2015.000000</td>\n      <td>1.000000</td>\n      <td>1.000000</td>\n      <td>0.000000</td>\n      <td>0.000000</td>\n      <td>0.000000</td>\n      <td>0.000000</td>\n      <td>0.000000</td>\n      <td>0.000000</td>\n      <td>0.000000</td>\n      <td>0.000000</td>\n      <td>0.000000</td>\n      <td>0.000000</td>\n      <td>0.000000</td>\n      <td>0.000000</td>\n      <td>-6.380000</td>\n      <td>0.000000</td>\n      <td>0.000000</td>\n    </tr>\n    <tr>\n      <th>25%</th>\n      <td>0.000000</td>\n      <td>18.000000</td>\n      <td>2016.000000</td>\n      <td>16.000000</td>\n      <td>8.000000</td>\n      <td>0.000000</td>\n      <td>1.000000</td>\n      <td>2.000000</td>\n      <td>0.000000</td>\n      <td>0.000000</td>\n      <td>0.000000</td>\n      <td>0.000000</td>\n      <td>0.000000</td>\n      <td>0.000000</td>\n      <td>7.000000</td>\n      <td>0.000000</td>\n      <td>0.000000</td>\n      <td>69.290000</td>\n      <td>0.000000</td>\n      <td>0.000000</td>\n    </tr>\n    <tr>\n      <th>50%</th>\n      <td>0.000000</td>\n      <td>69.000000</td>\n      <td>2016.000000</td>\n      <td>28.000000</td>\n      <td>16.000000</td>\n      <td>1.000000</td>\n      <td>2.000000</td>\n      <td>2.000000</td>\n      <td>0.000000</td>\n      <td>0.000000</td>\n      <td>0.000000</td>\n      <td>0.000000</td>\n      <td>0.000000</td>\n      <td>0.000000</td>\n      <td>9.000000</td>\n      <td>0.000000</td>\n      <td>0.000000</td>\n      <td>94.575000</td>\n      <td>0.000000</td>\n      <td>0.000000</td>\n    </tr>\n    <tr>\n      <th>75%</th>\n      <td>1.000000</td>\n      <td>160.000000</td>\n      <td>2017.000000</td>\n      <td>38.000000</td>\n      <td>23.000000</td>\n      <td>2.000000</td>\n      <td>3.000000</td>\n      <td>2.000000</td>\n      <td>0.000000</td>\n      <td>0.000000</td>\n      <td>0.000000</td>\n      <td>0.000000</td>\n      <td>0.000000</td>\n      <td>0.000000</td>\n      <td>152.000000</td>\n      <td>0.000000</td>\n      <td>0.000000</td>\n      <td>126.000000</td>\n      <td>0.000000</td>\n      <td>1.000000</td>\n    </tr>\n    <tr>\n      <th>max</th>\n      <td>1.000000</td>\n      <td>737.000000</td>\n      <td>2017.000000</td>\n      <td>53.000000</td>\n      <td>31.000000</td>\n      <td>19.000000</td>\n      <td>50.000000</td>\n      <td>55.000000</td>\n      <td>10.000000</td>\n      <td>10.000000</td>\n      <td>1.000000</td>\n      <td>26.000000</td>\n      <td>72.000000</td>\n      <td>21.000000</td>\n      <td>535.000000</td>\n      <td>543.000000</td>\n      <td>391.000000</td>\n      <td>5400.000000</td>\n      <td>8.000000</td>\n      <td>5.000000</td>\n    </tr>\n  </tbody>\n</table>\n</div>"
     },
     "execution_count": 214,
     "metadata": {},
     "output_type": "execute_result"
    }
   ],
   "source": [
    "data.describe()"
   ],
   "metadata": {
    "collapsed": false
   }
  },
  {
   "cell_type": "markdown",
   "source": [
    "# Variable Breakdown by Type\n",
    "##### Numerical\n",
    "* lead_time\n",
    "* arrival_data_week_number [useful when looking for trends]\n",
    "* {engineered} total_stay = sum(stays_in_weekend_nights, stays_in_week_nights)\n",
    "    > * stays_in_weekend_nights\n",
    "    > * stays_in_week_nights\n",
    "* adults\n",
    "* children\n",
    "* babies\n",
    "* {engineered} previous_bookings = sum(previous_cancellations, previous_bookings_not_canceled)\n",
    "    > * previous_cancellations\n",
    "    > * previous_bookings_not_canceled\n",
    "* booking changes\n",
    "* days_in_waiting_list\n",
    "* adr\n",
    "* required_car_parking_spaces\n",
    "* total_of_special_requests\n",
    "* {engineered} days_till_status_change = arrival_date - reservation_status_date\n",
    "* boolean\n",
    "    > * [target] is_canceled\n",
    "    > * is_repeated_guest\n",
    "    > * {engineered} assigned_room_preference: reserved_room_type == assigned_room_type\n",
    "\n",
    "##### Date_Time\n",
    "* {engineered} arrival_date = concat(year, month, day) [These 3 columns will be dropped after concatenation]\n",
    "* reservation_status_date\n",
    "##### Categorical\n",
    "###### Nominal\n",
    "* 'hotel'\n",
    "* 'country'\n",
    "* 'market_segment'\n",
    "* 'distribution_channel'\n",
    "* 'agent'\n",
    "* 'company'\n",
    "* 'customer_type',\n",
    "###### Ordinal\n",
    "* 'meal'\n",
    "* 'reserved_room_type'\n",
    "* 'assigned_room_type'\n",
    "* 'deposit_type'\n",
    "* [potential_target] reservation_status\n"
   ],
   "metadata": {
    "collapsed": false
   }
  },
  {
   "cell_type": "code",
   "execution_count": 313,
   "outputs": [
    {
     "data": {
      "text/plain": "   lead_time  arrival_date_week_number  stays_in_weekend_nights  \\\n0        342                        27                        0   \n1        737                        27                        0   \n2          7                        27                        0   \n3         13                        27                        0   \n4         14                        27                        0   \n\n   stays_in_week_nights  adults  children  babies  previous_cancellations  \\\n0                     0       2       0.0       0                       0   \n1                     0       2       0.0       0                       0   \n2                     1       1       0.0       0                       0   \n3                     1       1       0.0       0                       0   \n4                     2       2       0.0       0                       0   \n\n   previous_bookings_not_canceled  booking_changes  days_in_waiting_list  \\\n0                               0                3                     0   \n1                               0                4                     0   \n2                               0                0                     0   \n3                               0                0                     0   \n4                               0                0                     0   \n\n    adr  required_car_parking_spaces  total_of_special_requests  \\\n0   0.0                            0                          0   \n1   0.0                            0                          0   \n2  75.0                            0                          0   \n3  75.0                            0                          0   \n4  98.0                            0                          1   \n\n   is_repeated_guest  is_canceled  \n0                  0            0  \n1                  0            0  \n2                  0            0  \n3                  0            0  \n4                  0            0  ",
      "text/html": "<div>\n<style scoped>\n    .dataframe tbody tr th:only-of-type {\n        vertical-align: middle;\n    }\n\n    .dataframe tbody tr th {\n        vertical-align: top;\n    }\n\n    .dataframe thead th {\n        text-align: right;\n    }\n</style>\n<table border=\"1\" class=\"dataframe\">\n  <thead>\n    <tr style=\"text-align: right;\">\n      <th></th>\n      <th>lead_time</th>\n      <th>arrival_date_week_number</th>\n      <th>stays_in_weekend_nights</th>\n      <th>stays_in_week_nights</th>\n      <th>adults</th>\n      <th>children</th>\n      <th>babies</th>\n      <th>previous_cancellations</th>\n      <th>previous_bookings_not_canceled</th>\n      <th>booking_changes</th>\n      <th>days_in_waiting_list</th>\n      <th>adr</th>\n      <th>required_car_parking_spaces</th>\n      <th>total_of_special_requests</th>\n      <th>is_repeated_guest</th>\n      <th>is_canceled</th>\n    </tr>\n  </thead>\n  <tbody>\n    <tr>\n      <th>0</th>\n      <td>342</td>\n      <td>27</td>\n      <td>0</td>\n      <td>0</td>\n      <td>2</td>\n      <td>0.0</td>\n      <td>0</td>\n      <td>0</td>\n      <td>0</td>\n      <td>3</td>\n      <td>0</td>\n      <td>0.0</td>\n      <td>0</td>\n      <td>0</td>\n      <td>0</td>\n      <td>0</td>\n    </tr>\n    <tr>\n      <th>1</th>\n      <td>737</td>\n      <td>27</td>\n      <td>0</td>\n      <td>0</td>\n      <td>2</td>\n      <td>0.0</td>\n      <td>0</td>\n      <td>0</td>\n      <td>0</td>\n      <td>4</td>\n      <td>0</td>\n      <td>0.0</td>\n      <td>0</td>\n      <td>0</td>\n      <td>0</td>\n      <td>0</td>\n    </tr>\n    <tr>\n      <th>2</th>\n      <td>7</td>\n      <td>27</td>\n      <td>0</td>\n      <td>1</td>\n      <td>1</td>\n      <td>0.0</td>\n      <td>0</td>\n      <td>0</td>\n      <td>0</td>\n      <td>0</td>\n      <td>0</td>\n      <td>75.0</td>\n      <td>0</td>\n      <td>0</td>\n      <td>0</td>\n      <td>0</td>\n    </tr>\n    <tr>\n      <th>3</th>\n      <td>13</td>\n      <td>27</td>\n      <td>0</td>\n      <td>1</td>\n      <td>1</td>\n      <td>0.0</td>\n      <td>0</td>\n      <td>0</td>\n      <td>0</td>\n      <td>0</td>\n      <td>0</td>\n      <td>75.0</td>\n      <td>0</td>\n      <td>0</td>\n      <td>0</td>\n      <td>0</td>\n    </tr>\n    <tr>\n      <th>4</th>\n      <td>14</td>\n      <td>27</td>\n      <td>0</td>\n      <td>2</td>\n      <td>2</td>\n      <td>0.0</td>\n      <td>0</td>\n      <td>0</td>\n      <td>0</td>\n      <td>0</td>\n      <td>0</td>\n      <td>98.0</td>\n      <td>0</td>\n      <td>1</td>\n      <td>0</td>\n      <td>0</td>\n    </tr>\n  </tbody>\n</table>\n</div>"
     },
     "execution_count": 313,
     "metadata": {},
     "output_type": "execute_result"
    }
   ],
   "source": [
    "# setting column types\n",
    "numerical_data = data.copy()\n",
    "numerical_data = numerical_data[['lead_time',\n",
    "                                 'arrival_date_week_number',\n",
    "                                 'stays_in_weekend_nights',\n",
    "                                 'stays_in_week_nights',\n",
    "                                 'adults',\n",
    "                                 'children',\n",
    "                                 'babies',\n",
    "                                 'previous_cancellations',\n",
    "                                 'previous_bookings_not_canceled',\n",
    "                                 'booking_changes',\n",
    "                                 'days_in_waiting_list',\n",
    "                                 'adr',\n",
    "                                 'required_car_parking_spaces',\n",
    "                                 'total_of_special_requests',\n",
    "                                 'is_repeated_guest',\n",
    "                                 'is_canceled']]\n",
    "numerical_data.head()"
   ],
   "metadata": {
    "collapsed": false
   }
  },
  {
   "cell_type": "code",
   "execution_count": 314,
   "outputs": [
    {
     "name": "stdout",
     "output_type": "stream",
     "text": [
      "<class 'pandas.core.frame.DataFrame'>\n",
      "RangeIndex: 119390 entries, 0 to 119389\n",
      "Data columns (total 16 columns):\n",
      " #   Column                          Non-Null Count   Dtype  \n",
      "---  ------                          --------------   -----  \n",
      " 0   lead_time                       119390 non-null  int64  \n",
      " 1   arrival_date_week_number        119390 non-null  int64  \n",
      " 2   stays_in_weekend_nights         119390 non-null  int64  \n",
      " 3   stays_in_week_nights            119390 non-null  int64  \n",
      " 4   adults                          119390 non-null  int64  \n",
      " 5   children                        119390 non-null  float64\n",
      " 6   babies                          119390 non-null  int64  \n",
      " 7   previous_cancellations          119390 non-null  int64  \n",
      " 8   previous_bookings_not_canceled  119390 non-null  int64  \n",
      " 9   booking_changes                 119390 non-null  int64  \n",
      " 10  days_in_waiting_list            119390 non-null  int64  \n",
      " 11  adr                             119390 non-null  float64\n",
      " 12  required_car_parking_spaces     119390 non-null  int64  \n",
      " 13  total_of_special_requests       119390 non-null  int64  \n",
      " 14  is_repeated_guest               119390 non-null  int64  \n",
      " 15  is_canceled                     119390 non-null  int64  \n",
      "dtypes: float64(2), int64(14)\n",
      "memory usage: 14.6 MB\n"
     ]
    }
   ],
   "source": [
    "# viewing column info\n",
    "numerical_data.info()"
   ],
   "metadata": {
    "collapsed": false
   }
  },
  {
   "cell_type": "code",
   "execution_count": 315,
   "outputs": [
    {
     "data": {
      "text/plain": "  reservation_status_date  arrival_date_day_of_month arrival_date_month  \\\n0                1/7/2015                          1               July   \n1                1/7/2015                          1               July   \n2                2/7/2015                          1               July   \n3                2/7/2015                          1               July   \n4                3/7/2015                          1               July   \n\n   arrival_date_year  \n0               2015  \n1               2015  \n2               2015  \n3               2015  \n4               2015  ",
      "text/html": "<div>\n<style scoped>\n    .dataframe tbody tr th:only-of-type {\n        vertical-align: middle;\n    }\n\n    .dataframe tbody tr th {\n        vertical-align: top;\n    }\n\n    .dataframe thead th {\n        text-align: right;\n    }\n</style>\n<table border=\"1\" class=\"dataframe\">\n  <thead>\n    <tr style=\"text-align: right;\">\n      <th></th>\n      <th>reservation_status_date</th>\n      <th>arrival_date_day_of_month</th>\n      <th>arrival_date_month</th>\n      <th>arrival_date_year</th>\n    </tr>\n  </thead>\n  <tbody>\n    <tr>\n      <th>0</th>\n      <td>1/7/2015</td>\n      <td>1</td>\n      <td>July</td>\n      <td>2015</td>\n    </tr>\n    <tr>\n      <th>1</th>\n      <td>1/7/2015</td>\n      <td>1</td>\n      <td>July</td>\n      <td>2015</td>\n    </tr>\n    <tr>\n      <th>2</th>\n      <td>2/7/2015</td>\n      <td>1</td>\n      <td>July</td>\n      <td>2015</td>\n    </tr>\n    <tr>\n      <th>3</th>\n      <td>2/7/2015</td>\n      <td>1</td>\n      <td>July</td>\n      <td>2015</td>\n    </tr>\n    <tr>\n      <th>4</th>\n      <td>3/7/2015</td>\n      <td>1</td>\n      <td>July</td>\n      <td>2015</td>\n    </tr>\n  </tbody>\n</table>\n</div>"
     },
     "execution_count": 315,
     "metadata": {},
     "output_type": "execute_result"
    }
   ],
   "source": [
    "# datetime_columns\n",
    "datetime_data = data.copy()\n",
    "datetime_data = datetime_data[['reservation_status_date', 'arrival_date_day_of_month', 'arrival_date_month', 'arrival_date_year']]\n",
    "datetime_data.head()"
   ],
   "metadata": {
    "collapsed": false
   }
  },
  {
   "cell_type": "code",
   "execution_count": 316,
   "outputs": [
    {
     "data": {
      "text/plain": "20"
     },
     "execution_count": 316,
     "metadata": {},
     "output_type": "execute_result"
    }
   ],
   "source": [
    "# Categorical data\n",
    "numerical_cols = [_ for _ in numerical_data.columns]\n",
    "datetime_data_cols = [_ for _ in datetime_data.columns]\n",
    "non_cat_columns = numerical_cols + datetime_data_cols\n",
    "len(non_cat_columns)"
   ],
   "metadata": {
    "collapsed": false
   }
  },
  {
   "cell_type": "code",
   "execution_count": 317,
   "outputs": [
    {
     "data": {
      "text/plain": "['hotel',\n 'meal',\n 'country',\n 'market_segment',\n 'distribution_channel',\n 'reserved_room_type',\n 'assigned_room_type',\n 'deposit_type',\n 'agent',\n 'company',\n 'customer_type',\n 'reservation_status']"
     },
     "execution_count": 317,
     "metadata": {},
     "output_type": "execute_result"
    }
   ],
   "source": [
    "cat_cols = [_ for _ in data.columns if _ not in non_cat_columns]\n",
    "cat_cols"
   ],
   "metadata": {
    "collapsed": false
   }
  },
  {
   "cell_type": "code",
   "execution_count": 318,
   "outputs": [
    {
     "data": {
      "text/plain": "          hotel meal country market_segment distribution_channel  \\\n0  Resort Hotel   BB     PRT         Direct               Direct   \n1  Resort Hotel   BB     PRT         Direct               Direct   \n2  Resort Hotel   BB     GBR         Direct               Direct   \n3  Resort Hotel   BB     GBR      Corporate            Corporate   \n4  Resort Hotel   BB     GBR      Online TA                TA/TO   \n\n  reserved_room_type assigned_room_type deposit_type  agent  company  \\\n0                  C                  C   No Deposit    0.0      0.0   \n1                  C                  C   No Deposit    0.0      0.0   \n2                  A                  C   No Deposit    0.0      0.0   \n3                  A                  A   No Deposit  304.0      0.0   \n4                  A                  A   No Deposit  240.0      0.0   \n\n  customer_type reservation_status  \n0     Transient          Check-Out  \n1     Transient          Check-Out  \n2     Transient          Check-Out  \n3     Transient          Check-Out  \n4     Transient          Check-Out  ",
      "text/html": "<div>\n<style scoped>\n    .dataframe tbody tr th:only-of-type {\n        vertical-align: middle;\n    }\n\n    .dataframe tbody tr th {\n        vertical-align: top;\n    }\n\n    .dataframe thead th {\n        text-align: right;\n    }\n</style>\n<table border=\"1\" class=\"dataframe\">\n  <thead>\n    <tr style=\"text-align: right;\">\n      <th></th>\n      <th>hotel</th>\n      <th>meal</th>\n      <th>country</th>\n      <th>market_segment</th>\n      <th>distribution_channel</th>\n      <th>reserved_room_type</th>\n      <th>assigned_room_type</th>\n      <th>deposit_type</th>\n      <th>agent</th>\n      <th>company</th>\n      <th>customer_type</th>\n      <th>reservation_status</th>\n    </tr>\n  </thead>\n  <tbody>\n    <tr>\n      <th>0</th>\n      <td>Resort Hotel</td>\n      <td>BB</td>\n      <td>PRT</td>\n      <td>Direct</td>\n      <td>Direct</td>\n      <td>C</td>\n      <td>C</td>\n      <td>No Deposit</td>\n      <td>0.0</td>\n      <td>0.0</td>\n      <td>Transient</td>\n      <td>Check-Out</td>\n    </tr>\n    <tr>\n      <th>1</th>\n      <td>Resort Hotel</td>\n      <td>BB</td>\n      <td>PRT</td>\n      <td>Direct</td>\n      <td>Direct</td>\n      <td>C</td>\n      <td>C</td>\n      <td>No Deposit</td>\n      <td>0.0</td>\n      <td>0.0</td>\n      <td>Transient</td>\n      <td>Check-Out</td>\n    </tr>\n    <tr>\n      <th>2</th>\n      <td>Resort Hotel</td>\n      <td>BB</td>\n      <td>GBR</td>\n      <td>Direct</td>\n      <td>Direct</td>\n      <td>A</td>\n      <td>C</td>\n      <td>No Deposit</td>\n      <td>0.0</td>\n      <td>0.0</td>\n      <td>Transient</td>\n      <td>Check-Out</td>\n    </tr>\n    <tr>\n      <th>3</th>\n      <td>Resort Hotel</td>\n      <td>BB</td>\n      <td>GBR</td>\n      <td>Corporate</td>\n      <td>Corporate</td>\n      <td>A</td>\n      <td>A</td>\n      <td>No Deposit</td>\n      <td>304.0</td>\n      <td>0.0</td>\n      <td>Transient</td>\n      <td>Check-Out</td>\n    </tr>\n    <tr>\n      <th>4</th>\n      <td>Resort Hotel</td>\n      <td>BB</td>\n      <td>GBR</td>\n      <td>Online TA</td>\n      <td>TA/TO</td>\n      <td>A</td>\n      <td>A</td>\n      <td>No Deposit</td>\n      <td>240.0</td>\n      <td>0.0</td>\n      <td>Transient</td>\n      <td>Check-Out</td>\n    </tr>\n  </tbody>\n</table>\n</div>"
     },
     "execution_count": 318,
     "metadata": {},
     "output_type": "execute_result"
    }
   ],
   "source": [
    "cat_data = data.copy()\n",
    "cat_data = cat_data[cat_cols]\n",
    "cat_data.head()"
   ],
   "metadata": {
    "collapsed": false
   }
  },
  {
   "cell_type": "code",
   "execution_count": 319,
   "outputs": [],
   "source": [
    "# deleting obsolete items\n",
    "if cat_cols:\n",
    "    del cat_cols\n",
    "if numerical_cols:\n",
    "    del numerical_cols\n",
    "if datetime_data_cols:\n",
    "    del datetime_data_cols\n",
    "if non_cat_columns:\n",
    "    del non_cat_columns"
   ],
   "metadata": {
    "collapsed": false
   }
  },
  {
   "cell_type": "code",
   "execution_count": 320,
   "outputs": [
    {
     "name": "stdout",
     "output_type": "stream",
     "text": [
      "<class 'pandas.core.frame.DataFrame'>\n",
      "RangeIndex: 119390 entries, 0 to 119389\n",
      "Data columns (total 12 columns):\n",
      " #   Column                Non-Null Count   Dtype  \n",
      "---  ------                --------------   -----  \n",
      " 0   hotel                 119390 non-null  object \n",
      " 1   meal                  119390 non-null  object \n",
      " 2   country               119390 non-null  object \n",
      " 3   market_segment        119390 non-null  object \n",
      " 4   distribution_channel  119390 non-null  object \n",
      " 5   reserved_room_type    119390 non-null  object \n",
      " 6   assigned_room_type    119390 non-null  object \n",
      " 7   deposit_type          119390 non-null  object \n",
      " 8   agent                 119390 non-null  float64\n",
      " 9   company               119390 non-null  float64\n",
      " 10  customer_type         119390 non-null  object \n",
      " 11  reservation_status    119390 non-null  object \n",
      "dtypes: float64(2), object(10)\n",
      "memory usage: 10.9+ MB\n"
     ]
    }
   ],
   "source": [
    "# check datatypes for categorical data\n",
    "cat_data.info()"
   ],
   "metadata": {
    "collapsed": false
   }
  },
  {
   "cell_type": "code",
   "execution_count": 329,
   "outputs": [
    {
     "name": "stdout",
     "output_type": "stream",
     "text": [
      "<class 'pandas.core.frame.DataFrame'>\n",
      "RangeIndex: 119390 entries, 0 to 119389\n",
      "Data columns (total 12 columns):\n",
      " #   Column                Non-Null Count   Dtype   \n",
      "---  ------                --------------   -----   \n",
      " 0   hotel                 119390 non-null  category\n",
      " 1   meal                  119390 non-null  category\n",
      " 2   country               119390 non-null  category\n",
      " 3   market_segment        119390 non-null  category\n",
      " 4   distribution_channel  119390 non-null  category\n",
      " 5   reserved_room_type    119390 non-null  category\n",
      " 6   assigned_room_type    119390 non-null  category\n",
      " 7   deposit_type          119390 non-null  category\n",
      " 8   agent                 119390 non-null  category\n",
      " 9   company               119390 non-null  category\n",
      " 10  customer_type         119390 non-null  category\n",
      " 11  reservation_status    119390 non-null  category\n",
      "dtypes: category(12)\n",
      "memory usage: 1.7 MB\n"
     ]
    }
   ],
   "source": [
    "# let's convert all of these to category\n",
    "cat_data = cat_data.astype('category')\n",
    "cat_data.info()"
   ],
   "metadata": {
    "collapsed": false
   }
  },
  {
   "cell_type": "code",
   "execution_count": 673,
   "outputs": [
    {
     "data": {
      "text/plain": "  meal reserved_room_type assigned_room_type deposit_type\n0   BB                  C                  C   No Deposit\n1   BB                  C                  C   No Deposit\n2   BB                  A                  C   No Deposit\n3   BB                  A                  A   No Deposit\n4   BB                  A                  A   No Deposit",
      "text/html": "<div>\n<style scoped>\n    .dataframe tbody tr th:only-of-type {\n        vertical-align: middle;\n    }\n\n    .dataframe tbody tr th {\n        vertical-align: top;\n    }\n\n    .dataframe thead th {\n        text-align: right;\n    }\n</style>\n<table border=\"1\" class=\"dataframe\">\n  <thead>\n    <tr style=\"text-align: right;\">\n      <th></th>\n      <th>meal</th>\n      <th>reserved_room_type</th>\n      <th>assigned_room_type</th>\n      <th>deposit_type</th>\n    </tr>\n  </thead>\n  <tbody>\n    <tr>\n      <th>0</th>\n      <td>BB</td>\n      <td>C</td>\n      <td>C</td>\n      <td>No Deposit</td>\n    </tr>\n    <tr>\n      <th>1</th>\n      <td>BB</td>\n      <td>C</td>\n      <td>C</td>\n      <td>No Deposit</td>\n    </tr>\n    <tr>\n      <th>2</th>\n      <td>BB</td>\n      <td>A</td>\n      <td>C</td>\n      <td>No Deposit</td>\n    </tr>\n    <tr>\n      <th>3</th>\n      <td>BB</td>\n      <td>A</td>\n      <td>A</td>\n      <td>No Deposit</td>\n    </tr>\n    <tr>\n      <th>4</th>\n      <td>BB</td>\n      <td>A</td>\n      <td>A</td>\n      <td>No Deposit</td>\n    </tr>\n  </tbody>\n</table>\n</div>"
     },
     "execution_count": 673,
     "metadata": {},
     "output_type": "execute_result"
    }
   ],
   "source": [
    "# set orders to the ordinal data\n",
    "ordinal_data = cat_data.copy()\n",
    "ordinal_data = ordinal_data[['meal', 'reserved_room_type', 'assigned_room_type', 'deposit_type']]\n",
    "# from the data dictionary, we know that sc and undefined mean no meal package for the customer, with undefined being used to avoid excessive labels\n",
    "ordinal_data.meal = ordinal_data.meal.replace('Undefined', 'SC')\n",
    "# let's re-level the data now\n",
    "ordinal_data.meal = ordinal_data.meal.cat.reorder_categories(['SC', 'BB', 'HB', 'FB'], ordered = True)\n",
    "ordinal_data.meal.unique()\n",
    "# let's move onto room types\n",
    "# Here we can make an assumption that the less common rooms would be the more premium ones\n",
    "# to check this, we can count values after grouping\n",
    "# our order is hence\n",
    "grouped = ordinal_data.groupby('reserved_room_type').count().sort_values(by = 'meal', ascending=False).index\n",
    "room_order = [_ for _ in grouped]\n",
    "# re-level the data for reserved room types\n",
    "ordinal_data.reserved_room_type = ordinal_data.reserved_room_type.cat.reorder_categories(room_order, ordered = True)\n",
    "del grouped\n",
    "del room_order\n",
    "# repeat for assigned_room_type\n",
    "grouped = ordinal_data.groupby('assigned_room_type').count().sort_values(by = 'meal', ascending=False).index\n",
    "room_order = [_ for _ in grouped]\n",
    "ordinal_data.assigned_room_type = ordinal_data.assigned_room_type.cat.reorder_categories(room_order, ordered = True)\n",
    "del grouped\n",
    "del room_order\n",
    "# we can reorder deposit_type as is\n",
    "ordinal_data.deposit_type = ordinal_data.deposit_type.cat.reorder_categories(['No Deposit', 'Refundable', 'Non Refund'], ordered = True)\n",
    "ordinal_data.head()"
   ],
   "metadata": {
    "collapsed": false
   }
  },
  {
   "cell_type": "code",
   "execution_count": 331,
   "outputs": [
    {
     "name": "stdout",
     "output_type": "stream",
     "text": [
      "['BB', 'FB', 'HB', 'SC', 'Undefined']\n",
      "Categories (5, object): ['BB', 'FB', 'HB', 'SC', 'Undefined']\n",
      "['C', 'A', 'D', 'E', 'G', 'F', 'H', 'L', 'P', 'B']\n",
      "Categories (10, object): ['A', 'B', 'C', 'D', ..., 'G', 'H', 'L', 'P']\n",
      "['C', 'A', 'D', 'E', 'G', ..., 'B', 'H', 'P', 'L', 'K']\n",
      "Length: 12\n",
      "Categories (12, object): ['A', 'B', 'C', 'D', ..., 'I', 'K', 'L', 'P']\n",
      "['No Deposit', 'Refundable', 'Non Refund']\n",
      "Categories (3, object): ['No Deposit', 'Non Refund', 'Refundable']\n"
     ]
    }
   ],
   "source": [
    "# print original levels for each category\n",
    "for column in ordinal_data.columns:\n",
    "    print(ordinal_data[f'{column}'].unique())"
   ],
   "metadata": {
    "collapsed": false
   }
  },
  {
   "cell_type": "code",
   "execution_count": 332,
   "outputs": [
    {
     "data": {
      "text/plain": "['BB', 'FB', 'HB', 'SC']\nCategories (4, object): ['SC' < 'BB' < 'HB' < 'FB']"
     },
     "execution_count": 332,
     "metadata": {},
     "output_type": "execute_result"
    }
   ],
   "source": [
    "# from the data dictionary, we know that sc and undefined mean no meal package for the customer, with undefined being used to avoid excessive labels\n",
    "ordinal_data.meal = ordinal_data.meal.replace('Undefined', 'SC')\n",
    "# let's re-level the data now\n",
    "ordinal_data.meal = ordinal_data.meal.cat.reorder_categories(['SC', 'BB', 'HB', 'FB'], ordered = True)\n",
    "ordinal_data.meal.unique()"
   ],
   "metadata": {
    "collapsed": false
   }
  },
  {
   "cell_type": "code",
   "execution_count": 333,
   "outputs": [
    {
     "data": {
      "text/plain": "  meal reserved_room_type assigned_room_type deposit_type\n0   BB                  C                  C   No Deposit\n1   BB                  C                  C   No Deposit\n2   BB                  A                  C   No Deposit\n3   BB                  A                  A   No Deposit\n4   BB                  A                  A   No Deposit",
      "text/html": "<div>\n<style scoped>\n    .dataframe tbody tr th:only-of-type {\n        vertical-align: middle;\n    }\n\n    .dataframe tbody tr th {\n        vertical-align: top;\n    }\n\n    .dataframe thead th {\n        text-align: right;\n    }\n</style>\n<table border=\"1\" class=\"dataframe\">\n  <thead>\n    <tr style=\"text-align: right;\">\n      <th></th>\n      <th>meal</th>\n      <th>reserved_room_type</th>\n      <th>assigned_room_type</th>\n      <th>deposit_type</th>\n    </tr>\n  </thead>\n  <tbody>\n    <tr>\n      <th>0</th>\n      <td>BB</td>\n      <td>C</td>\n      <td>C</td>\n      <td>No Deposit</td>\n    </tr>\n    <tr>\n      <th>1</th>\n      <td>BB</td>\n      <td>C</td>\n      <td>C</td>\n      <td>No Deposit</td>\n    </tr>\n    <tr>\n      <th>2</th>\n      <td>BB</td>\n      <td>A</td>\n      <td>C</td>\n      <td>No Deposit</td>\n    </tr>\n    <tr>\n      <th>3</th>\n      <td>BB</td>\n      <td>A</td>\n      <td>A</td>\n      <td>No Deposit</td>\n    </tr>\n    <tr>\n      <th>4</th>\n      <td>BB</td>\n      <td>A</td>\n      <td>A</td>\n      <td>No Deposit</td>\n    </tr>\n  </tbody>\n</table>\n</div>"
     },
     "execution_count": 333,
     "metadata": {},
     "output_type": "execute_result"
    }
   ],
   "source": [
    "# let's move onto room types\n",
    "# Here we can make an assumption that the less common rooms would be the more premium ones\n",
    "# to check this, we can count values after grouping\n",
    "# our order is hence\n",
    "grouped = ordinal_data.groupby('reserved_room_type').count().sort_values(by = 'meal', ascending=False).index\n",
    "room_order = [_ for _ in grouped]\n",
    "# re-level the data for reserved room types\n",
    "ordinal_data.reserved_room_type = ordinal_data.reserved_room_type.cat.reorder_categories(room_order, ordered = True)\n",
    "del grouped\n",
    "del room_order\n",
    "ordinal_data.head()"
   ],
   "metadata": {
    "collapsed": false
   }
  },
  {
   "cell_type": "code",
   "execution_count": 334,
   "outputs": [
    {
     "data": {
      "text/plain": "['C', 'A', 'D', 'E', 'G', ..., 'B', 'H', 'P', 'L', 'K']\nLength: 12\nCategories (12, object): ['A' < 'D' < 'E' < 'F' ... 'I' < 'K' < 'P' < 'L']"
     },
     "execution_count": 334,
     "metadata": {},
     "output_type": "execute_result"
    }
   ],
   "source": [
    "# repeat for assigned_room_type\n",
    "grouped = ordinal_data.groupby('assigned_room_type').count().sort_values(by = 'meal', ascending=False).index\n",
    "room_order = [_ for _ in grouped]\n",
    "ordinal_data.assigned_room_type = ordinal_data.assigned_room_type.cat.reorder_categories(room_order, ordered = True)\n",
    "del grouped\n",
    "del room_order\n",
    "ordinal_data.assigned_room_type.unique()"
   ],
   "metadata": {
    "collapsed": false
   }
  },
  {
   "cell_type": "code",
   "execution_count": 335,
   "outputs": [
    {
     "data": {
      "text/plain": "['No Deposit', 'Refundable', 'Non Refund']\nCategories (3, object): ['No Deposit' < 'Refundable' < 'Non Refund']"
     },
     "execution_count": 335,
     "metadata": {},
     "output_type": "execute_result"
    }
   ],
   "source": [
    "# we can reorder deposit_type as is\n",
    "ordinal_data.deposit_type = ordinal_data.deposit_type.cat.reorder_categories(['No Deposit', 'Refundable', 'Non Refund'], ordered = True)\n",
    "ordinal_data.deposit_type.unique()"
   ],
   "metadata": {
    "collapsed": false
   }
  },
  {
   "cell_type": "code",
   "execution_count": 336,
   "outputs": [
    {
     "name": "stdout",
     "output_type": "stream",
     "text": [
      "<class 'pandas.core.frame.DataFrame'>\n",
      "RangeIndex: 119390 entries, 0 to 119389\n",
      "Data columns (total 8 columns):\n",
      " #   Column                Non-Null Count   Dtype   \n",
      "---  ------                --------------   -----   \n",
      " 0   hotel                 119390 non-null  category\n",
      " 1   country               119390 non-null  category\n",
      " 2   market_segment        119390 non-null  category\n",
      " 3   distribution_channel  119390 non-null  category\n",
      " 4   agent                 119390 non-null  category\n",
      " 5   company               119390 non-null  category\n",
      " 6   customer_type         119390 non-null  category\n",
      " 7   reservation_status    119390 non-null  category\n",
      "dtypes: category(8)\n",
      "memory usage: 1.3 MB\n"
     ]
    }
   ],
   "source": [
    "nominal_cat_data = cat_data.copy().drop(columns = ordinal_data.columns, axis=1)\n",
    "nominal_cat_data.info()"
   ],
   "metadata": {
    "collapsed": false
   }
  },
  {
   "cell_type": "code",
   "execution_count": 344,
   "outputs": [
    {
     "name": "stdout",
     "output_type": "stream",
     "text": [
      "Column: meal, Number of unique objects: 4\n",
      "Column: reserved_room_type, Number of unique objects: 10\n",
      "Column: assigned_room_type, Number of unique objects: 12\n",
      "Column: deposit_type, Number of unique objects: 3\n",
      "Total number of categories: 29\n"
     ]
    }
   ],
   "source": [
    "# let's see the number of categories in each column\n",
    "x = 0\n",
    "for column in ordinal_data.columns:\n",
    "    tmp = [_ for _ in ordinal_data[f'{column}'].unique()]\n",
    "    print(f'Column: {column}, Number of unique objects: {len(tmp)}')\n",
    "    x += len(tmp)\n",
    "print(f'Total number of categories: {x}')"
   ],
   "metadata": {
    "collapsed": false
   }
  },
  {
   "cell_type": "code",
   "execution_count": 343,
   "outputs": [
    {
     "name": "stdout",
     "output_type": "stream",
     "text": [
      "Column: hotel, Number of unique objects: 2\n",
      "Column: country, Number of unique objects: 177\n",
      "Column: market_segment, Number of unique objects: 8\n",
      "Column: distribution_channel, Number of unique objects: 5\n",
      "Column: agent, Number of unique objects: 334\n",
      "Column: company, Number of unique objects: 353\n",
      "Column: customer_type, Number of unique objects: 4\n",
      "Column: reservation_status, Number of unique objects: 3\n",
      "Total number of categories: 886\n"
     ]
    }
   ],
   "source": [
    "# let's see the number of categories in each column\n",
    "x = 0\n",
    "for column in nominal_cat_data.columns:\n",
    "    tmp = [_ for _ in nominal_cat_data[f'{column}'].unique()]\n",
    "    print(f'Column: {column}, Number of unique objects: {len(tmp)}')\n",
    "    x += len(tmp)\n",
    "print(f'Total number of categories: {x}')"
   ],
   "metadata": {
    "collapsed": false
   }
  },
  {
   "cell_type": "code",
   "execution_count": 346,
   "outputs": [
    {
     "name": "stdout",
     "output_type": "stream",
     "text": [
      "['Resort Hotel', 'City Hotel']\n",
      "['Direct', 'Corporate', 'Online TA', 'Offline TA/TO', 'Complementary', 'Groups', 'Undefined', 'Aviation']\n",
      "['Direct', 'Corporate', 'TA/TO', 'Undefined', 'GDS']\n",
      "['Transient', 'Contract', 'Transient-Party', 'Group']\n",
      "['Check-Out', 'Canceled', 'No-Show']\n"
     ]
    }
   ],
   "source": [
    "# Check unique items in each column to ensure they are safe to use\n",
    "for column in nominal_cat_data.columns:\n",
    "    if column == 'country' or column == 'agent' or column == 'company':\n",
    "        continue\n",
    "    tmp = [_ for _ in nominal_cat_data[f'{column}'].unique()]\n",
    "    print(tmp)"
   ],
   "metadata": {
    "collapsed": false
   }
  },
  {
   "cell_type": "code",
   "execution_count": 354,
   "outputs": [
    {
     "data": {
      "text/plain": "              hotel country market_segment distribution_channel agent company  \\\n14594  Resort Hotel     PRT         Direct            Undefined   0.0     0.0   \n40600    City Hotel     PRT      Undefined            Undefined   0.0     0.0   \n40667    City Hotel     PRT         Direct            Undefined  14.0     0.0   \n40679    City Hotel     PRT      Undefined            Undefined   0.0     0.0   \n41160    City Hotel     PRT      Online TA            Undefined   9.0     0.0   \n\n         customer_type reservation_status  \n14594        Transient          Check-Out  \n40600  Transient-Party           Canceled  \n40667  Transient-Party           Canceled  \n40679  Transient-Party           Canceled  \n41160  Transient-Party           Canceled  ",
      "text/html": "<div>\n<style scoped>\n    .dataframe tbody tr th:only-of-type {\n        vertical-align: middle;\n    }\n\n    .dataframe tbody tr th {\n        vertical-align: top;\n    }\n\n    .dataframe thead th {\n        text-align: right;\n    }\n</style>\n<table border=\"1\" class=\"dataframe\">\n  <thead>\n    <tr style=\"text-align: right;\">\n      <th></th>\n      <th>hotel</th>\n      <th>country</th>\n      <th>market_segment</th>\n      <th>distribution_channel</th>\n      <th>agent</th>\n      <th>company</th>\n      <th>customer_type</th>\n      <th>reservation_status</th>\n    </tr>\n  </thead>\n  <tbody>\n    <tr>\n      <th>14594</th>\n      <td>Resort Hotel</td>\n      <td>PRT</td>\n      <td>Direct</td>\n      <td>Undefined</td>\n      <td>0.0</td>\n      <td>0.0</td>\n      <td>Transient</td>\n      <td>Check-Out</td>\n    </tr>\n    <tr>\n      <th>40600</th>\n      <td>City Hotel</td>\n      <td>PRT</td>\n      <td>Undefined</td>\n      <td>Undefined</td>\n      <td>0.0</td>\n      <td>0.0</td>\n      <td>Transient-Party</td>\n      <td>Canceled</td>\n    </tr>\n    <tr>\n      <th>40667</th>\n      <td>City Hotel</td>\n      <td>PRT</td>\n      <td>Direct</td>\n      <td>Undefined</td>\n      <td>14.0</td>\n      <td>0.0</td>\n      <td>Transient-Party</td>\n      <td>Canceled</td>\n    </tr>\n    <tr>\n      <th>40679</th>\n      <td>City Hotel</td>\n      <td>PRT</td>\n      <td>Undefined</td>\n      <td>Undefined</td>\n      <td>0.0</td>\n      <td>0.0</td>\n      <td>Transient-Party</td>\n      <td>Canceled</td>\n    </tr>\n    <tr>\n      <th>41160</th>\n      <td>City Hotel</td>\n      <td>PRT</td>\n      <td>Online TA</td>\n      <td>Undefined</td>\n      <td>9.0</td>\n      <td>0.0</td>\n      <td>Transient-Party</td>\n      <td>Canceled</td>\n    </tr>\n  </tbody>\n</table>\n</div>"
     },
     "execution_count": 354,
     "metadata": {},
     "output_type": "execute_result"
    }
   ],
   "source": [
    "nominal_cat_data.query('distribution_channel == \"Undefined\"')"
   ],
   "metadata": {
    "collapsed": false
   }
  },
  {
   "cell_type": "code",
   "execution_count": 355,
   "outputs": [
    {
     "data": {
      "text/plain": "            hotel country market_segment distribution_channel agent company  \\\n40600  City Hotel     PRT      Undefined            Undefined   0.0     0.0   \n40679  City Hotel     PRT      Undefined            Undefined   0.0     0.0   \n\n         customer_type reservation_status  \n40600  Transient-Party           Canceled  \n40679  Transient-Party           Canceled  ",
      "text/html": "<div>\n<style scoped>\n    .dataframe tbody tr th:only-of-type {\n        vertical-align: middle;\n    }\n\n    .dataframe tbody tr th {\n        vertical-align: top;\n    }\n\n    .dataframe thead th {\n        text-align: right;\n    }\n</style>\n<table border=\"1\" class=\"dataframe\">\n  <thead>\n    <tr style=\"text-align: right;\">\n      <th></th>\n      <th>hotel</th>\n      <th>country</th>\n      <th>market_segment</th>\n      <th>distribution_channel</th>\n      <th>agent</th>\n      <th>company</th>\n      <th>customer_type</th>\n      <th>reservation_status</th>\n    </tr>\n  </thead>\n  <tbody>\n    <tr>\n      <th>40600</th>\n      <td>City Hotel</td>\n      <td>PRT</td>\n      <td>Undefined</td>\n      <td>Undefined</td>\n      <td>0.0</td>\n      <td>0.0</td>\n      <td>Transient-Party</td>\n      <td>Canceled</td>\n    </tr>\n    <tr>\n      <th>40679</th>\n      <td>City Hotel</td>\n      <td>PRT</td>\n      <td>Undefined</td>\n      <td>Undefined</td>\n      <td>0.0</td>\n      <td>0.0</td>\n      <td>Transient-Party</td>\n      <td>Canceled</td>\n    </tr>\n  </tbody>\n</table>\n</div>"
     },
     "execution_count": 355,
     "metadata": {},
     "output_type": "execute_result"
    }
   ],
   "source": [
    "nominal_cat_data.query('market_segment == \"Undefined\"')"
   ],
   "metadata": {
    "collapsed": false
   }
  },
  {
   "cell_type": "code",
   "execution_count": 361,
   "outputs": [
    {
     "data": {
      "text/plain": "                                     hotel  country  agent  company  \\\ndistribution_channel market_segment                                   \nTA/TO                Online TA       56153    56153  56153    56153   \n                     Offline TA/TO   23946    23946  23946    23946   \n                     Groups          17111    17111  17111    17111   \nDirect               Direct          12276    12276  12276    12276   \nCorporate            Corporate        4788     4788   4788     4788   \n...                                    ...      ...    ...      ...   \nUndefined            Corporate           0        0      0        0   \nCorporate            Undefined           0        0      0        0   \nUndefined            Groups              0        0      0        0   \n                     Offline TA/TO       0        0      0        0   \nGDS                  Groups              0        0      0        0   \n\n                                     customer_type  reservation_status  \ndistribution_channel market_segment                                     \nTA/TO                Online TA               56153               56153  \n                     Offline TA/TO           23946               23946  \n                     Groups                  17111               17111  \nDirect               Direct                  12276               12276  \nCorporate            Corporate                4788                4788  \n...                                            ...                 ...  \nUndefined            Corporate                   0                   0  \nCorporate            Undefined                   0                   0  \nUndefined            Groups                      0                   0  \n                     Offline TA/TO               0                   0  \nGDS                  Groups                      0                   0  \n\n[40 rows x 6 columns]",
      "text/html": "<div>\n<style scoped>\n    .dataframe tbody tr th:only-of-type {\n        vertical-align: middle;\n    }\n\n    .dataframe tbody tr th {\n        vertical-align: top;\n    }\n\n    .dataframe thead th {\n        text-align: right;\n    }\n</style>\n<table border=\"1\" class=\"dataframe\">\n  <thead>\n    <tr style=\"text-align: right;\">\n      <th></th>\n      <th></th>\n      <th>hotel</th>\n      <th>country</th>\n      <th>agent</th>\n      <th>company</th>\n      <th>customer_type</th>\n      <th>reservation_status</th>\n    </tr>\n    <tr>\n      <th>distribution_channel</th>\n      <th>market_segment</th>\n      <th></th>\n      <th></th>\n      <th></th>\n      <th></th>\n      <th></th>\n      <th></th>\n    </tr>\n  </thead>\n  <tbody>\n    <tr>\n      <th rowspan=\"3\" valign=\"top\">TA/TO</th>\n      <th>Online TA</th>\n      <td>56153</td>\n      <td>56153</td>\n      <td>56153</td>\n      <td>56153</td>\n      <td>56153</td>\n      <td>56153</td>\n    </tr>\n    <tr>\n      <th>Offline TA/TO</th>\n      <td>23946</td>\n      <td>23946</td>\n      <td>23946</td>\n      <td>23946</td>\n      <td>23946</td>\n      <td>23946</td>\n    </tr>\n    <tr>\n      <th>Groups</th>\n      <td>17111</td>\n      <td>17111</td>\n      <td>17111</td>\n      <td>17111</td>\n      <td>17111</td>\n      <td>17111</td>\n    </tr>\n    <tr>\n      <th>Direct</th>\n      <th>Direct</th>\n      <td>12276</td>\n      <td>12276</td>\n      <td>12276</td>\n      <td>12276</td>\n      <td>12276</td>\n      <td>12276</td>\n    </tr>\n    <tr>\n      <th>Corporate</th>\n      <th>Corporate</th>\n      <td>4788</td>\n      <td>4788</td>\n      <td>4788</td>\n      <td>4788</td>\n      <td>4788</td>\n      <td>4788</td>\n    </tr>\n    <tr>\n      <th>...</th>\n      <th>...</th>\n      <td>...</td>\n      <td>...</td>\n      <td>...</td>\n      <td>...</td>\n      <td>...</td>\n      <td>...</td>\n    </tr>\n    <tr>\n      <th>Undefined</th>\n      <th>Corporate</th>\n      <td>0</td>\n      <td>0</td>\n      <td>0</td>\n      <td>0</td>\n      <td>0</td>\n      <td>0</td>\n    </tr>\n    <tr>\n      <th>Corporate</th>\n      <th>Undefined</th>\n      <td>0</td>\n      <td>0</td>\n      <td>0</td>\n      <td>0</td>\n      <td>0</td>\n      <td>0</td>\n    </tr>\n    <tr>\n      <th rowspan=\"2\" valign=\"top\">Undefined</th>\n      <th>Groups</th>\n      <td>0</td>\n      <td>0</td>\n      <td>0</td>\n      <td>0</td>\n      <td>0</td>\n      <td>0</td>\n    </tr>\n    <tr>\n      <th>Offline TA/TO</th>\n      <td>0</td>\n      <td>0</td>\n      <td>0</td>\n      <td>0</td>\n      <td>0</td>\n      <td>0</td>\n    </tr>\n    <tr>\n      <th>GDS</th>\n      <th>Groups</th>\n      <td>0</td>\n      <td>0</td>\n      <td>0</td>\n      <td>0</td>\n      <td>0</td>\n      <td>0</td>\n    </tr>\n  </tbody>\n</table>\n<p>40 rows × 6 columns</p>\n</div>"
     },
     "execution_count": 361,
     "metadata": {},
     "output_type": "execute_result"
    }
   ],
   "source": [
    "# since these are only a total of 5 records with undefined for market_segment, and distribution_channel, we can set them to the modal values\n",
    "nominal_cat_data.groupby(['distribution_channel', 'market_segment']).count().sort_values(by = 'customer_type', ascending=False)"
   ],
   "metadata": {
    "collapsed": false
   }
  },
  {
   "cell_type": "code",
   "execution_count": 362,
   "outputs": [
    {
     "data": {
      "text/plain": "          hotel country market_segment distribution_channel  agent company  \\\n0  Resort Hotel     PRT         Direct               Direct    0.0     0.0   \n1  Resort Hotel     PRT         Direct               Direct    0.0     0.0   \n2  Resort Hotel     GBR         Direct               Direct    0.0     0.0   \n3  Resort Hotel     GBR      Corporate            Corporate  304.0     0.0   \n4  Resort Hotel     GBR      Online TA                TA/TO  240.0     0.0   \n\n  customer_type reservation_status  \n0     Transient          Check-Out  \n1     Transient          Check-Out  \n2     Transient          Check-Out  \n3     Transient          Check-Out  \n4     Transient          Check-Out  ",
      "text/html": "<div>\n<style scoped>\n    .dataframe tbody tr th:only-of-type {\n        vertical-align: middle;\n    }\n\n    .dataframe tbody tr th {\n        vertical-align: top;\n    }\n\n    .dataframe thead th {\n        text-align: right;\n    }\n</style>\n<table border=\"1\" class=\"dataframe\">\n  <thead>\n    <tr style=\"text-align: right;\">\n      <th></th>\n      <th>hotel</th>\n      <th>country</th>\n      <th>market_segment</th>\n      <th>distribution_channel</th>\n      <th>agent</th>\n      <th>company</th>\n      <th>customer_type</th>\n      <th>reservation_status</th>\n    </tr>\n  </thead>\n  <tbody>\n    <tr>\n      <th>0</th>\n      <td>Resort Hotel</td>\n      <td>PRT</td>\n      <td>Direct</td>\n      <td>Direct</td>\n      <td>0.0</td>\n      <td>0.0</td>\n      <td>Transient</td>\n      <td>Check-Out</td>\n    </tr>\n    <tr>\n      <th>1</th>\n      <td>Resort Hotel</td>\n      <td>PRT</td>\n      <td>Direct</td>\n      <td>Direct</td>\n      <td>0.0</td>\n      <td>0.0</td>\n      <td>Transient</td>\n      <td>Check-Out</td>\n    </tr>\n    <tr>\n      <th>2</th>\n      <td>Resort Hotel</td>\n      <td>GBR</td>\n      <td>Direct</td>\n      <td>Direct</td>\n      <td>0.0</td>\n      <td>0.0</td>\n      <td>Transient</td>\n      <td>Check-Out</td>\n    </tr>\n    <tr>\n      <th>3</th>\n      <td>Resort Hotel</td>\n      <td>GBR</td>\n      <td>Corporate</td>\n      <td>Corporate</td>\n      <td>304.0</td>\n      <td>0.0</td>\n      <td>Transient</td>\n      <td>Check-Out</td>\n    </tr>\n    <tr>\n      <th>4</th>\n      <td>Resort Hotel</td>\n      <td>GBR</td>\n      <td>Online TA</td>\n      <td>TA/TO</td>\n      <td>240.0</td>\n      <td>0.0</td>\n      <td>Transient</td>\n      <td>Check-Out</td>\n    </tr>\n  </tbody>\n</table>\n</div>"
     },
     "execution_count": 362,
     "metadata": {},
     "output_type": "execute_result"
    }
   ],
   "source": [
    "# replace undefined with TA/TO and Online TA for dist chan and mark seg\n",
    "nominal_cat_data.distribution_channel = nominal_cat_data.distribution_channel.replace('Undefined', 'TA/TO')\n",
    "nominal_cat_data.market_segment = nominal_cat_data.market_segment.replace('Undefined', 'Online TA')\n",
    "nominal_cat_data.head()"
   ],
   "metadata": {
    "collapsed": false
   }
  },
  {
   "cell_type": "markdown",
   "source": [
    "# Encoding Categorical Variables"
   ],
   "metadata": {
    "collapsed": false
   }
  },
  {
   "cell_type": "code",
   "execution_count": null,
   "outputs": [],
   "source": [
    "# Ordinal Data Encoding Using Label Encoding"
   ],
   "metadata": {
    "collapsed": false
   }
  },
  {
   "cell_type": "code",
   "execution_count": 370,
   "outputs": [
    {
     "data": {
      "text/plain": "  meal reserved_room_type assigned_room_type deposit_type         hotel  \\\n0   BB                  C                  C   No Deposit  Resort Hotel   \n1   BB                  C                  C   No Deposit  Resort Hotel   \n2   BB                  A                  C   No Deposit  Resort Hotel   \n3   BB                  A                  A   No Deposit  Resort Hotel   \n4   BB                  A                  A   No Deposit  Resort Hotel   \n\n  country market_segment distribution_channel  agent company customer_type  \\\n0     PRT         Direct               Direct    0.0     0.0     Transient   \n1     PRT         Direct               Direct    0.0     0.0     Transient   \n2     GBR         Direct               Direct    0.0     0.0     Transient   \n3     GBR      Corporate            Corporate  304.0     0.0     Transient   \n4     GBR      Online TA                TA/TO  240.0     0.0     Transient   \n\n  reservation_status  \n0          Check-Out  \n1          Check-Out  \n2          Check-Out  \n3          Check-Out  \n4          Check-Out  ",
      "text/html": "<div>\n<style scoped>\n    .dataframe tbody tr th:only-of-type {\n        vertical-align: middle;\n    }\n\n    .dataframe tbody tr th {\n        vertical-align: top;\n    }\n\n    .dataframe thead th {\n        text-align: right;\n    }\n</style>\n<table border=\"1\" class=\"dataframe\">\n  <thead>\n    <tr style=\"text-align: right;\">\n      <th></th>\n      <th>meal</th>\n      <th>reserved_room_type</th>\n      <th>assigned_room_type</th>\n      <th>deposit_type</th>\n      <th>hotel</th>\n      <th>country</th>\n      <th>market_segment</th>\n      <th>distribution_channel</th>\n      <th>agent</th>\n      <th>company</th>\n      <th>customer_type</th>\n      <th>reservation_status</th>\n    </tr>\n  </thead>\n  <tbody>\n    <tr>\n      <th>0</th>\n      <td>BB</td>\n      <td>C</td>\n      <td>C</td>\n      <td>No Deposit</td>\n      <td>Resort Hotel</td>\n      <td>PRT</td>\n      <td>Direct</td>\n      <td>Direct</td>\n      <td>0.0</td>\n      <td>0.0</td>\n      <td>Transient</td>\n      <td>Check-Out</td>\n    </tr>\n    <tr>\n      <th>1</th>\n      <td>BB</td>\n      <td>C</td>\n      <td>C</td>\n      <td>No Deposit</td>\n      <td>Resort Hotel</td>\n      <td>PRT</td>\n      <td>Direct</td>\n      <td>Direct</td>\n      <td>0.0</td>\n      <td>0.0</td>\n      <td>Transient</td>\n      <td>Check-Out</td>\n    </tr>\n    <tr>\n      <th>2</th>\n      <td>BB</td>\n      <td>A</td>\n      <td>C</td>\n      <td>No Deposit</td>\n      <td>Resort Hotel</td>\n      <td>GBR</td>\n      <td>Direct</td>\n      <td>Direct</td>\n      <td>0.0</td>\n      <td>0.0</td>\n      <td>Transient</td>\n      <td>Check-Out</td>\n    </tr>\n    <tr>\n      <th>3</th>\n      <td>BB</td>\n      <td>A</td>\n      <td>A</td>\n      <td>No Deposit</td>\n      <td>Resort Hotel</td>\n      <td>GBR</td>\n      <td>Corporate</td>\n      <td>Corporate</td>\n      <td>304.0</td>\n      <td>0.0</td>\n      <td>Transient</td>\n      <td>Check-Out</td>\n    </tr>\n    <tr>\n      <th>4</th>\n      <td>BB</td>\n      <td>A</td>\n      <td>A</td>\n      <td>No Deposit</td>\n      <td>Resort Hotel</td>\n      <td>GBR</td>\n      <td>Online TA</td>\n      <td>TA/TO</td>\n      <td>240.0</td>\n      <td>0.0</td>\n      <td>Transient</td>\n      <td>Check-Out</td>\n    </tr>\n  </tbody>\n</table>\n</div>"
     },
     "execution_count": 370,
     "metadata": {},
     "output_type": "execute_result"
    }
   ],
   "source": [
    "# Merge the two to return a combined categorical variable dataset for encoding\n",
    "cat_data_final = pd.concat([ordinal_data.copy(), nominal_cat_data.copy()], axis=1)\n",
    "cat_data_final.head()"
   ],
   "metadata": {
    "collapsed": false
   }
  },
  {
   "cell_type": "code",
   "execution_count": 419,
   "outputs": [],
   "source": [
    "# Performing encoding depending on number of categories\n",
    "def cat_encoding(data_frame:pd.DataFrame, target: 'str' = 'is_canceled'):\n",
    "    \"\"\"\n",
    "    Performs encoding on categorical data using different encoders depending on the number of categories\n",
    "        > LeaveOneOutEncoding if the data has size less than equal to 100\n",
    "        > CatBoostEncoding otherwise\n",
    "    :param data_frame: The input dataframe with categorical data\n",
    "    :param target: The target column for target-based encoders\n",
    "    :return: A copy of the original dataframe with the encoded data\n",
    "    \"\"\"\n",
    "    df = data_frame.copy()\n",
    "    categorical_cols = df.select_dtypes(include=['category']).columns\n",
    "    if len(categorical_cols) > 0:\n",
    "        # Label encoding for ordinal categories\n",
    "        for col in categorical_cols:\n",
    "            if len(df[col].unique()) <= 100:\n",
    "                # Target encoding for high cardinality categories\n",
    "                loo = LeaveOneOutEncoder(sigma=0.3, random_state=2407)\n",
    "                df[col] = loo.fit_transform(df[col], df[f'{target}'])\n",
    "            else:\n",
    "                # Target encoding for very high cardinality categories\n",
    "                cb = CatBoostEncoder(sigma=0.5, random_state=2407)\n",
    "                df[col] = cb.fit_transform(df[col], df[f'{target}'])\n",
    "    return df"
   ],
   "metadata": {
    "collapsed": false
   }
  },
  {
   "cell_type": "code",
   "execution_count": 417,
   "outputs": [
    {
     "data": {
      "text/plain": "       meal  reserved_room_type  assigned_room_type  deposit_type  is_canceled\n0  0.370689            0.328027            0.186279      0.281371            0\n1  0.508977            0.450400            0.255771      0.386338            0\n2  0.258566            0.270479            0.129934      0.196264            0\n3  0.396356            0.414618            0.471712      0.300854            0\n4  0.430503            0.450338            0.512351      0.326773            0",
      "text/html": "<div>\n<style scoped>\n    .dataframe tbody tr th:only-of-type {\n        vertical-align: middle;\n    }\n\n    .dataframe tbody tr th {\n        vertical-align: top;\n    }\n\n    .dataframe thead th {\n        text-align: right;\n    }\n</style>\n<table border=\"1\" class=\"dataframe\">\n  <thead>\n    <tr style=\"text-align: right;\">\n      <th></th>\n      <th>meal</th>\n      <th>reserved_room_type</th>\n      <th>assigned_room_type</th>\n      <th>deposit_type</th>\n      <th>is_canceled</th>\n    </tr>\n  </thead>\n  <tbody>\n    <tr>\n      <th>0</th>\n      <td>0.370689</td>\n      <td>0.328027</td>\n      <td>0.186279</td>\n      <td>0.281371</td>\n      <td>0</td>\n    </tr>\n    <tr>\n      <th>1</th>\n      <td>0.508977</td>\n      <td>0.450400</td>\n      <td>0.255771</td>\n      <td>0.386338</td>\n      <td>0</td>\n    </tr>\n    <tr>\n      <th>2</th>\n      <td>0.258566</td>\n      <td>0.270479</td>\n      <td>0.129934</td>\n      <td>0.196264</td>\n      <td>0</td>\n    </tr>\n    <tr>\n      <th>3</th>\n      <td>0.396356</td>\n      <td>0.414618</td>\n      <td>0.471712</td>\n      <td>0.300854</td>\n      <td>0</td>\n    </tr>\n    <tr>\n      <th>4</th>\n      <td>0.430503</td>\n      <td>0.450338</td>\n      <td>0.512351</td>\n      <td>0.326773</td>\n      <td>0</td>\n    </tr>\n  </tbody>\n</table>\n</div>"
     },
     "execution_count": 417,
     "metadata": {},
     "output_type": "execute_result"
    }
   ],
   "source": [
    "ordinal_data['is_canceled'] = data['is_canceled'].copy()\n",
    "ordinal_data_encoded = cat_encoding(ordinal_data)\n",
    "ordinal_data_encoded.head()"
   ],
   "metadata": {
    "collapsed": false
   }
  },
  {
   "cell_type": "code",
   "execution_count": 418,
   "outputs": [
    {
     "data": {
      "text/plain": "      hotel   country  market_segment  distribution_channel     agent  \\\n0  0.275291  0.365191        0.152133              0.173133  0.365191   \n1  0.377989  0.296776        0.208887              0.237721  0.296776   \n2  0.192023  0.180037        0.106117              0.120765  0.060012   \n3  0.294352  0.203788        0.198661              0.234081  0.407577   \n4  0.319711  0.154655        0.422888              0.472452  0.463965   \n\n    company  customer_type  reservation_status  is_canceled  \n0  0.365191       0.404019                 0.0            0  \n1  0.296776       0.554741                 0.0            0  \n2  0.060012       0.281814                 0.0            0  \n3  0.101894       0.431994                 0.0            0  \n4  0.092793       0.469211                 0.0            0  ",
      "text/html": "<div>\n<style scoped>\n    .dataframe tbody tr th:only-of-type {\n        vertical-align: middle;\n    }\n\n    .dataframe tbody tr th {\n        vertical-align: top;\n    }\n\n    .dataframe thead th {\n        text-align: right;\n    }\n</style>\n<table border=\"1\" class=\"dataframe\">\n  <thead>\n    <tr style=\"text-align: right;\">\n      <th></th>\n      <th>hotel</th>\n      <th>country</th>\n      <th>market_segment</th>\n      <th>distribution_channel</th>\n      <th>agent</th>\n      <th>company</th>\n      <th>customer_type</th>\n      <th>reservation_status</th>\n      <th>is_canceled</th>\n    </tr>\n  </thead>\n  <tbody>\n    <tr>\n      <th>0</th>\n      <td>0.275291</td>\n      <td>0.365191</td>\n      <td>0.152133</td>\n      <td>0.173133</td>\n      <td>0.365191</td>\n      <td>0.365191</td>\n      <td>0.404019</td>\n      <td>0.0</td>\n      <td>0</td>\n    </tr>\n    <tr>\n      <th>1</th>\n      <td>0.377989</td>\n      <td>0.296776</td>\n      <td>0.208887</td>\n      <td>0.237721</td>\n      <td>0.296776</td>\n      <td>0.296776</td>\n      <td>0.554741</td>\n      <td>0.0</td>\n      <td>0</td>\n    </tr>\n    <tr>\n      <th>2</th>\n      <td>0.192023</td>\n      <td>0.180037</td>\n      <td>0.106117</td>\n      <td>0.120765</td>\n      <td>0.060012</td>\n      <td>0.060012</td>\n      <td>0.281814</td>\n      <td>0.0</td>\n      <td>0</td>\n    </tr>\n    <tr>\n      <th>3</th>\n      <td>0.294352</td>\n      <td>0.203788</td>\n      <td>0.198661</td>\n      <td>0.234081</td>\n      <td>0.407577</td>\n      <td>0.101894</td>\n      <td>0.431994</td>\n      <td>0.0</td>\n      <td>0</td>\n    </tr>\n    <tr>\n      <th>4</th>\n      <td>0.319711</td>\n      <td>0.154655</td>\n      <td>0.422888</td>\n      <td>0.472452</td>\n      <td>0.463965</td>\n      <td>0.092793</td>\n      <td>0.469211</td>\n      <td>0.0</td>\n      <td>0</td>\n    </tr>\n  </tbody>\n</table>\n</div>"
     },
     "execution_count": 418,
     "metadata": {},
     "output_type": "execute_result"
    }
   ],
   "source": [
    "nominal_cat_data['is_canceled'] = data['is_canceled'].copy()\n",
    "nominal_data_encoded = cat_encoding(nominal_cat_data)\n",
    "nominal_data_encoded.head()"
   ],
   "metadata": {
    "collapsed": false
   }
  },
  {
   "cell_type": "code",
   "execution_count": 475,
   "outputs": [
    {
     "data": {
      "text/plain": "      hotel   country  market_segment  distribution_channel     agent  \\\n0  0.275291  0.365191        0.152133              0.173133  0.365191   \n1  0.377989  0.296776        0.208887              0.237721  0.296776   \n2  0.192023  0.180037        0.106117              0.120765  0.060012   \n3  0.294352  0.203788        0.198661              0.234081  0.407577   \n4  0.319711  0.154655        0.422888              0.472452  0.463965   \n\n    company  customer_type  reservation_status      meal  reserved_room_type  \\\n0  0.365191       0.404019                 0.0  0.370689            0.328027   \n1  0.296776       0.554741                 0.0  0.508977            0.450400   \n2  0.060012       0.281814                 0.0  0.258566            0.270479   \n3  0.101894       0.431994                 0.0  0.396356            0.414618   \n4  0.092793       0.469211                 0.0  0.430503            0.450338   \n\n   assigned_room_type  deposit_type  \n0            0.186279      0.281371  \n1            0.255771      0.386338  \n2            0.129934      0.196264  \n3            0.471712      0.300854  \n4            0.512351      0.326773  ",
      "text/html": "<div>\n<style scoped>\n    .dataframe tbody tr th:only-of-type {\n        vertical-align: middle;\n    }\n\n    .dataframe tbody tr th {\n        vertical-align: top;\n    }\n\n    .dataframe thead th {\n        text-align: right;\n    }\n</style>\n<table border=\"1\" class=\"dataframe\">\n  <thead>\n    <tr style=\"text-align: right;\">\n      <th></th>\n      <th>hotel</th>\n      <th>country</th>\n      <th>market_segment</th>\n      <th>distribution_channel</th>\n      <th>agent</th>\n      <th>company</th>\n      <th>customer_type</th>\n      <th>reservation_status</th>\n      <th>meal</th>\n      <th>reserved_room_type</th>\n      <th>assigned_room_type</th>\n      <th>deposit_type</th>\n    </tr>\n  </thead>\n  <tbody>\n    <tr>\n      <th>0</th>\n      <td>0.275291</td>\n      <td>0.365191</td>\n      <td>0.152133</td>\n      <td>0.173133</td>\n      <td>0.365191</td>\n      <td>0.365191</td>\n      <td>0.404019</td>\n      <td>0.0</td>\n      <td>0.370689</td>\n      <td>0.328027</td>\n      <td>0.186279</td>\n      <td>0.281371</td>\n    </tr>\n    <tr>\n      <th>1</th>\n      <td>0.377989</td>\n      <td>0.296776</td>\n      <td>0.208887</td>\n      <td>0.237721</td>\n      <td>0.296776</td>\n      <td>0.296776</td>\n      <td>0.554741</td>\n      <td>0.0</td>\n      <td>0.508977</td>\n      <td>0.450400</td>\n      <td>0.255771</td>\n      <td>0.386338</td>\n    </tr>\n    <tr>\n      <th>2</th>\n      <td>0.192023</td>\n      <td>0.180037</td>\n      <td>0.106117</td>\n      <td>0.120765</td>\n      <td>0.060012</td>\n      <td>0.060012</td>\n      <td>0.281814</td>\n      <td>0.0</td>\n      <td>0.258566</td>\n      <td>0.270479</td>\n      <td>0.129934</td>\n      <td>0.196264</td>\n    </tr>\n    <tr>\n      <th>3</th>\n      <td>0.294352</td>\n      <td>0.203788</td>\n      <td>0.198661</td>\n      <td>0.234081</td>\n      <td>0.407577</td>\n      <td>0.101894</td>\n      <td>0.431994</td>\n      <td>0.0</td>\n      <td>0.396356</td>\n      <td>0.414618</td>\n      <td>0.471712</td>\n      <td>0.300854</td>\n    </tr>\n    <tr>\n      <th>4</th>\n      <td>0.319711</td>\n      <td>0.154655</td>\n      <td>0.422888</td>\n      <td>0.472452</td>\n      <td>0.463965</td>\n      <td>0.092793</td>\n      <td>0.469211</td>\n      <td>0.0</td>\n      <td>0.430503</td>\n      <td>0.450338</td>\n      <td>0.512351</td>\n      <td>0.326773</td>\n    </tr>\n  </tbody>\n</table>\n</div>"
     },
     "execution_count": 475,
     "metadata": {},
     "output_type": "execute_result"
    }
   ],
   "source": [
    "# Merge categorical variables into single column\n",
    "cat_data_final = pd.concat([nominal_data_encoded.copy().drop('is_canceled', axis=1), ordinal_data_encoded.copy().drop('is_canceled', axis=1)], axis=1)\n",
    "cat_data_final.head()"
   ],
   "metadata": {
    "collapsed": false
   }
  },
  {
   "cell_type": "markdown",
   "source": [
    "# Cleaning Numerical Data"
   ],
   "metadata": {
    "collapsed": false
   }
  },
  {
   "cell_type": "code",
   "execution_count": 546,
   "outputs": [],
   "source": [
    "def data_stat_finder(df: pd.DataFrame, target: str='is_canceled'):\n",
    "    # we first go through the value counts for the individual columns\n",
    "    results = []\n",
    "    for i in df.columns:\n",
    "        curr = df[i]\n",
    "        mean = curr.mean()\n",
    "        median = curr.median()\n",
    "        third_quartile = curr.quantile(0.75)\n",
    "        variance = curr.var()\n",
    "        sd = np.sqrt(variance)\n",
    "        covariance_with_target = curr.cov(data[f'{target}'])\n",
    "        skew = curr.skew()\n",
    "        kurtosis = curr.kurt()\n",
    "        results.append([i, mean, median, third_quartile, variance, sd, covariance_with_target, skew, kurtosis, ])\n",
    "    data_stats = pd.DataFrame(results, columns = ['col_name', 'mean', 'median', 'third_quartile', 'variance', 'sd', 'covariance_with_target', 'skew', 'kurtosis'] )\n",
    "    return data_stats"
   ],
   "metadata": {
    "collapsed": false
   }
  },
  {
   "cell_type": "code",
   "execution_count": 547,
   "outputs": [
    {
     "data": {
      "text/plain": "                          col_name        mean  median  third_quartile  \\\n0                        lead_time  104.011416  69.000           160.0   \n1         arrival_date_week_number   27.165173  28.000            38.0   \n2          stays_in_weekend_nights    0.927599   1.000             2.0   \n3             stays_in_week_nights    2.500302   2.000             3.0   \n4                           adults    1.856403   2.000             2.0   \n5                         children    0.103886   0.000             0.0   \n6                           babies    0.007949   0.000             0.0   \n7           previous_cancellations    0.087118   0.000             0.0   \n8   previous_bookings_not_canceled    0.137097   0.000             0.0   \n9                  booking_changes    0.221124   0.000             0.0   \n10            days_in_waiting_list    2.321149   0.000             0.0   \n11                             adr  101.831122  94.575           126.0   \n12     required_car_parking_spaces    0.062518   0.000             0.0   \n13       total_of_special_requests    0.571363   0.000             1.0   \n14               is_repeated_guest    0.031912   0.000             0.0   \n15                     is_canceled    0.370416   0.000             1.0   \n\n        variance          sd  covariance_with_target       skew     kurtosis  \n0   11419.721511  106.863097               15.126964   1.346550     1.696449  \n1     185.099790   13.605138                0.053534  -0.010014    -0.986077  \n2       0.997229    0.998613               -0.000864   1.380046     7.174066  \n3       3.641554    1.908286                0.022822   2.862249    24.284555  \n4       0.335543    0.579261                0.016789  18.317805  1352.115116  \n5       0.158846    0.398555                0.000969   4.112670    18.674464  \n6       0.009494    0.097436               -0.001529  24.646545  1633.948235  \n7       0.712904    0.844336                0.044906  24.458049   674.073693  \n8       2.242317    1.497437               -0.041478  23.539800   767.245210  \n9       0.425503    0.652306               -0.045481   6.000270    79.393605  \n10    309.574203   17.594721                0.460407  11.944353   186.793070  \n11   2553.866100   50.535790                1.160602  10.530214  1013.189851  \n12      0.060168    0.245291               -0.023158   4.163233    29.998056  \n13      0.628529    0.792798               -0.089840   1.349189     1.492565  \n14      0.030894    0.175767               -0.007197   5.326315    26.370077  \n15      0.233210    0.482918                0.233210   0.536678    -1.712005  ",
      "text/html": "<div>\n<style scoped>\n    .dataframe tbody tr th:only-of-type {\n        vertical-align: middle;\n    }\n\n    .dataframe tbody tr th {\n        vertical-align: top;\n    }\n\n    .dataframe thead th {\n        text-align: right;\n    }\n</style>\n<table border=\"1\" class=\"dataframe\">\n  <thead>\n    <tr style=\"text-align: right;\">\n      <th></th>\n      <th>col_name</th>\n      <th>mean</th>\n      <th>median</th>\n      <th>third_quartile</th>\n      <th>variance</th>\n      <th>sd</th>\n      <th>covariance_with_target</th>\n      <th>skew</th>\n      <th>kurtosis</th>\n    </tr>\n  </thead>\n  <tbody>\n    <tr>\n      <th>0</th>\n      <td>lead_time</td>\n      <td>104.011416</td>\n      <td>69.000</td>\n      <td>160.0</td>\n      <td>11419.721511</td>\n      <td>106.863097</td>\n      <td>15.126964</td>\n      <td>1.346550</td>\n      <td>1.696449</td>\n    </tr>\n    <tr>\n      <th>1</th>\n      <td>arrival_date_week_number</td>\n      <td>27.165173</td>\n      <td>28.000</td>\n      <td>38.0</td>\n      <td>185.099790</td>\n      <td>13.605138</td>\n      <td>0.053534</td>\n      <td>-0.010014</td>\n      <td>-0.986077</td>\n    </tr>\n    <tr>\n      <th>2</th>\n      <td>stays_in_weekend_nights</td>\n      <td>0.927599</td>\n      <td>1.000</td>\n      <td>2.0</td>\n      <td>0.997229</td>\n      <td>0.998613</td>\n      <td>-0.000864</td>\n      <td>1.380046</td>\n      <td>7.174066</td>\n    </tr>\n    <tr>\n      <th>3</th>\n      <td>stays_in_week_nights</td>\n      <td>2.500302</td>\n      <td>2.000</td>\n      <td>3.0</td>\n      <td>3.641554</td>\n      <td>1.908286</td>\n      <td>0.022822</td>\n      <td>2.862249</td>\n      <td>24.284555</td>\n    </tr>\n    <tr>\n      <th>4</th>\n      <td>adults</td>\n      <td>1.856403</td>\n      <td>2.000</td>\n      <td>2.0</td>\n      <td>0.335543</td>\n      <td>0.579261</td>\n      <td>0.016789</td>\n      <td>18.317805</td>\n      <td>1352.115116</td>\n    </tr>\n    <tr>\n      <th>5</th>\n      <td>children</td>\n      <td>0.103886</td>\n      <td>0.000</td>\n      <td>0.0</td>\n      <td>0.158846</td>\n      <td>0.398555</td>\n      <td>0.000969</td>\n      <td>4.112670</td>\n      <td>18.674464</td>\n    </tr>\n    <tr>\n      <th>6</th>\n      <td>babies</td>\n      <td>0.007949</td>\n      <td>0.000</td>\n      <td>0.0</td>\n      <td>0.009494</td>\n      <td>0.097436</td>\n      <td>-0.001529</td>\n      <td>24.646545</td>\n      <td>1633.948235</td>\n    </tr>\n    <tr>\n      <th>7</th>\n      <td>previous_cancellations</td>\n      <td>0.087118</td>\n      <td>0.000</td>\n      <td>0.0</td>\n      <td>0.712904</td>\n      <td>0.844336</td>\n      <td>0.044906</td>\n      <td>24.458049</td>\n      <td>674.073693</td>\n    </tr>\n    <tr>\n      <th>8</th>\n      <td>previous_bookings_not_canceled</td>\n      <td>0.137097</td>\n      <td>0.000</td>\n      <td>0.0</td>\n      <td>2.242317</td>\n      <td>1.497437</td>\n      <td>-0.041478</td>\n      <td>23.539800</td>\n      <td>767.245210</td>\n    </tr>\n    <tr>\n      <th>9</th>\n      <td>booking_changes</td>\n      <td>0.221124</td>\n      <td>0.000</td>\n      <td>0.0</td>\n      <td>0.425503</td>\n      <td>0.652306</td>\n      <td>-0.045481</td>\n      <td>6.000270</td>\n      <td>79.393605</td>\n    </tr>\n    <tr>\n      <th>10</th>\n      <td>days_in_waiting_list</td>\n      <td>2.321149</td>\n      <td>0.000</td>\n      <td>0.0</td>\n      <td>309.574203</td>\n      <td>17.594721</td>\n      <td>0.460407</td>\n      <td>11.944353</td>\n      <td>186.793070</td>\n    </tr>\n    <tr>\n      <th>11</th>\n      <td>adr</td>\n      <td>101.831122</td>\n      <td>94.575</td>\n      <td>126.0</td>\n      <td>2553.866100</td>\n      <td>50.535790</td>\n      <td>1.160602</td>\n      <td>10.530214</td>\n      <td>1013.189851</td>\n    </tr>\n    <tr>\n      <th>12</th>\n      <td>required_car_parking_spaces</td>\n      <td>0.062518</td>\n      <td>0.000</td>\n      <td>0.0</td>\n      <td>0.060168</td>\n      <td>0.245291</td>\n      <td>-0.023158</td>\n      <td>4.163233</td>\n      <td>29.998056</td>\n    </tr>\n    <tr>\n      <th>13</th>\n      <td>total_of_special_requests</td>\n      <td>0.571363</td>\n      <td>0.000</td>\n      <td>1.0</td>\n      <td>0.628529</td>\n      <td>0.792798</td>\n      <td>-0.089840</td>\n      <td>1.349189</td>\n      <td>1.492565</td>\n    </tr>\n    <tr>\n      <th>14</th>\n      <td>is_repeated_guest</td>\n      <td>0.031912</td>\n      <td>0.000</td>\n      <td>0.0</td>\n      <td>0.030894</td>\n      <td>0.175767</td>\n      <td>-0.007197</td>\n      <td>5.326315</td>\n      <td>26.370077</td>\n    </tr>\n    <tr>\n      <th>15</th>\n      <td>is_canceled</td>\n      <td>0.370416</td>\n      <td>0.000</td>\n      <td>1.0</td>\n      <td>0.233210</td>\n      <td>0.482918</td>\n      <td>0.233210</td>\n      <td>0.536678</td>\n      <td>-1.712005</td>\n    </tr>\n  </tbody>\n</table>\n</div>"
     },
     "execution_count": 547,
     "metadata": {},
     "output_type": "execute_result"
    }
   ],
   "source": [
    "data_stats = data_stat_finder(numerical_data)\n",
    "data_stats"
   ],
   "metadata": {
    "collapsed": false
   }
  },
  {
   "cell_type": "code",
   "execution_count": 540,
   "outputs": [],
   "source": [
    "# Defining a function to address outliers\n",
    "from scipy.stats import mstats\n",
    "def numerical_cleaning(data_frame: pd.DataFrame, target: str='is_canceled'):\n",
    "    df = data_frame.copy().drop(f'{target}', axis=1)\n",
    "    col_list = df.select_dtypes(include=['int', 'float']).columns\n",
    "    # outlier winsorization of 10 percent of data from upper and lower limits\n",
    "    for col in col_list:\n",
    "        df[f'{col}'] = pd.DataFrame(mstats.winsorize(df[f'{col}'], limits=[0.1,0.1]))\n",
    "    \"\"\"# skewness and kurtosis management\n",
    "    # skewness > 1 and kurtosis > 3 will be transformed\n",
    "    skewness = df[col_list].skew()\n",
    "    skewed_cols = skewness[abs(skewness) > 0.5].index\n",
    "    if len(skewed_cols) > 0:\n",
    "        df[skewed_cols] = df[skewed_cols].apply(lambda x: np.log1p(x))\"\"\"\n",
    "    df[f'{target}'] = data_frame.copy()[f'{target}']\n",
    "    return df"
   ],
   "metadata": {
    "collapsed": false
   }
  },
  {
   "cell_type": "code",
   "execution_count": 541,
   "outputs": [
    {
     "data": {
      "text/plain": "   lead_time  arrival_date_week_number  stays_in_weekend_nights  \\\n0        265                        27                        0   \n1        265                        27                        0   \n2          7                        27                        0   \n3         13                        27                        0   \n4         14                        27                        0   \n\n   stays_in_week_nights  adults  children  babies  previous_cancellations  \\\n0                     1       2       0.0       0                       0   \n1                     1       2       0.0       0                       0   \n2                     1       1       0.0       0                       0   \n3                     1       1       0.0       0                       0   \n4                     2       2       0.0       0                       0   \n\n   previous_bookings_not_canceled  booking_changes  days_in_waiting_list  \\\n0                               0                1                     0   \n1                               0                1                     0   \n2                               0                0                     0   \n3                               0                0                     0   \n4                               0                0                     0   \n\n    adr  required_car_parking_spaces  total_of_special_requests  \\\n0  50.0                            0                          0   \n1  50.0                            0                          0   \n2  75.0                            0                          0   \n3  75.0                            0                          0   \n4  98.0                            0                          1   \n\n   is_repeated_guest  is_canceled  \n0                  0            0  \n1                  0            0  \n2                  0            0  \n3                  0            0  \n4                  0            0  ",
      "text/html": "<div>\n<style scoped>\n    .dataframe tbody tr th:only-of-type {\n        vertical-align: middle;\n    }\n\n    .dataframe tbody tr th {\n        vertical-align: top;\n    }\n\n    .dataframe thead th {\n        text-align: right;\n    }\n</style>\n<table border=\"1\" class=\"dataframe\">\n  <thead>\n    <tr style=\"text-align: right;\">\n      <th></th>\n      <th>lead_time</th>\n      <th>arrival_date_week_number</th>\n      <th>stays_in_weekend_nights</th>\n      <th>stays_in_week_nights</th>\n      <th>adults</th>\n      <th>children</th>\n      <th>babies</th>\n      <th>previous_cancellations</th>\n      <th>previous_bookings_not_canceled</th>\n      <th>booking_changes</th>\n      <th>days_in_waiting_list</th>\n      <th>adr</th>\n      <th>required_car_parking_spaces</th>\n      <th>total_of_special_requests</th>\n      <th>is_repeated_guest</th>\n      <th>is_canceled</th>\n    </tr>\n  </thead>\n  <tbody>\n    <tr>\n      <th>0</th>\n      <td>265</td>\n      <td>27</td>\n      <td>0</td>\n      <td>1</td>\n      <td>2</td>\n      <td>0.0</td>\n      <td>0</td>\n      <td>0</td>\n      <td>0</td>\n      <td>1</td>\n      <td>0</td>\n      <td>50.0</td>\n      <td>0</td>\n      <td>0</td>\n      <td>0</td>\n      <td>0</td>\n    </tr>\n    <tr>\n      <th>1</th>\n      <td>265</td>\n      <td>27</td>\n      <td>0</td>\n      <td>1</td>\n      <td>2</td>\n      <td>0.0</td>\n      <td>0</td>\n      <td>0</td>\n      <td>0</td>\n      <td>1</td>\n      <td>0</td>\n      <td>50.0</td>\n      <td>0</td>\n      <td>0</td>\n      <td>0</td>\n      <td>0</td>\n    </tr>\n    <tr>\n      <th>2</th>\n      <td>7</td>\n      <td>27</td>\n      <td>0</td>\n      <td>1</td>\n      <td>1</td>\n      <td>0.0</td>\n      <td>0</td>\n      <td>0</td>\n      <td>0</td>\n      <td>0</td>\n      <td>0</td>\n      <td>75.0</td>\n      <td>0</td>\n      <td>0</td>\n      <td>0</td>\n      <td>0</td>\n    </tr>\n    <tr>\n      <th>3</th>\n      <td>13</td>\n      <td>27</td>\n      <td>0</td>\n      <td>1</td>\n      <td>1</td>\n      <td>0.0</td>\n      <td>0</td>\n      <td>0</td>\n      <td>0</td>\n      <td>0</td>\n      <td>0</td>\n      <td>75.0</td>\n      <td>0</td>\n      <td>0</td>\n      <td>0</td>\n      <td>0</td>\n    </tr>\n    <tr>\n      <th>4</th>\n      <td>14</td>\n      <td>27</td>\n      <td>0</td>\n      <td>2</td>\n      <td>2</td>\n      <td>0.0</td>\n      <td>0</td>\n      <td>0</td>\n      <td>0</td>\n      <td>0</td>\n      <td>0</td>\n      <td>98.0</td>\n      <td>0</td>\n      <td>1</td>\n      <td>0</td>\n      <td>0</td>\n    </tr>\n  </tbody>\n</table>\n</div>"
     },
     "execution_count": 541,
     "metadata": {},
     "output_type": "execute_result"
    }
   ],
   "source": [
    "num_data_2 = numerical_cleaning(numerical_data)\n",
    "num_data_2.head()"
   ],
   "metadata": {
    "collapsed": false
   }
  },
  {
   "cell_type": "code",
   "execution_count": 542,
   "outputs": [
    {
     "data": {
      "text/plain": "           lead_time  arrival_date_week_number  stays_in_weekend_nights  \\\ncount  119390.000000             119390.000000            119390.000000   \nmean       96.594028                 27.130497                 0.872418   \nstd        88.065356                 12.547200                 0.852765   \nmin         3.000000                  8.000000                 0.000000   \n25%        18.000000                 16.000000                 0.000000   \n50%        69.000000                 28.000000                 1.000000   \n75%       160.000000                 38.000000                 2.000000   \nmax       265.000000                 46.000000                 2.000000   \n\n       stays_in_week_nights         adults  children    babies  \\\ncount         119390.000000  119390.000000  119390.0  119390.0   \nmean               2.429006       1.803752       0.0       0.0   \nstd                1.357040       0.397160       0.0       0.0   \nmin                1.000000       1.000000       0.0       0.0   \n25%                1.000000       2.000000       0.0       0.0   \n50%                2.000000       2.000000       0.0       0.0   \n75%                3.000000       2.000000       0.0       0.0   \nmax                5.000000       2.000000       0.0       0.0   \n\n       previous_cancellations  previous_bookings_not_canceled  \\\ncount                119390.0                        119390.0   \nmean                      0.0                             0.0   \nstd                       0.0                             0.0   \nmin                       0.0                             0.0   \n25%                       0.0                             0.0   \n50%                       0.0                             0.0   \n75%                       0.0                             0.0   \nmax                       0.0                             0.0   \n\n       booking_changes  days_in_waiting_list            adr  \\\ncount    119390.000000              119390.0  119390.000000   \nmean          0.151403                   0.0      99.571503   \nstd           0.358443                   0.0      35.992074   \nmin           0.000000                   0.0      50.000000   \n25%           0.000000                   0.0      69.290000   \n50%           0.000000                   0.0      94.575000   \n75%           0.000000                   0.0     126.000000   \nmax           1.000000                   0.0     164.000000   \n\n       required_car_parking_spaces  total_of_special_requests  \\\ncount                     119390.0              119390.000000   \nmean                           0.0                   0.543747   \nstd                            0.0                   0.716617   \nmin                            0.0                   0.000000   \n25%                            0.0                   0.000000   \n50%                            0.0                   0.000000   \n75%                            0.0                   1.000000   \nmax                            0.0                   2.000000   \n\n       is_repeated_guest    is_canceled  \ncount           119390.0  119390.000000  \nmean                 0.0       0.370416  \nstd                  0.0       0.482918  \nmin                  0.0       0.000000  \n25%                  0.0       0.000000  \n50%                  0.0       0.000000  \n75%                  0.0       1.000000  \nmax                  0.0       1.000000  ",
      "text/html": "<div>\n<style scoped>\n    .dataframe tbody tr th:only-of-type {\n        vertical-align: middle;\n    }\n\n    .dataframe tbody tr th {\n        vertical-align: top;\n    }\n\n    .dataframe thead th {\n        text-align: right;\n    }\n</style>\n<table border=\"1\" class=\"dataframe\">\n  <thead>\n    <tr style=\"text-align: right;\">\n      <th></th>\n      <th>lead_time</th>\n      <th>arrival_date_week_number</th>\n      <th>stays_in_weekend_nights</th>\n      <th>stays_in_week_nights</th>\n      <th>adults</th>\n      <th>children</th>\n      <th>babies</th>\n      <th>previous_cancellations</th>\n      <th>previous_bookings_not_canceled</th>\n      <th>booking_changes</th>\n      <th>days_in_waiting_list</th>\n      <th>adr</th>\n      <th>required_car_parking_spaces</th>\n      <th>total_of_special_requests</th>\n      <th>is_repeated_guest</th>\n      <th>is_canceled</th>\n    </tr>\n  </thead>\n  <tbody>\n    <tr>\n      <th>count</th>\n      <td>119390.000000</td>\n      <td>119390.000000</td>\n      <td>119390.000000</td>\n      <td>119390.000000</td>\n      <td>119390.000000</td>\n      <td>119390.0</td>\n      <td>119390.0</td>\n      <td>119390.0</td>\n      <td>119390.0</td>\n      <td>119390.000000</td>\n      <td>119390.0</td>\n      <td>119390.000000</td>\n      <td>119390.0</td>\n      <td>119390.000000</td>\n      <td>119390.0</td>\n      <td>119390.000000</td>\n    </tr>\n    <tr>\n      <th>mean</th>\n      <td>96.594028</td>\n      <td>27.130497</td>\n      <td>0.872418</td>\n      <td>2.429006</td>\n      <td>1.803752</td>\n      <td>0.0</td>\n      <td>0.0</td>\n      <td>0.0</td>\n      <td>0.0</td>\n      <td>0.151403</td>\n      <td>0.0</td>\n      <td>99.571503</td>\n      <td>0.0</td>\n      <td>0.543747</td>\n      <td>0.0</td>\n      <td>0.370416</td>\n    </tr>\n    <tr>\n      <th>std</th>\n      <td>88.065356</td>\n      <td>12.547200</td>\n      <td>0.852765</td>\n      <td>1.357040</td>\n      <td>0.397160</td>\n      <td>0.0</td>\n      <td>0.0</td>\n      <td>0.0</td>\n      <td>0.0</td>\n      <td>0.358443</td>\n      <td>0.0</td>\n      <td>35.992074</td>\n      <td>0.0</td>\n      <td>0.716617</td>\n      <td>0.0</td>\n      <td>0.482918</td>\n    </tr>\n    <tr>\n      <th>min</th>\n      <td>3.000000</td>\n      <td>8.000000</td>\n      <td>0.000000</td>\n      <td>1.000000</td>\n      <td>1.000000</td>\n      <td>0.0</td>\n      <td>0.0</td>\n      <td>0.0</td>\n      <td>0.0</td>\n      <td>0.000000</td>\n      <td>0.0</td>\n      <td>50.000000</td>\n      <td>0.0</td>\n      <td>0.000000</td>\n      <td>0.0</td>\n      <td>0.000000</td>\n    </tr>\n    <tr>\n      <th>25%</th>\n      <td>18.000000</td>\n      <td>16.000000</td>\n      <td>0.000000</td>\n      <td>1.000000</td>\n      <td>2.000000</td>\n      <td>0.0</td>\n      <td>0.0</td>\n      <td>0.0</td>\n      <td>0.0</td>\n      <td>0.000000</td>\n      <td>0.0</td>\n      <td>69.290000</td>\n      <td>0.0</td>\n      <td>0.000000</td>\n      <td>0.0</td>\n      <td>0.000000</td>\n    </tr>\n    <tr>\n      <th>50%</th>\n      <td>69.000000</td>\n      <td>28.000000</td>\n      <td>1.000000</td>\n      <td>2.000000</td>\n      <td>2.000000</td>\n      <td>0.0</td>\n      <td>0.0</td>\n      <td>0.0</td>\n      <td>0.0</td>\n      <td>0.000000</td>\n      <td>0.0</td>\n      <td>94.575000</td>\n      <td>0.0</td>\n      <td>0.000000</td>\n      <td>0.0</td>\n      <td>0.000000</td>\n    </tr>\n    <tr>\n      <th>75%</th>\n      <td>160.000000</td>\n      <td>38.000000</td>\n      <td>2.000000</td>\n      <td>3.000000</td>\n      <td>2.000000</td>\n      <td>0.0</td>\n      <td>0.0</td>\n      <td>0.0</td>\n      <td>0.0</td>\n      <td>0.000000</td>\n      <td>0.0</td>\n      <td>126.000000</td>\n      <td>0.0</td>\n      <td>1.000000</td>\n      <td>0.0</td>\n      <td>1.000000</td>\n    </tr>\n    <tr>\n      <th>max</th>\n      <td>265.000000</td>\n      <td>46.000000</td>\n      <td>2.000000</td>\n      <td>5.000000</td>\n      <td>2.000000</td>\n      <td>0.0</td>\n      <td>0.0</td>\n      <td>0.0</td>\n      <td>0.0</td>\n      <td>1.000000</td>\n      <td>0.0</td>\n      <td>164.000000</td>\n      <td>0.0</td>\n      <td>2.000000</td>\n      <td>0.0</td>\n      <td>1.000000</td>\n    </tr>\n  </tbody>\n</table>\n</div>"
     },
     "execution_count": 542,
     "metadata": {},
     "output_type": "execute_result"
    }
   ],
   "source": [
    "num_data_2.describe()"
   ],
   "metadata": {
    "collapsed": false
   }
  },
  {
   "cell_type": "code",
   "execution_count": 543,
   "outputs": [
    {
     "name": "stdout",
     "output_type": "stream",
     "text": [
      "                           feature       VIF\n",
      "0                        lead_time  2.375091\n",
      "1         arrival_date_week_number  4.280514\n",
      "2          stays_in_weekend_nights  2.502810\n",
      "3             stays_in_week_nights  3.643989\n",
      "4                           adults  7.753374\n",
      "5                         children  1.198333\n",
      "6                           babies  1.023903\n",
      "7           previous_cancellations  1.061239\n",
      "8   previous_bookings_not_canceled  1.248645\n",
      "9                  booking_changes  1.156812\n",
      "10            days_in_waiting_list  1.057273\n",
      "11                             adr  5.853116\n",
      "12     required_car_parking_spaces  1.124373\n",
      "13       total_of_special_requests  1.718637\n",
      "14               is_repeated_guest  1.261591\n",
      "15                     is_canceled  1.919457\n"
     ]
    }
   ],
   "source": [
    "# multicollinearity checking\n",
    "vif_data = pd.DataFrame()\n",
    "vif_data[\"feature\"] = numerical_data.columns\n",
    "vif_data[\"VIF\"] = [variance_inflation_factor(numerical_data.values, i)\n",
    "                   for i in range(len(numerical_data.columns))]\n",
    "\n",
    "print(vif_data)"
   ],
   "metadata": {
    "collapsed": false
   }
  },
  {
   "cell_type": "code",
   "execution_count": 551,
   "outputs": [
    {
     "data": {
      "text/plain": "                   col_name        mean  median  third_quartile      variance  \\\n0                 lead_time  104.011416    69.0           160.0  11419.721511   \n1  arrival_date_week_number   27.165173    28.0            38.0    185.099790   \n2   stays_in_weekend_nights    0.927599     1.0             2.0      0.997229   \n3      stays_in_week_nights    2.500302     2.0             3.0      3.641554   \n4                    adults    1.856403     2.0             2.0      0.335543   \n\n           sd  covariance_with_target       skew     kurtosis  \n0  106.863097               15.126964   1.346550     1.696449  \n1   13.605138                0.053534  -0.010014    -0.986077  \n2    0.998613               -0.000864   1.380046     7.174066  \n3    1.908286                0.022822   2.862249    24.284555  \n4    0.579261                0.016789  18.317805  1352.115116  ",
      "text/html": "<div>\n<style scoped>\n    .dataframe tbody tr th:only-of-type {\n        vertical-align: middle;\n    }\n\n    .dataframe tbody tr th {\n        vertical-align: top;\n    }\n\n    .dataframe thead th {\n        text-align: right;\n    }\n</style>\n<table border=\"1\" class=\"dataframe\">\n  <thead>\n    <tr style=\"text-align: right;\">\n      <th></th>\n      <th>col_name</th>\n      <th>mean</th>\n      <th>median</th>\n      <th>third_quartile</th>\n      <th>variance</th>\n      <th>sd</th>\n      <th>covariance_with_target</th>\n      <th>skew</th>\n      <th>kurtosis</th>\n    </tr>\n  </thead>\n  <tbody>\n    <tr>\n      <th>0</th>\n      <td>lead_time</td>\n      <td>104.011416</td>\n      <td>69.0</td>\n      <td>160.0</td>\n      <td>11419.721511</td>\n      <td>106.863097</td>\n      <td>15.126964</td>\n      <td>1.346550</td>\n      <td>1.696449</td>\n    </tr>\n    <tr>\n      <th>1</th>\n      <td>arrival_date_week_number</td>\n      <td>27.165173</td>\n      <td>28.0</td>\n      <td>38.0</td>\n      <td>185.099790</td>\n      <td>13.605138</td>\n      <td>0.053534</td>\n      <td>-0.010014</td>\n      <td>-0.986077</td>\n    </tr>\n    <tr>\n      <th>2</th>\n      <td>stays_in_weekend_nights</td>\n      <td>0.927599</td>\n      <td>1.0</td>\n      <td>2.0</td>\n      <td>0.997229</td>\n      <td>0.998613</td>\n      <td>-0.000864</td>\n      <td>1.380046</td>\n      <td>7.174066</td>\n    </tr>\n    <tr>\n      <th>3</th>\n      <td>stays_in_week_nights</td>\n      <td>2.500302</td>\n      <td>2.0</td>\n      <td>3.0</td>\n      <td>3.641554</td>\n      <td>1.908286</td>\n      <td>0.022822</td>\n      <td>2.862249</td>\n      <td>24.284555</td>\n    </tr>\n    <tr>\n      <th>4</th>\n      <td>adults</td>\n      <td>1.856403</td>\n      <td>2.0</td>\n      <td>2.0</td>\n      <td>0.335543</td>\n      <td>0.579261</td>\n      <td>0.016789</td>\n      <td>18.317805</td>\n      <td>1352.115116</td>\n    </tr>\n  </tbody>\n</table>\n</div>"
     },
     "execution_count": 551,
     "metadata": {},
     "output_type": "execute_result"
    }
   ],
   "source": [
    "data_stat_finder(numerical_data).head()"
   ],
   "metadata": {
    "collapsed": false
   }
  },
  {
   "cell_type": "code",
   "execution_count": 544,
   "outputs": [],
   "source": [
    "# We see that adults and adr are highly correlated. This fits with the hotel pricing model where more adults per room increases rate of that room\n",
    "# Currently, we don't wish to change these values"
   ],
   "metadata": {
    "collapsed": false
   }
  },
  {
   "cell_type": "markdown",
   "source": [
    "* {engineered} total_stay = sum(stays_in_weekend_nights, stays_in_week_nights)\n",
    "* {engineered} days_till_status_change = arrival_date - reservation_status_date"
   ],
   "metadata": {
    "collapsed": false
   }
  },
  {
   "cell_type": "code",
   "execution_count": 578,
   "outputs": [
    {
     "data": {
      "text/plain": "   lead_time  arrival_date_week_number  stays_in_weekend_nights  \\\n0        342                        27                        0   \n1        737                        27                        0   \n2          7                        27                        0   \n3         13                        27                        0   \n4         14                        27                        0   \n\n   stays_in_week_nights  adults  children  babies  previous_cancellations  \\\n0                     0       2       0.0       0                       0   \n1                     0       2       0.0       0                       0   \n2                     1       1       0.0       0                       0   \n3                     1       1       0.0       0                       0   \n4                     2       2       0.0       0                       0   \n\n   previous_bookings_not_canceled  booking_changes  days_in_waiting_list  \\\n0                               0                3                     0   \n1                               0                4                     0   \n2                               0                0                     0   \n3                               0                0                     0   \n4                               0                0                     0   \n\n    adr  required_car_parking_spaces  total_of_special_requests  \\\n0   0.0                            0                          0   \n1   0.0                            0                          0   \n2  75.0                            0                          0   \n3  75.0                            0                          0   \n4  98.0                            0                          1   \n\n   is_repeated_guest  is_canceled  total_nights_stayed  \n0                  0            0                    0  \n1                  0            0                    0  \n2                  0            0                    1  \n3                  0            0                    1  \n4                  0            0                    2  ",
      "text/html": "<div>\n<style scoped>\n    .dataframe tbody tr th:only-of-type {\n        vertical-align: middle;\n    }\n\n    .dataframe tbody tr th {\n        vertical-align: top;\n    }\n\n    .dataframe thead th {\n        text-align: right;\n    }\n</style>\n<table border=\"1\" class=\"dataframe\">\n  <thead>\n    <tr style=\"text-align: right;\">\n      <th></th>\n      <th>lead_time</th>\n      <th>arrival_date_week_number</th>\n      <th>stays_in_weekend_nights</th>\n      <th>stays_in_week_nights</th>\n      <th>adults</th>\n      <th>children</th>\n      <th>babies</th>\n      <th>previous_cancellations</th>\n      <th>previous_bookings_not_canceled</th>\n      <th>booking_changes</th>\n      <th>days_in_waiting_list</th>\n      <th>adr</th>\n      <th>required_car_parking_spaces</th>\n      <th>total_of_special_requests</th>\n      <th>is_repeated_guest</th>\n      <th>is_canceled</th>\n      <th>total_nights_stayed</th>\n    </tr>\n  </thead>\n  <tbody>\n    <tr>\n      <th>0</th>\n      <td>342</td>\n      <td>27</td>\n      <td>0</td>\n      <td>0</td>\n      <td>2</td>\n      <td>0.0</td>\n      <td>0</td>\n      <td>0</td>\n      <td>0</td>\n      <td>3</td>\n      <td>0</td>\n      <td>0.0</td>\n      <td>0</td>\n      <td>0</td>\n      <td>0</td>\n      <td>0</td>\n      <td>0</td>\n    </tr>\n    <tr>\n      <th>1</th>\n      <td>737</td>\n      <td>27</td>\n      <td>0</td>\n      <td>0</td>\n      <td>2</td>\n      <td>0.0</td>\n      <td>0</td>\n      <td>0</td>\n      <td>0</td>\n      <td>4</td>\n      <td>0</td>\n      <td>0.0</td>\n      <td>0</td>\n      <td>0</td>\n      <td>0</td>\n      <td>0</td>\n      <td>0</td>\n    </tr>\n    <tr>\n      <th>2</th>\n      <td>7</td>\n      <td>27</td>\n      <td>0</td>\n      <td>1</td>\n      <td>1</td>\n      <td>0.0</td>\n      <td>0</td>\n      <td>0</td>\n      <td>0</td>\n      <td>0</td>\n      <td>0</td>\n      <td>75.0</td>\n      <td>0</td>\n      <td>0</td>\n      <td>0</td>\n      <td>0</td>\n      <td>1</td>\n    </tr>\n    <tr>\n      <th>3</th>\n      <td>13</td>\n      <td>27</td>\n      <td>0</td>\n      <td>1</td>\n      <td>1</td>\n      <td>0.0</td>\n      <td>0</td>\n      <td>0</td>\n      <td>0</td>\n      <td>0</td>\n      <td>0</td>\n      <td>75.0</td>\n      <td>0</td>\n      <td>0</td>\n      <td>0</td>\n      <td>0</td>\n      <td>1</td>\n    </tr>\n    <tr>\n      <th>4</th>\n      <td>14</td>\n      <td>27</td>\n      <td>0</td>\n      <td>2</td>\n      <td>2</td>\n      <td>0.0</td>\n      <td>0</td>\n      <td>0</td>\n      <td>0</td>\n      <td>0</td>\n      <td>0</td>\n      <td>98.0</td>\n      <td>0</td>\n      <td>1</td>\n      <td>0</td>\n      <td>0</td>\n      <td>2</td>\n    </tr>\n  </tbody>\n</table>\n</div>"
     },
     "execution_count": 578,
     "metadata": {},
     "output_type": "execute_result"
    }
   ],
   "source": [
    "# Total Stay\n",
    "numerical_data['total_nights_stayed'] = numerical_data.stays_in_week_nights.copy()\n",
    "numerical_data['total_nights_stayed'] += numerical_data.stays_in_weekend_nights\n",
    "numerical_data.head()"
   ],
   "metadata": {
    "collapsed": false
   }
  },
  {
   "cell_type": "code",
   "execution_count": 579,
   "outputs": [
    {
     "data": {
      "text/plain": "  reservation_status_date  arrival_date_day_of_month arrival_date_month  \\\n0                1/7/2015                          1               July   \n1                1/7/2015                          1               July   \n2                2/7/2015                          1               July   \n3                2/7/2015                          1               July   \n4                3/7/2015                          1               July   \n\n   arrival_date_year arrival_date  \n0               2015  1/July/2015  \n1               2015  1/July/2015  \n2               2015  1/July/2015  \n3               2015  1/July/2015  \n4               2015  1/July/2015  ",
      "text/html": "<div>\n<style scoped>\n    .dataframe tbody tr th:only-of-type {\n        vertical-align: middle;\n    }\n\n    .dataframe tbody tr th {\n        vertical-align: top;\n    }\n\n    .dataframe thead th {\n        text-align: right;\n    }\n</style>\n<table border=\"1\" class=\"dataframe\">\n  <thead>\n    <tr style=\"text-align: right;\">\n      <th></th>\n      <th>reservation_status_date</th>\n      <th>arrival_date_day_of_month</th>\n      <th>arrival_date_month</th>\n      <th>arrival_date_year</th>\n      <th>arrival_date</th>\n    </tr>\n  </thead>\n  <tbody>\n    <tr>\n      <th>0</th>\n      <td>1/7/2015</td>\n      <td>1</td>\n      <td>July</td>\n      <td>2015</td>\n      <td>1/July/2015</td>\n    </tr>\n    <tr>\n      <th>1</th>\n      <td>1/7/2015</td>\n      <td>1</td>\n      <td>July</td>\n      <td>2015</td>\n      <td>1/July/2015</td>\n    </tr>\n    <tr>\n      <th>2</th>\n      <td>2/7/2015</td>\n      <td>1</td>\n      <td>July</td>\n      <td>2015</td>\n      <td>1/July/2015</td>\n    </tr>\n    <tr>\n      <th>3</th>\n      <td>2/7/2015</td>\n      <td>1</td>\n      <td>July</td>\n      <td>2015</td>\n      <td>1/July/2015</td>\n    </tr>\n    <tr>\n      <th>4</th>\n      <td>3/7/2015</td>\n      <td>1</td>\n      <td>July</td>\n      <td>2015</td>\n      <td>1/July/2015</td>\n    </tr>\n  </tbody>\n</table>\n</div>"
     },
     "execution_count": 579,
     "metadata": {},
     "output_type": "execute_result"
    }
   ],
   "source": [
    "# Days till status_change\n",
    "year_format = lambda year, month, day: str(f'{day}/{month}/{year}')\n",
    "datetime_data.loc[:,'arrival_date'] = datetime_data.apply(lambda x: year_format(x['arrival_date_year'], x['arrival_date_month'],\n",
    "                                                                        x['arrival_date_day_of_month']), axis=1)\n",
    "datetime_data.head()"
   ],
   "metadata": {
    "collapsed": false
   }
  },
  {
   "cell_type": "code",
   "execution_count": 582,
   "outputs": [
    {
     "data": {
      "text/plain": "  reservation_status_date  arrival_date_day_of_month arrival_date_month  \\\n0              2015-01-07                          1               July   \n1              2015-01-07                          1               July   \n2              2015-02-07                          1               July   \n3              2015-02-07                          1               July   \n4              2015-03-07                          1               July   \n\n   arrival_date_year arrival_date  \n0               2015   2015-01-07  \n1               2015   2015-01-07  \n2               2015   2015-02-07  \n3               2015   2015-02-07  \n4               2015   2015-03-07  ",
      "text/html": "<div>\n<style scoped>\n    .dataframe tbody tr th:only-of-type {\n        vertical-align: middle;\n    }\n\n    .dataframe tbody tr th {\n        vertical-align: top;\n    }\n\n    .dataframe thead th {\n        text-align: right;\n    }\n</style>\n<table border=\"1\" class=\"dataframe\">\n  <thead>\n    <tr style=\"text-align: right;\">\n      <th></th>\n      <th>reservation_status_date</th>\n      <th>arrival_date_day_of_month</th>\n      <th>arrival_date_month</th>\n      <th>arrival_date_year</th>\n      <th>arrival_date</th>\n    </tr>\n  </thead>\n  <tbody>\n    <tr>\n      <th>0</th>\n      <td>2015-01-07</td>\n      <td>1</td>\n      <td>July</td>\n      <td>2015</td>\n      <td>2015-01-07</td>\n    </tr>\n    <tr>\n      <th>1</th>\n      <td>2015-01-07</td>\n      <td>1</td>\n      <td>July</td>\n      <td>2015</td>\n      <td>2015-01-07</td>\n    </tr>\n    <tr>\n      <th>2</th>\n      <td>2015-02-07</td>\n      <td>1</td>\n      <td>July</td>\n      <td>2015</td>\n      <td>2015-02-07</td>\n    </tr>\n    <tr>\n      <th>3</th>\n      <td>2015-02-07</td>\n      <td>1</td>\n      <td>July</td>\n      <td>2015</td>\n      <td>2015-02-07</td>\n    </tr>\n    <tr>\n      <th>4</th>\n      <td>2015-03-07</td>\n      <td>1</td>\n      <td>July</td>\n      <td>2015</td>\n      <td>2015-03-07</td>\n    </tr>\n  </tbody>\n</table>\n</div>"
     },
     "execution_count": 582,
     "metadata": {},
     "output_type": "execute_result"
    }
   ],
   "source": [
    "datetime_data.reservation_status_date = pd.to_datetime(datetime_data.reservation_status_date, format=\"%d/%m/%Y\")\n",
    "datetime_data.arrival_date = pd.to_datetime(datetime_data.reservation_status_date, format=\"%d/%m/%Y\")\n",
    "datetime_data.head()"
   ],
   "metadata": {
    "collapsed": false
   }
  },
  {
   "cell_type": "code",
   "execution_count": 588,
   "outputs": [
    {
     "data": {
      "text/plain": "  reservation_status_date  arrival_date_day_of_month arrival_date_month  \\\n0              2015-01-07                          1               July   \n1              2015-01-07                          1               July   \n2              2015-02-07                          1               July   \n3              2015-02-07                          1               July   \n4              2015-03-07                          1               July   \n\n   arrival_date_year arrival_date days_till_status_change  \n0               2015   2015-01-07                  0 days  \n1               2015   2015-01-07                  0 days  \n2               2015   2015-02-07                  0 days  \n3               2015   2015-02-07                  0 days  \n4               2015   2015-03-07                  0 days  ",
      "text/html": "<div>\n<style scoped>\n    .dataframe tbody tr th:only-of-type {\n        vertical-align: middle;\n    }\n\n    .dataframe tbody tr th {\n        vertical-align: top;\n    }\n\n    .dataframe thead th {\n        text-align: right;\n    }\n</style>\n<table border=\"1\" class=\"dataframe\">\n  <thead>\n    <tr style=\"text-align: right;\">\n      <th></th>\n      <th>reservation_status_date</th>\n      <th>arrival_date_day_of_month</th>\n      <th>arrival_date_month</th>\n      <th>arrival_date_year</th>\n      <th>arrival_date</th>\n      <th>days_till_status_change</th>\n    </tr>\n  </thead>\n  <tbody>\n    <tr>\n      <th>0</th>\n      <td>2015-01-07</td>\n      <td>1</td>\n      <td>July</td>\n      <td>2015</td>\n      <td>2015-01-07</td>\n      <td>0 days</td>\n    </tr>\n    <tr>\n      <th>1</th>\n      <td>2015-01-07</td>\n      <td>1</td>\n      <td>July</td>\n      <td>2015</td>\n      <td>2015-01-07</td>\n      <td>0 days</td>\n    </tr>\n    <tr>\n      <th>2</th>\n      <td>2015-02-07</td>\n      <td>1</td>\n      <td>July</td>\n      <td>2015</td>\n      <td>2015-02-07</td>\n      <td>0 days</td>\n    </tr>\n    <tr>\n      <th>3</th>\n      <td>2015-02-07</td>\n      <td>1</td>\n      <td>July</td>\n      <td>2015</td>\n      <td>2015-02-07</td>\n      <td>0 days</td>\n    </tr>\n    <tr>\n      <th>4</th>\n      <td>2015-03-07</td>\n      <td>1</td>\n      <td>July</td>\n      <td>2015</td>\n      <td>2015-03-07</td>\n      <td>0 days</td>\n    </tr>\n  </tbody>\n</table>\n</div>"
     },
     "execution_count": 588,
     "metadata": {},
     "output_type": "execute_result"
    }
   ],
   "source": [
    "datetime_data['days_till_status_change'] = (datetime_data.reservation_status_date - datetime_data.arrival_date)\n",
    "datetime_data.head()"
   ],
   "metadata": {
    "collapsed": false
   }
  },
  {
   "cell_type": "code",
   "execution_count": 590,
   "outputs": [
    {
     "data": {
      "text/plain": "   lead_time  arrival_date_week_number  stays_in_weekend_nights  \\\n0        342                        27                        0   \n1        737                        27                        0   \n2          7                        27                        0   \n3         13                        27                        0   \n4         14                        27                        0   \n\n   stays_in_week_nights  adults  children  babies  previous_cancellations  \\\n0                     0       2       0.0       0                       0   \n1                     0       2       0.0       0                       0   \n2                     1       1       0.0       0                       0   \n3                     1       1       0.0       0                       0   \n4                     2       2       0.0       0                       0   \n\n   previous_bookings_not_canceled  booking_changes  days_in_waiting_list  \\\n0                               0                3                     0   \n1                               0                4                     0   \n2                               0                0                     0   \n3                               0                0                     0   \n4                               0                0                     0   \n\n    adr  required_car_parking_spaces  total_of_special_requests  \\\n0   0.0                            0                          0   \n1   0.0                            0                          0   \n2  75.0                            0                          0   \n3  75.0                            0                          0   \n4  98.0                            0                          1   \n\n   is_repeated_guest  is_canceled  total_nights_stayed  days_to_status_change  \n0                  0            0                    0                      0  \n1                  0            0                    0                      0  \n2                  0            0                    1                      0  \n3                  0            0                    1                      0  \n4                  0            0                    2                      0  ",
      "text/html": "<div>\n<style scoped>\n    .dataframe tbody tr th:only-of-type {\n        vertical-align: middle;\n    }\n\n    .dataframe tbody tr th {\n        vertical-align: top;\n    }\n\n    .dataframe thead th {\n        text-align: right;\n    }\n</style>\n<table border=\"1\" class=\"dataframe\">\n  <thead>\n    <tr style=\"text-align: right;\">\n      <th></th>\n      <th>lead_time</th>\n      <th>arrival_date_week_number</th>\n      <th>stays_in_weekend_nights</th>\n      <th>stays_in_week_nights</th>\n      <th>adults</th>\n      <th>children</th>\n      <th>babies</th>\n      <th>previous_cancellations</th>\n      <th>previous_bookings_not_canceled</th>\n      <th>booking_changes</th>\n      <th>days_in_waiting_list</th>\n      <th>adr</th>\n      <th>required_car_parking_spaces</th>\n      <th>total_of_special_requests</th>\n      <th>is_repeated_guest</th>\n      <th>is_canceled</th>\n      <th>total_nights_stayed</th>\n      <th>days_to_status_change</th>\n    </tr>\n  </thead>\n  <tbody>\n    <tr>\n      <th>0</th>\n      <td>342</td>\n      <td>27</td>\n      <td>0</td>\n      <td>0</td>\n      <td>2</td>\n      <td>0.0</td>\n      <td>0</td>\n      <td>0</td>\n      <td>0</td>\n      <td>3</td>\n      <td>0</td>\n      <td>0.0</td>\n      <td>0</td>\n      <td>0</td>\n      <td>0</td>\n      <td>0</td>\n      <td>0</td>\n      <td>0</td>\n    </tr>\n    <tr>\n      <th>1</th>\n      <td>737</td>\n      <td>27</td>\n      <td>0</td>\n      <td>0</td>\n      <td>2</td>\n      <td>0.0</td>\n      <td>0</td>\n      <td>0</td>\n      <td>0</td>\n      <td>4</td>\n      <td>0</td>\n      <td>0.0</td>\n      <td>0</td>\n      <td>0</td>\n      <td>0</td>\n      <td>0</td>\n      <td>0</td>\n      <td>0</td>\n    </tr>\n    <tr>\n      <th>2</th>\n      <td>7</td>\n      <td>27</td>\n      <td>0</td>\n      <td>1</td>\n      <td>1</td>\n      <td>0.0</td>\n      <td>0</td>\n      <td>0</td>\n      <td>0</td>\n      <td>0</td>\n      <td>0</td>\n      <td>75.0</td>\n      <td>0</td>\n      <td>0</td>\n      <td>0</td>\n      <td>0</td>\n      <td>1</td>\n      <td>0</td>\n    </tr>\n    <tr>\n      <th>3</th>\n      <td>13</td>\n      <td>27</td>\n      <td>0</td>\n      <td>1</td>\n      <td>1</td>\n      <td>0.0</td>\n      <td>0</td>\n      <td>0</td>\n      <td>0</td>\n      <td>0</td>\n      <td>0</td>\n      <td>75.0</td>\n      <td>0</td>\n      <td>0</td>\n      <td>0</td>\n      <td>0</td>\n      <td>1</td>\n      <td>0</td>\n    </tr>\n    <tr>\n      <th>4</th>\n      <td>14</td>\n      <td>27</td>\n      <td>0</td>\n      <td>2</td>\n      <td>2</td>\n      <td>0.0</td>\n      <td>0</td>\n      <td>0</td>\n      <td>0</td>\n      <td>0</td>\n      <td>0</td>\n      <td>98.0</td>\n      <td>0</td>\n      <td>1</td>\n      <td>0</td>\n      <td>0</td>\n      <td>2</td>\n      <td>0</td>\n    </tr>\n  </tbody>\n</table>\n</div>"
     },
     "execution_count": 590,
     "metadata": {},
     "output_type": "execute_result"
    }
   ],
   "source": [
    "numerical_data['days_to_status_change'] = pd.to_numeric(datetime_data.days_till_status_change, errors='raise')\n",
    "numerical_data.head()"
   ],
   "metadata": {
    "collapsed": false
   }
  },
  {
   "cell_type": "code",
   "execution_count": 591,
   "outputs": [
    {
     "data": {
      "text/plain": "   lead_time  arrival_date_week_number  stays_in_weekend_nights  \\\n0        342                        27                        0   \n1        737                        27                        0   \n2          7                        27                        0   \n3         13                        27                        0   \n4         14                        27                        0   \n\n   stays_in_week_nights  adults  children  babies  previous_cancellations  \\\n0                     0       2       0.0       0                       0   \n1                     0       2       0.0       0                       0   \n2                     1       1       0.0       0                       0   \n3                     1       1       0.0       0                       0   \n4                     2       2       0.0       0                       0   \n\n   previous_bookings_not_canceled  booking_changes  days_in_waiting_list  \\\n0                               0                3                     0   \n1                               0                4                     0   \n2                               0                0                     0   \n3                               0                0                     0   \n4                               0                0                     0   \n\n    adr  required_car_parking_spaces  total_of_special_requests  \\\n0   0.0                            0                          0   \n1   0.0                            0                          0   \n2  75.0                            0                          0   \n3  75.0                            0                          0   \n4  98.0                            0                          1   \n\n   is_repeated_guest  is_canceled  total_nights_stayed  days_to_status_change  \\\n0                  0            0                    0                      0   \n1                  0            0                    0                      0   \n2                  0            0                    1                      0   \n3                  0            0                    1                      0   \n4                  0            0                    2                      0   \n\n   total_guests  \n0           2.0  \n1           2.0  \n2           1.0  \n3           1.0  \n4           2.0  ",
      "text/html": "<div>\n<style scoped>\n    .dataframe tbody tr th:only-of-type {\n        vertical-align: middle;\n    }\n\n    .dataframe tbody tr th {\n        vertical-align: top;\n    }\n\n    .dataframe thead th {\n        text-align: right;\n    }\n</style>\n<table border=\"1\" class=\"dataframe\">\n  <thead>\n    <tr style=\"text-align: right;\">\n      <th></th>\n      <th>lead_time</th>\n      <th>arrival_date_week_number</th>\n      <th>stays_in_weekend_nights</th>\n      <th>stays_in_week_nights</th>\n      <th>adults</th>\n      <th>children</th>\n      <th>babies</th>\n      <th>previous_cancellations</th>\n      <th>previous_bookings_not_canceled</th>\n      <th>booking_changes</th>\n      <th>days_in_waiting_list</th>\n      <th>adr</th>\n      <th>required_car_parking_spaces</th>\n      <th>total_of_special_requests</th>\n      <th>is_repeated_guest</th>\n      <th>is_canceled</th>\n      <th>total_nights_stayed</th>\n      <th>days_to_status_change</th>\n      <th>total_guests</th>\n    </tr>\n  </thead>\n  <tbody>\n    <tr>\n      <th>0</th>\n      <td>342</td>\n      <td>27</td>\n      <td>0</td>\n      <td>0</td>\n      <td>2</td>\n      <td>0.0</td>\n      <td>0</td>\n      <td>0</td>\n      <td>0</td>\n      <td>3</td>\n      <td>0</td>\n      <td>0.0</td>\n      <td>0</td>\n      <td>0</td>\n      <td>0</td>\n      <td>0</td>\n      <td>0</td>\n      <td>0</td>\n      <td>2.0</td>\n    </tr>\n    <tr>\n      <th>1</th>\n      <td>737</td>\n      <td>27</td>\n      <td>0</td>\n      <td>0</td>\n      <td>2</td>\n      <td>0.0</td>\n      <td>0</td>\n      <td>0</td>\n      <td>0</td>\n      <td>4</td>\n      <td>0</td>\n      <td>0.0</td>\n      <td>0</td>\n      <td>0</td>\n      <td>0</td>\n      <td>0</td>\n      <td>0</td>\n      <td>0</td>\n      <td>2.0</td>\n    </tr>\n    <tr>\n      <th>2</th>\n      <td>7</td>\n      <td>27</td>\n      <td>0</td>\n      <td>1</td>\n      <td>1</td>\n      <td>0.0</td>\n      <td>0</td>\n      <td>0</td>\n      <td>0</td>\n      <td>0</td>\n      <td>0</td>\n      <td>75.0</td>\n      <td>0</td>\n      <td>0</td>\n      <td>0</td>\n      <td>0</td>\n      <td>1</td>\n      <td>0</td>\n      <td>1.0</td>\n    </tr>\n    <tr>\n      <th>3</th>\n      <td>13</td>\n      <td>27</td>\n      <td>0</td>\n      <td>1</td>\n      <td>1</td>\n      <td>0.0</td>\n      <td>0</td>\n      <td>0</td>\n      <td>0</td>\n      <td>0</td>\n      <td>0</td>\n      <td>75.0</td>\n      <td>0</td>\n      <td>0</td>\n      <td>0</td>\n      <td>0</td>\n      <td>1</td>\n      <td>0</td>\n      <td>1.0</td>\n    </tr>\n    <tr>\n      <th>4</th>\n      <td>14</td>\n      <td>27</td>\n      <td>0</td>\n      <td>2</td>\n      <td>2</td>\n      <td>0.0</td>\n      <td>0</td>\n      <td>0</td>\n      <td>0</td>\n      <td>0</td>\n      <td>0</td>\n      <td>98.0</td>\n      <td>0</td>\n      <td>1</td>\n      <td>0</td>\n      <td>0</td>\n      <td>2</td>\n      <td>0</td>\n      <td>2.0</td>\n    </tr>\n  </tbody>\n</table>\n</div>"
     },
     "execution_count": 591,
     "metadata": {},
     "output_type": "execute_result"
    }
   ],
   "source": [
    "# number of guests\n",
    "# Total Stay\n",
    "numerical_data['total_guests'] = numerical_data.adults.copy()\n",
    "numerical_data['total_guests'] += numerical_data.children + numerical_data.babies\n",
    "numerical_data.head()"
   ],
   "metadata": {
    "collapsed": false
   }
  },
  {
   "cell_type": "code",
   "execution_count": 623,
   "outputs": [],
   "source": [
    "scaler = StandardScaler()\n",
    "standardized_num_data = pd.DataFrame(scaler.fit_transform(numerical_data.drop('is_canceled', axis=1)))\n",
    "standardized_num_data.columns = numerical_data.drop('is_canceled', axis=1).columns"
   ],
   "metadata": {
    "collapsed": false
   }
  },
  {
   "cell_type": "code",
   "execution_count": 624,
   "outputs": [],
   "source": [
    "standardized_cat_data = pd.DataFrame(scaler.fit_transform(cat_data_final))\n",
    "standardized_cat_data.columns = cat_data_final.columns"
   ],
   "metadata": {
    "collapsed": false
   }
  },
  {
   "cell_type": "code",
   "execution_count": 625,
   "outputs": [],
   "source": [
    "from sklearn.preprocessing import RobustScaler\n",
    "r_scaler = RobustScaler()\n",
    "robust_standardized_num_data = pd.DataFrame(r_scaler.fit_transform(numerical_data.drop('is_canceled', axis=1)))\n",
    "robust_standardized_num_data.columns = numerical_data.drop('is_canceled', axis=1).columns"
   ],
   "metadata": {
    "collapsed": false
   }
  },
  {
   "cell_type": "code",
   "execution_count": 626,
   "outputs": [],
   "source": [
    "robust_standardized_cat_data = pd.DataFrame(r_scaler.fit_transform(cat_data_final))\n",
    "robust_standardized_cat_data.columns = cat_data_final.columns"
   ],
   "metadata": {
    "collapsed": false
   }
  },
  {
   "cell_type": "code",
   "execution_count": 627,
   "outputs": [],
   "source": [
    "combined_standard = pd.concat([standardized_num_data.copy(), standardized_cat_data.copy(), data.is_canceled.copy()], axis = 1)\n",
    "combined_robust = pd.concat([robust_standardized_num_data.copy(), robust_standardized_cat_data.copy(), data.is_canceled.copy()], axis = 1)"
   ],
   "metadata": {
    "collapsed": false
   }
  },
  {
   "cell_type": "code",
   "execution_count": 630,
   "outputs": [],
   "source": [
    "combined_robust.to_parquet('combined_robust.parquet.gzip', index=False, compression='gzip')\n",
    "combined_standard.to_parquet('combined_standard.parquet.gzip', index=False, compression='gzip')"
   ],
   "metadata": {
    "collapsed": false
   }
  },
  {
   "cell_type": "markdown",
   "source": [
    "# Tranforming and Scaling the Data"
   ],
   "metadata": {
    "collapsed": false
   }
  },
  {
   "cell_type": "code",
   "execution_count": 606,
   "outputs": [
    {
     "ename": "ValueError",
     "evalue": "Data must be positive.",
     "output_type": "error",
     "traceback": [
      "\u001B[1;31m---------------------------------------------------------------------------\u001B[0m",
      "\u001B[1;31mValueError\u001B[0m                                Traceback (most recent call last)",
      "\u001B[1;32m~\\AppData\\Local\\Temp\\ipykernel_39316\\3322130859.py\u001B[0m in \u001B[0;36m<module>\u001B[1;34m\u001B[0m\n\u001B[1;32m----> 1\u001B[1;33m \u001B[0mboxcox\u001B[0m\u001B[1;33m(\u001B[0m\u001B[0mnumerical_data\u001B[0m\u001B[1;33m[\u001B[0m\u001B[1;34m'lead_time'\u001B[0m\u001B[1;33m]\u001B[0m\u001B[1;33m)\u001B[0m\u001B[1;33m\u001B[0m\u001B[1;33m\u001B[0m\u001B[0m\n\u001B[0m",
      "\u001B[1;32m~\\anaconda3\\lib\\site-packages\\scipy\\stats\\_morestats.py\u001B[0m in \u001B[0;36mboxcox\u001B[1;34m(x, lmbda, alpha, optimizer)\u001B[0m\n\u001B[0;32m   1088\u001B[0m \u001B[1;33m\u001B[0m\u001B[0m\n\u001B[0;32m   1089\u001B[0m     \u001B[1;32mif\u001B[0m \u001B[0mnp\u001B[0m\u001B[1;33m.\u001B[0m\u001B[0many\u001B[0m\u001B[1;33m(\u001B[0m\u001B[0mx\u001B[0m \u001B[1;33m<=\u001B[0m \u001B[1;36m0\u001B[0m\u001B[1;33m)\u001B[0m\u001B[1;33m:\u001B[0m\u001B[1;33m\u001B[0m\u001B[1;33m\u001B[0m\u001B[0m\n\u001B[1;32m-> 1090\u001B[1;33m         \u001B[1;32mraise\u001B[0m \u001B[0mValueError\u001B[0m\u001B[1;33m(\u001B[0m\u001B[1;34m\"Data must be positive.\"\u001B[0m\u001B[1;33m)\u001B[0m\u001B[1;33m\u001B[0m\u001B[1;33m\u001B[0m\u001B[0m\n\u001B[0m\u001B[0;32m   1091\u001B[0m \u001B[1;33m\u001B[0m\u001B[0m\n\u001B[0;32m   1092\u001B[0m     \u001B[1;31m# If lmbda=None, find the lmbda that maximizes the log-likelihood function.\u001B[0m\u001B[1;33m\u001B[0m\u001B[1;33m\u001B[0m\u001B[0m\n",
      "\u001B[1;31mValueError\u001B[0m: Data must be positive."
     ]
    }
   ],
   "source": [
    "boxcox(numerical_data['lead_time'])"
   ],
   "metadata": {
    "collapsed": false
   }
  },
  {
   "cell_type": "markdown",
   "source": [
    "# Clustering for feature engineering (future task)"
   ],
   "metadata": {
    "collapsed": false
   }
  },
  {
   "cell_type": "code",
   "execution_count": 552,
   "outputs": [
    {
     "data": {
      "text/plain": "      hotel   country  market_segment  distribution_channel     agent  \\\n0  0.275291  0.365191        0.152133              0.173133  0.365191   \n1  0.377989  0.296776        0.208887              0.237721  0.296776   \n2  0.192023  0.180037        0.106117              0.120765  0.060012   \n3  0.294352  0.203788        0.198661              0.234081  0.407577   \n4  0.319711  0.154655        0.422888              0.472452  0.463965   \n\n    company  customer_type  reservation_status      meal  reserved_room_type  \\\n0  0.365191       0.404019                 0.0  0.370689            0.328027   \n1  0.296776       0.554741                 0.0  0.508977            0.450400   \n2  0.060012       0.281814                 0.0  0.258566            0.270479   \n3  0.101894       0.431994                 0.0  0.396356            0.414618   \n4  0.092793       0.469211                 0.0  0.430503            0.450338   \n\n   ...  babies  previous_cancellations  previous_bookings_not_canceled  \\\n0  ...       0                       0                               0   \n1  ...       0                       0                               0   \n2  ...       0                       0                               0   \n3  ...       0                       0                               0   \n4  ...       0                       0                               0   \n\n   booking_changes  days_in_waiting_list   adr  required_car_parking_spaces  \\\n0                3                     0   0.0                            0   \n1                4                     0   0.0                            0   \n2                0                     0  75.0                            0   \n3                0                     0  75.0                            0   \n4                0                     0  98.0                            0   \n\n   total_of_special_requests  is_repeated_guest  is_canceled  \n0                          0                  0            0  \n1                          0                  0            0  \n2                          0                  0            0  \n3                          0                  0            0  \n4                          1                  0            0  \n\n[5 rows x 28 columns]",
      "text/html": "<div>\n<style scoped>\n    .dataframe tbody tr th:only-of-type {\n        vertical-align: middle;\n    }\n\n    .dataframe tbody tr th {\n        vertical-align: top;\n    }\n\n    .dataframe thead th {\n        text-align: right;\n    }\n</style>\n<table border=\"1\" class=\"dataframe\">\n  <thead>\n    <tr style=\"text-align: right;\">\n      <th></th>\n      <th>hotel</th>\n      <th>country</th>\n      <th>market_segment</th>\n      <th>distribution_channel</th>\n      <th>agent</th>\n      <th>company</th>\n      <th>customer_type</th>\n      <th>reservation_status</th>\n      <th>meal</th>\n      <th>reserved_room_type</th>\n      <th>...</th>\n      <th>babies</th>\n      <th>previous_cancellations</th>\n      <th>previous_bookings_not_canceled</th>\n      <th>booking_changes</th>\n      <th>days_in_waiting_list</th>\n      <th>adr</th>\n      <th>required_car_parking_spaces</th>\n      <th>total_of_special_requests</th>\n      <th>is_repeated_guest</th>\n      <th>is_canceled</th>\n    </tr>\n  </thead>\n  <tbody>\n    <tr>\n      <th>0</th>\n      <td>0.275291</td>\n      <td>0.365191</td>\n      <td>0.152133</td>\n      <td>0.173133</td>\n      <td>0.365191</td>\n      <td>0.365191</td>\n      <td>0.404019</td>\n      <td>0.0</td>\n      <td>0.370689</td>\n      <td>0.328027</td>\n      <td>...</td>\n      <td>0</td>\n      <td>0</td>\n      <td>0</td>\n      <td>3</td>\n      <td>0</td>\n      <td>0.0</td>\n      <td>0</td>\n      <td>0</td>\n      <td>0</td>\n      <td>0</td>\n    </tr>\n    <tr>\n      <th>1</th>\n      <td>0.377989</td>\n      <td>0.296776</td>\n      <td>0.208887</td>\n      <td>0.237721</td>\n      <td>0.296776</td>\n      <td>0.296776</td>\n      <td>0.554741</td>\n      <td>0.0</td>\n      <td>0.508977</td>\n      <td>0.450400</td>\n      <td>...</td>\n      <td>0</td>\n      <td>0</td>\n      <td>0</td>\n      <td>4</td>\n      <td>0</td>\n      <td>0.0</td>\n      <td>0</td>\n      <td>0</td>\n      <td>0</td>\n      <td>0</td>\n    </tr>\n    <tr>\n      <th>2</th>\n      <td>0.192023</td>\n      <td>0.180037</td>\n      <td>0.106117</td>\n      <td>0.120765</td>\n      <td>0.060012</td>\n      <td>0.060012</td>\n      <td>0.281814</td>\n      <td>0.0</td>\n      <td>0.258566</td>\n      <td>0.270479</td>\n      <td>...</td>\n      <td>0</td>\n      <td>0</td>\n      <td>0</td>\n      <td>0</td>\n      <td>0</td>\n      <td>75.0</td>\n      <td>0</td>\n      <td>0</td>\n      <td>0</td>\n      <td>0</td>\n    </tr>\n    <tr>\n      <th>3</th>\n      <td>0.294352</td>\n      <td>0.203788</td>\n      <td>0.198661</td>\n      <td>0.234081</td>\n      <td>0.407577</td>\n      <td>0.101894</td>\n      <td>0.431994</td>\n      <td>0.0</td>\n      <td>0.396356</td>\n      <td>0.414618</td>\n      <td>...</td>\n      <td>0</td>\n      <td>0</td>\n      <td>0</td>\n      <td>0</td>\n      <td>0</td>\n      <td>75.0</td>\n      <td>0</td>\n      <td>0</td>\n      <td>0</td>\n      <td>0</td>\n    </tr>\n    <tr>\n      <th>4</th>\n      <td>0.319711</td>\n      <td>0.154655</td>\n      <td>0.422888</td>\n      <td>0.472452</td>\n      <td>0.463965</td>\n      <td>0.092793</td>\n      <td>0.469211</td>\n      <td>0.0</td>\n      <td>0.430503</td>\n      <td>0.450338</td>\n      <td>...</td>\n      <td>0</td>\n      <td>0</td>\n      <td>0</td>\n      <td>0</td>\n      <td>0</td>\n      <td>98.0</td>\n      <td>0</td>\n      <td>1</td>\n      <td>0</td>\n      <td>0</td>\n    </tr>\n  </tbody>\n</table>\n<p>5 rows × 28 columns</p>\n</div>"
     },
     "execution_count": 552,
     "metadata": {},
     "output_type": "execute_result"
    }
   ],
   "source": [
    "combined_data = pd.concat([cat_data_final, numerical_data], axis=1)\n",
    "combined_data.head()"
   ],
   "metadata": {
    "collapsed": false
   }
  },
  {
   "cell_type": "code",
   "execution_count": 566,
   "outputs": [],
   "source": [
    "from sklearn.cluster import KMeans\n",
    "# select columns you want to cluster\n",
    "# initialize k-means with 5 clusters\n",
    "kmeans = KMeans(n_clusters=5)\n",
    "# fit k-means\n",
    "kmeans.fit(combined_data)\n",
    "# add cluster labels to DataFrame\n",
    "combined_data['cluster_label'] = kmeans.labels_"
   ],
   "metadata": {
    "collapsed": false
   }
  },
  {
   "cell_type": "code",
   "execution_count": 570,
   "outputs": [
    {
     "data": {
      "text/plain": "           hotel   country  market_segment  distribution_channel     agent  \\\n85      0.216693  0.019574        0.267841              0.320217  0.217256   \n182     0.355918  0.027224        0.439929              0.525957  0.544474   \n208     0.217200  0.241094        0.268460              0.320988  0.118032   \n223     0.226561  0.274954        0.280029              0.334821  0.095037   \n246     0.134882  0.058911        0.178411              0.199321  0.040595   \n...          ...       ...             ...                   ...       ...   \n119370  0.459110  0.195297        0.404059              0.451417  0.484487   \n119374  0.298702  0.088073        0.262885              0.293696  0.218512   \n119375  0.500274  0.243059        0.411434              0.491891  0.104845   \n119378  0.372672  0.166265        0.306492              0.366427  0.114943   \n119389  0.235876  0.046056        0.207592              0.231923  0.114321   \n\n         company  customer_type  reservation_status      meal  \\\n85      0.144511       0.241709            0.000000  0.268974   \n182     0.309894       0.397008            0.000000  0.479257   \n208     0.129820       0.242105            0.782377  0.292486   \n223     0.146170       0.252539            0.816095  0.281192   \n246     0.030824       0.197954            0.000000  0.167425   \n...          ...            ...                 ...       ...   \n119370  0.446143       0.448320            0.000000  0.411335   \n119374  0.201218       0.291681            0.000000  0.267619   \n119375  0.508971       0.488516            0.000000  0.448215   \n119378  0.314143       0.363913            0.000000  0.333891   \n119389  0.105282       0.230332            0.000000  0.194810   \n\n        reserved_room_type  ...  previous_cancellations  \\\n85                0.228625  ...                       0   \n182               0.501339  ...                       0   \n208               0.305962  ...                       0   \n223               0.259323  ...                       0   \n246               0.189992  ...                       0   \n...                    ...  ...                     ...   \n119370            0.430287  ...                       0   \n119374            0.279949  ...                       0   \n119375            0.468867  ...                       0   \n119378            0.349275  ...                       0   \n119389            0.221067  ...                       0   \n\n        previous_bookings_not_canceled  booking_changes  days_in_waiting_list  \\\n85                                   0                0                     0   \n182                                  0                0                     0   \n208                                  0                0                     0   \n223                                  0                0                     0   \n246                                  0                0                     0   \n...                                ...              ...                   ...   \n119370                               0                0                     0   \n119374                               0                0                     0   \n119375                               0                0                     0   \n119378                               0                0                     0   \n119389                               0                0                     0   \n\n           adr  required_car_parking_spaces  total_of_special_requests  \\\n85      134.73                            0                          0   \n182      47.25                            0                          0   \n208      47.25                            0                          0   \n223     112.00                            0                          1   \n246     112.00                            0                          1   \n...        ...                          ...                        ...   \n119370  108.00                            0                          2   \n119374  117.00                            0                          2   \n119375   85.50                            0                          1   \n119378   86.85                            0                          0   \n119389  151.20                            0                          2   \n\n        is_repeated_guest  is_canceled  cluster_label  \n85                      0            0              3  \n182                     0            0              3  \n208                     0            1              3  \n223                     0            1              3  \n246                     0            0              3  \n...                   ...          ...            ...  \n119370                  0            0              3  \n119374                  0            0              3  \n119375                  0            0              3  \n119378                  0            0              3  \n119389                  0            0              3  \n\n[16188 rows x 29 columns]",
      "text/html": "<div>\n<style scoped>\n    .dataframe tbody tr th:only-of-type {\n        vertical-align: middle;\n    }\n\n    .dataframe tbody tr th {\n        vertical-align: top;\n    }\n\n    .dataframe thead th {\n        text-align: right;\n    }\n</style>\n<table border=\"1\" class=\"dataframe\">\n  <thead>\n    <tr style=\"text-align: right;\">\n      <th></th>\n      <th>hotel</th>\n      <th>country</th>\n      <th>market_segment</th>\n      <th>distribution_channel</th>\n      <th>agent</th>\n      <th>company</th>\n      <th>customer_type</th>\n      <th>reservation_status</th>\n      <th>meal</th>\n      <th>reserved_room_type</th>\n      <th>...</th>\n      <th>previous_cancellations</th>\n      <th>previous_bookings_not_canceled</th>\n      <th>booking_changes</th>\n      <th>days_in_waiting_list</th>\n      <th>adr</th>\n      <th>required_car_parking_spaces</th>\n      <th>total_of_special_requests</th>\n      <th>is_repeated_guest</th>\n      <th>is_canceled</th>\n      <th>cluster_label</th>\n    </tr>\n  </thead>\n  <tbody>\n    <tr>\n      <th>85</th>\n      <td>0.216693</td>\n      <td>0.019574</td>\n      <td>0.267841</td>\n      <td>0.320217</td>\n      <td>0.217256</td>\n      <td>0.144511</td>\n      <td>0.241709</td>\n      <td>0.000000</td>\n      <td>0.268974</td>\n      <td>0.228625</td>\n      <td>...</td>\n      <td>0</td>\n      <td>0</td>\n      <td>0</td>\n      <td>0</td>\n      <td>134.73</td>\n      <td>0</td>\n      <td>0</td>\n      <td>0</td>\n      <td>0</td>\n      <td>3</td>\n    </tr>\n    <tr>\n      <th>182</th>\n      <td>0.355918</td>\n      <td>0.027224</td>\n      <td>0.439929</td>\n      <td>0.525957</td>\n      <td>0.544474</td>\n      <td>0.309894</td>\n      <td>0.397008</td>\n      <td>0.000000</td>\n      <td>0.479257</td>\n      <td>0.501339</td>\n      <td>...</td>\n      <td>0</td>\n      <td>0</td>\n      <td>0</td>\n      <td>0</td>\n      <td>47.25</td>\n      <td>0</td>\n      <td>0</td>\n      <td>0</td>\n      <td>0</td>\n      <td>3</td>\n    </tr>\n    <tr>\n      <th>208</th>\n      <td>0.217200</td>\n      <td>0.241094</td>\n      <td>0.268460</td>\n      <td>0.320988</td>\n      <td>0.118032</td>\n      <td>0.129820</td>\n      <td>0.242105</td>\n      <td>0.782377</td>\n      <td>0.292486</td>\n      <td>0.305962</td>\n      <td>...</td>\n      <td>0</td>\n      <td>0</td>\n      <td>0</td>\n      <td>0</td>\n      <td>47.25</td>\n      <td>0</td>\n      <td>0</td>\n      <td>0</td>\n      <td>1</td>\n      <td>3</td>\n    </tr>\n    <tr>\n      <th>223</th>\n      <td>0.226561</td>\n      <td>0.274954</td>\n      <td>0.280029</td>\n      <td>0.334821</td>\n      <td>0.095037</td>\n      <td>0.146170</td>\n      <td>0.252539</td>\n      <td>0.816095</td>\n      <td>0.281192</td>\n      <td>0.259323</td>\n      <td>...</td>\n      <td>0</td>\n      <td>0</td>\n      <td>0</td>\n      <td>0</td>\n      <td>112.00</td>\n      <td>0</td>\n      <td>1</td>\n      <td>0</td>\n      <td>1</td>\n      <td>3</td>\n    </tr>\n    <tr>\n      <th>246</th>\n      <td>0.134882</td>\n      <td>0.058911</td>\n      <td>0.178411</td>\n      <td>0.199321</td>\n      <td>0.040595</td>\n      <td>0.030824</td>\n      <td>0.197954</td>\n      <td>0.000000</td>\n      <td>0.167425</td>\n      <td>0.189992</td>\n      <td>...</td>\n      <td>0</td>\n      <td>0</td>\n      <td>0</td>\n      <td>0</td>\n      <td>112.00</td>\n      <td>0</td>\n      <td>1</td>\n      <td>0</td>\n      <td>0</td>\n      <td>3</td>\n    </tr>\n    <tr>\n      <th>...</th>\n      <td>...</td>\n      <td>...</td>\n      <td>...</td>\n      <td>...</td>\n      <td>...</td>\n      <td>...</td>\n      <td>...</td>\n      <td>...</td>\n      <td>...</td>\n      <td>...</td>\n      <td>...</td>\n      <td>...</td>\n      <td>...</td>\n      <td>...</td>\n      <td>...</td>\n      <td>...</td>\n      <td>...</td>\n      <td>...</td>\n      <td>...</td>\n      <td>...</td>\n      <td>...</td>\n    </tr>\n    <tr>\n      <th>119370</th>\n      <td>0.459110</td>\n      <td>0.195297</td>\n      <td>0.404059</td>\n      <td>0.451417</td>\n      <td>0.484487</td>\n      <td>0.446143</td>\n      <td>0.448320</td>\n      <td>0.000000</td>\n      <td>0.411335</td>\n      <td>0.430287</td>\n      <td>...</td>\n      <td>0</td>\n      <td>0</td>\n      <td>0</td>\n      <td>0</td>\n      <td>108.00</td>\n      <td>0</td>\n      <td>2</td>\n      <td>0</td>\n      <td>0</td>\n      <td>3</td>\n    </tr>\n    <tr>\n      <th>119374</th>\n      <td>0.298702</td>\n      <td>0.088073</td>\n      <td>0.262885</td>\n      <td>0.293696</td>\n      <td>0.218512</td>\n      <td>0.201218</td>\n      <td>0.291681</td>\n      <td>0.000000</td>\n      <td>0.267619</td>\n      <td>0.279949</td>\n      <td>...</td>\n      <td>0</td>\n      <td>0</td>\n      <td>0</td>\n      <td>0</td>\n      <td>117.00</td>\n      <td>0</td>\n      <td>2</td>\n      <td>0</td>\n      <td>0</td>\n      <td>3</td>\n    </tr>\n    <tr>\n      <th>119375</th>\n      <td>0.500274</td>\n      <td>0.243059</td>\n      <td>0.411434</td>\n      <td>0.491891</td>\n      <td>0.104845</td>\n      <td>0.508971</td>\n      <td>0.488516</td>\n      <td>0.000000</td>\n      <td>0.448215</td>\n      <td>0.468867</td>\n      <td>...</td>\n      <td>0</td>\n      <td>0</td>\n      <td>0</td>\n      <td>0</td>\n      <td>85.50</td>\n      <td>0</td>\n      <td>1</td>\n      <td>0</td>\n      <td>0</td>\n      <td>3</td>\n    </tr>\n    <tr>\n      <th>119378</th>\n      <td>0.372672</td>\n      <td>0.166265</td>\n      <td>0.306492</td>\n      <td>0.366427</td>\n      <td>0.114943</td>\n      <td>0.314143</td>\n      <td>0.363913</td>\n      <td>0.000000</td>\n      <td>0.333891</td>\n      <td>0.349275</td>\n      <td>...</td>\n      <td>0</td>\n      <td>0</td>\n      <td>0</td>\n      <td>0</td>\n      <td>86.85</td>\n      <td>0</td>\n      <td>0</td>\n      <td>0</td>\n      <td>0</td>\n      <td>3</td>\n    </tr>\n    <tr>\n      <th>119389</th>\n      <td>0.235876</td>\n      <td>0.046056</td>\n      <td>0.207592</td>\n      <td>0.231923</td>\n      <td>0.114321</td>\n      <td>0.105282</td>\n      <td>0.230332</td>\n      <td>0.000000</td>\n      <td>0.194810</td>\n      <td>0.221067</td>\n      <td>...</td>\n      <td>0</td>\n      <td>0</td>\n      <td>0</td>\n      <td>0</td>\n      <td>151.20</td>\n      <td>0</td>\n      <td>2</td>\n      <td>0</td>\n      <td>0</td>\n      <td>3</td>\n    </tr>\n  </tbody>\n</table>\n<p>16188 rows × 29 columns</p>\n</div>"
     },
     "execution_count": 570,
     "metadata": {},
     "output_type": "execute_result"
    }
   ],
   "source": [
    "combined_data.query('cluster_label == 3')"
   ],
   "metadata": {
    "collapsed": false
   }
  },
  {
   "cell_type": "code",
   "execution_count": 631,
   "outputs": [
    {
     "data": {
      "text/plain": "           lead_time  arrival_date_week_number  stays_in_weekend_nights  \\\ncount  119390.000000             119390.000000            119390.000000   \nmean        0.246559                 -0.037947                -0.036201   \nstd         0.752557                  0.618415                 0.499307   \nmin        -0.485915                 -1.227273                -0.500000   \n25%        -0.359155                 -0.545455                -0.500000   \n50%         0.000000                  0.000000                 0.000000   \n75%         0.640845                  0.454545                 0.500000   \nmax         4.704225                  1.136364                 9.000000   \n\n       stays_in_week_nights         adults       children         babies  \\\ncount         119390.000000  119390.000000  119390.000000  119390.000000   \nmean               0.250151      -0.143597       0.103886       0.007949   \nstd                0.954143       0.579261       0.398555       0.097436   \nmin               -1.000000      -2.000000       0.000000       0.000000   \n25%               -0.500000       0.000000       0.000000       0.000000   \n50%                0.000000       0.000000       0.000000       0.000000   \n75%                0.500000       0.000000       0.000000       0.000000   \nmax               24.000000      53.000000      10.000000      10.000000   \n\n       previous_cancellations  previous_bookings_not_canceled  \\\ncount           119390.000000                   119390.000000   \nmean                 0.087118                        0.137097   \nstd                  0.844336                        1.497437   \nmin                  0.000000                        0.000000   \n25%                  0.000000                        0.000000   \n50%                  0.000000                        0.000000   \n75%                  0.000000                        0.000000   \nmax                 26.000000                       72.000000   \n\n       booking_changes  ...  distribution_channel          agent  \\\ncount    119390.000000  ...          1.193900e+05  119390.000000   \nmean          0.221124  ...         -2.753997e-02       0.148172   \nstd           0.652306  ...          6.695404e-01       0.750319   \nmin           0.000000  ...         -2.579695e+00      -3.192729   \n25%           0.000000  ...         -5.443722e-01      -0.418164   \n50%           0.000000  ...         -1.302906e-16       0.000000   \n75%           0.000000  ...          4.556278e-01       0.581836   \nmax          21.000000  ...          2.569583e+00       4.529075   \n\n            company  customer_type  reservation_status          meal  \\\ncount  1.193900e+05  119390.000000       119390.000000  1.193900e+05   \nmean   6.549396e-02       0.023607            0.427509  3.360466e-03   \nstd    7.774273e-01       0.702588            0.595559  7.541559e-01   \nmin   -3.226109e+00      -2.889991           -0.485003 -3.506930e+00   \n25%   -4.726154e-01      -0.487291            0.000000 -5.020385e-01   \n50%    8.137954e-17       0.000000            0.000000  1.844058e-16   \n75%    5.273846e-01       0.512709            1.000000  4.979615e-01   \nmax    5.649720e+00       2.911332            2.518735  5.044171e+00   \n\n       reserved_room_type  assigned_room_type   deposit_type    is_canceled  \ncount       119390.000000       119390.000000  119390.000000  119390.000000  \nmean             0.013869            0.066385       0.526561       0.370416  \nstd              0.739246            0.676230       1.956058       0.482918  \nmin             -3.170891           -2.152783      -4.214597       0.000000  \n25%             -0.493863           -0.449619      -0.462002       0.000000  \n50%              0.000000            0.000000       0.000000       0.000000  \n75%              0.506137            0.550381       0.537998       1.000000  \nmax              6.557916            4.714733      13.702167       1.000000  \n\n[8 rows x 31 columns]",
      "text/html": "<div>\n<style scoped>\n    .dataframe tbody tr th:only-of-type {\n        vertical-align: middle;\n    }\n\n    .dataframe tbody tr th {\n        vertical-align: top;\n    }\n\n    .dataframe thead th {\n        text-align: right;\n    }\n</style>\n<table border=\"1\" class=\"dataframe\">\n  <thead>\n    <tr style=\"text-align: right;\">\n      <th></th>\n      <th>lead_time</th>\n      <th>arrival_date_week_number</th>\n      <th>stays_in_weekend_nights</th>\n      <th>stays_in_week_nights</th>\n      <th>adults</th>\n      <th>children</th>\n      <th>babies</th>\n      <th>previous_cancellations</th>\n      <th>previous_bookings_not_canceled</th>\n      <th>booking_changes</th>\n      <th>...</th>\n      <th>distribution_channel</th>\n      <th>agent</th>\n      <th>company</th>\n      <th>customer_type</th>\n      <th>reservation_status</th>\n      <th>meal</th>\n      <th>reserved_room_type</th>\n      <th>assigned_room_type</th>\n      <th>deposit_type</th>\n      <th>is_canceled</th>\n    </tr>\n  </thead>\n  <tbody>\n    <tr>\n      <th>count</th>\n      <td>119390.000000</td>\n      <td>119390.000000</td>\n      <td>119390.000000</td>\n      <td>119390.000000</td>\n      <td>119390.000000</td>\n      <td>119390.000000</td>\n      <td>119390.000000</td>\n      <td>119390.000000</td>\n      <td>119390.000000</td>\n      <td>119390.000000</td>\n      <td>...</td>\n      <td>1.193900e+05</td>\n      <td>119390.000000</td>\n      <td>1.193900e+05</td>\n      <td>119390.000000</td>\n      <td>119390.000000</td>\n      <td>1.193900e+05</td>\n      <td>119390.000000</td>\n      <td>119390.000000</td>\n      <td>119390.000000</td>\n      <td>119390.000000</td>\n    </tr>\n    <tr>\n      <th>mean</th>\n      <td>0.246559</td>\n      <td>-0.037947</td>\n      <td>-0.036201</td>\n      <td>0.250151</td>\n      <td>-0.143597</td>\n      <td>0.103886</td>\n      <td>0.007949</td>\n      <td>0.087118</td>\n      <td>0.137097</td>\n      <td>0.221124</td>\n      <td>...</td>\n      <td>-2.753997e-02</td>\n      <td>0.148172</td>\n      <td>6.549396e-02</td>\n      <td>0.023607</td>\n      <td>0.427509</td>\n      <td>3.360466e-03</td>\n      <td>0.013869</td>\n      <td>0.066385</td>\n      <td>0.526561</td>\n      <td>0.370416</td>\n    </tr>\n    <tr>\n      <th>std</th>\n      <td>0.752557</td>\n      <td>0.618415</td>\n      <td>0.499307</td>\n      <td>0.954143</td>\n      <td>0.579261</td>\n      <td>0.398555</td>\n      <td>0.097436</td>\n      <td>0.844336</td>\n      <td>1.497437</td>\n      <td>0.652306</td>\n      <td>...</td>\n      <td>6.695404e-01</td>\n      <td>0.750319</td>\n      <td>7.774273e-01</td>\n      <td>0.702588</td>\n      <td>0.595559</td>\n      <td>7.541559e-01</td>\n      <td>0.739246</td>\n      <td>0.676230</td>\n      <td>1.956058</td>\n      <td>0.482918</td>\n    </tr>\n    <tr>\n      <th>min</th>\n      <td>-0.485915</td>\n      <td>-1.227273</td>\n      <td>-0.500000</td>\n      <td>-1.000000</td>\n      <td>-2.000000</td>\n      <td>0.000000</td>\n      <td>0.000000</td>\n      <td>0.000000</td>\n      <td>0.000000</td>\n      <td>0.000000</td>\n      <td>...</td>\n      <td>-2.579695e+00</td>\n      <td>-3.192729</td>\n      <td>-3.226109e+00</td>\n      <td>-2.889991</td>\n      <td>-0.485003</td>\n      <td>-3.506930e+00</td>\n      <td>-3.170891</td>\n      <td>-2.152783</td>\n      <td>-4.214597</td>\n      <td>0.000000</td>\n    </tr>\n    <tr>\n      <th>25%</th>\n      <td>-0.359155</td>\n      <td>-0.545455</td>\n      <td>-0.500000</td>\n      <td>-0.500000</td>\n      <td>0.000000</td>\n      <td>0.000000</td>\n      <td>0.000000</td>\n      <td>0.000000</td>\n      <td>0.000000</td>\n      <td>0.000000</td>\n      <td>...</td>\n      <td>-5.443722e-01</td>\n      <td>-0.418164</td>\n      <td>-4.726154e-01</td>\n      <td>-0.487291</td>\n      <td>0.000000</td>\n      <td>-5.020385e-01</td>\n      <td>-0.493863</td>\n      <td>-0.449619</td>\n      <td>-0.462002</td>\n      <td>0.000000</td>\n    </tr>\n    <tr>\n      <th>50%</th>\n      <td>0.000000</td>\n      <td>0.000000</td>\n      <td>0.000000</td>\n      <td>0.000000</td>\n      <td>0.000000</td>\n      <td>0.000000</td>\n      <td>0.000000</td>\n      <td>0.000000</td>\n      <td>0.000000</td>\n      <td>0.000000</td>\n      <td>...</td>\n      <td>-1.302906e-16</td>\n      <td>0.000000</td>\n      <td>8.137954e-17</td>\n      <td>0.000000</td>\n      <td>0.000000</td>\n      <td>1.844058e-16</td>\n      <td>0.000000</td>\n      <td>0.000000</td>\n      <td>0.000000</td>\n      <td>0.000000</td>\n    </tr>\n    <tr>\n      <th>75%</th>\n      <td>0.640845</td>\n      <td>0.454545</td>\n      <td>0.500000</td>\n      <td>0.500000</td>\n      <td>0.000000</td>\n      <td>0.000000</td>\n      <td>0.000000</td>\n      <td>0.000000</td>\n      <td>0.000000</td>\n      <td>0.000000</td>\n      <td>...</td>\n      <td>4.556278e-01</td>\n      <td>0.581836</td>\n      <td>5.273846e-01</td>\n      <td>0.512709</td>\n      <td>1.000000</td>\n      <td>4.979615e-01</td>\n      <td>0.506137</td>\n      <td>0.550381</td>\n      <td>0.537998</td>\n      <td>1.000000</td>\n    </tr>\n    <tr>\n      <th>max</th>\n      <td>4.704225</td>\n      <td>1.136364</td>\n      <td>9.000000</td>\n      <td>24.000000</td>\n      <td>53.000000</td>\n      <td>10.000000</td>\n      <td>10.000000</td>\n      <td>26.000000</td>\n      <td>72.000000</td>\n      <td>21.000000</td>\n      <td>...</td>\n      <td>2.569583e+00</td>\n      <td>4.529075</td>\n      <td>5.649720e+00</td>\n      <td>2.911332</td>\n      <td>2.518735</td>\n      <td>5.044171e+00</td>\n      <td>6.557916</td>\n      <td>4.714733</td>\n      <td>13.702167</td>\n      <td>1.000000</td>\n    </tr>\n  </tbody>\n</table>\n<p>8 rows × 31 columns</p>\n</div>"
     },
     "execution_count": 631,
     "metadata": {},
     "output_type": "execute_result"
    }
   ],
   "source": [
    "combined_robust.describe()"
   ],
   "metadata": {
    "collapsed": false
   }
  },
  {
   "cell_type": "code",
   "execution_count": 637,
   "outputs": [
    {
     "name": "stdout",
     "output_type": "stream",
     "text": [
      "              precision    recall  f1-score   support\n",
      "\n",
      "           0       1.00      1.00      1.00     26256\n",
      "           1       1.00      1.00      1.00     15531\n",
      "\n",
      "    accuracy                           1.00     41787\n",
      "   macro avg       1.00      1.00      1.00     41787\n",
      "weighted avg       1.00      1.00      1.00     41787\n",
      "\n"
     ]
    }
   ],
   "source": [
    "from sklearn.model_selection import train_test_split\n",
    "from sklearn.metrics import classification_report\n",
    "lr = LogisticRegression(max_iter=10000, penalty='elasticnet', solver='saga', l1_ratio=0.3)\n",
    "X_train, X_test, y_train, y_test = train_test_split(combined_robust.drop('is_canceled',axis=1), combined_robust.is_canceled, test_size=0.35)\n",
    "lr.fit(X_train, y_train)\n",
    "preds = lr.predict(X_test)\n",
    "print(classification_report(y_test, preds))"
   ],
   "metadata": {
    "collapsed": false
   }
  },
  {
   "cell_type": "code",
   "execution_count": 639,
   "outputs": [],
   "source": [
    "combined_data.to_parquet('combined_data_basic.parquet.gzip', compression='gzip', index=False)"
   ],
   "metadata": {
    "collapsed": false
   }
  },
  {
   "cell_type": "code",
   "execution_count": 644,
   "outputs": [
    {
     "data": {
      "text/plain": "   meal  reserved_room_type  assigned_room_type  deposit_type  is_canceled\n0     0                   2                   2             0            0\n1     0                   2                   2             0            0\n2     0                   0                   2             0            0\n3     0                   0                   0             0            0\n4     0                   0                   0             0            0",
      "text/html": "<div>\n<style scoped>\n    .dataframe tbody tr th:only-of-type {\n        vertical-align: middle;\n    }\n\n    .dataframe tbody tr th {\n        vertical-align: top;\n    }\n\n    .dataframe thead th {\n        text-align: right;\n    }\n</style>\n<table border=\"1\" class=\"dataframe\">\n  <thead>\n    <tr style=\"text-align: right;\">\n      <th></th>\n      <th>meal</th>\n      <th>reserved_room_type</th>\n      <th>assigned_room_type</th>\n      <th>deposit_type</th>\n      <th>is_canceled</th>\n    </tr>\n  </thead>\n  <tbody>\n    <tr>\n      <th>0</th>\n      <td>0</td>\n      <td>2</td>\n      <td>2</td>\n      <td>0</td>\n      <td>0</td>\n    </tr>\n    <tr>\n      <th>1</th>\n      <td>0</td>\n      <td>2</td>\n      <td>2</td>\n      <td>0</td>\n      <td>0</td>\n    </tr>\n    <tr>\n      <th>2</th>\n      <td>0</td>\n      <td>0</td>\n      <td>2</td>\n      <td>0</td>\n      <td>0</td>\n    </tr>\n    <tr>\n      <th>3</th>\n      <td>0</td>\n      <td>0</td>\n      <td>0</td>\n      <td>0</td>\n      <td>0</td>\n    </tr>\n    <tr>\n      <th>4</th>\n      <td>0</td>\n      <td>0</td>\n      <td>0</td>\n      <td>0</td>\n      <td>0</td>\n    </tr>\n  </tbody>\n</table>\n</div>"
     },
     "execution_count": 644,
     "metadata": {},
     "output_type": "execute_result"
    }
   ],
   "source": [
    "for col in ordinal_data.columns:\n",
    "    ordinal_data[f'{col}'] = lab_e.fit_transform(ordinal_data[f'{col}'])\n",
    "\n",
    "ordinal_data.head()"
   ],
   "metadata": {
    "collapsed": false
   }
  },
  {
   "cell_type": "code",
   "execution_count": 659,
   "outputs": [
    {
     "ename": "KeyError",
     "evalue": "\"['is_canceled'] not found in axis\"",
     "output_type": "error",
     "traceback": [
      "\u001B[1;31m---------------------------------------------------------------------------\u001B[0m",
      "\u001B[1;31mKeyError\u001B[0m                                  Traceback (most recent call last)",
      "\u001B[1;32m~\\AppData\\Local\\Temp\\ipykernel_39316\\4241780381.py\u001B[0m in \u001B[0;36m<module>\u001B[1;34m\u001B[0m\n\u001B[1;32m----> 1\u001B[1;33m \u001B[0mnominal_cat_data\u001B[0m \u001B[1;33m=\u001B[0m \u001B[0mnominal_cat_data\u001B[0m\u001B[1;33m.\u001B[0m\u001B[0mdrop\u001B[0m\u001B[1;33m(\u001B[0m\u001B[1;33m[\u001B[0m\u001B[1;34m'is_canceled'\u001B[0m\u001B[1;33m,\u001B[0m \u001B[1;34m'reservation_status'\u001B[0m\u001B[1;33m]\u001B[0m\u001B[1;33m,\u001B[0m \u001B[0maxis\u001B[0m\u001B[1;33m=\u001B[0m\u001B[1;36m1\u001B[0m\u001B[1;33m)\u001B[0m\u001B[1;33m\u001B[0m\u001B[1;33m\u001B[0m\u001B[0m\n\u001B[0m",
      "\u001B[1;32m~\\anaconda3\\lib\\site-packages\\pandas\\util\\_decorators.py\u001B[0m in \u001B[0;36mwrapper\u001B[1;34m(*args, **kwargs)\u001B[0m\n\u001B[0;32m    309\u001B[0m                 \u001B[1;32mand\u001B[0m \u001B[0mp\u001B[0m\u001B[1;33m.\u001B[0m\u001B[0mname\u001B[0m \u001B[1;32mnot\u001B[0m \u001B[1;32min\u001B[0m \u001B[0mallow_args\u001B[0m\u001B[1;33m\u001B[0m\u001B[1;33m\u001B[0m\u001B[0m\n\u001B[0;32m    310\u001B[0m             )\n\u001B[1;32m--> 311\u001B[1;33m             \u001B[1;32melse\u001B[0m \u001B[0mp\u001B[0m\u001B[1;33m\u001B[0m\u001B[1;33m\u001B[0m\u001B[0m\n\u001B[0m\u001B[0;32m    312\u001B[0m             \u001B[1;32mfor\u001B[0m \u001B[0mp\u001B[0m \u001B[1;32min\u001B[0m \u001B[0mold_sig\u001B[0m\u001B[1;33m.\u001B[0m\u001B[0mparameters\u001B[0m\u001B[1;33m.\u001B[0m\u001B[0mvalues\u001B[0m\u001B[1;33m(\u001B[0m\u001B[1;33m)\u001B[0m\u001B[1;33m\u001B[0m\u001B[1;33m\u001B[0m\u001B[0m\n\u001B[0;32m    313\u001B[0m         ]\n",
      "\u001B[1;32m~\\anaconda3\\lib\\site-packages\\pandas\\core\\frame.py\u001B[0m in \u001B[0;36mdrop\u001B[1;34m(self, labels, axis, index, columns, level, inplace, errors)\u001B[0m\n\u001B[0;32m   4955\u001B[0m             \u001B[1;34m\"The 'lookup' method is deprecated and will be \"\u001B[0m\u001B[1;33m\u001B[0m\u001B[1;33m\u001B[0m\u001B[0m\n\u001B[0;32m   4956\u001B[0m             \u001B[1;34m\"removed in a future version. \"\u001B[0m\u001B[1;33m\u001B[0m\u001B[1;33m\u001B[0m\u001B[0m\n\u001B[1;32m-> 4957\u001B[1;33m             \u001B[1;34m\"You can use DataFrame.melt and DataFrame.loc \"\u001B[0m\u001B[1;33m\u001B[0m\u001B[1;33m\u001B[0m\u001B[0m\n\u001B[0m\u001B[0;32m   4958\u001B[0m             \u001B[1;34m\"as a substitute.\"\u001B[0m\u001B[1;33m\u001B[0m\u001B[1;33m\u001B[0m\u001B[0m\n\u001B[0;32m   4959\u001B[0m         )\n",
      "\u001B[1;32m~\\anaconda3\\lib\\site-packages\\pandas\\core\\generic.py\u001B[0m in \u001B[0;36mdrop\u001B[1;34m(self, labels, axis, index, columns, level, inplace, errors)\u001B[0m\n\u001B[0;32m   4265\u001B[0m         \"\"\"\n\u001B[0;32m   4266\u001B[0m         \u001B[0mGet\u001B[0m \u001B[0mitem\u001B[0m \u001B[1;32mfrom\u001B[0m \u001B[0mobject\u001B[0m \u001B[1;32mfor\u001B[0m \u001B[0mgiven\u001B[0m \u001B[0mkey\u001B[0m \u001B[1;33m(\u001B[0m\u001B[0mex\u001B[0m\u001B[1;33m:\u001B[0m \u001B[0mDataFrame\u001B[0m \u001B[0mcolumn\u001B[0m\u001B[1;33m)\u001B[0m\u001B[1;33m.\u001B[0m\u001B[1;33m\u001B[0m\u001B[1;33m\u001B[0m\u001B[0m\n\u001B[1;32m-> 4267\u001B[1;33m \u001B[1;33m\u001B[0m\u001B[0m\n\u001B[0m\u001B[0;32m   4268\u001B[0m         \u001B[0mReturns\u001B[0m \u001B[0mdefault\u001B[0m \u001B[0mvalue\u001B[0m \u001B[1;32mif\u001B[0m \u001B[1;32mnot\u001B[0m \u001B[0mfound\u001B[0m\u001B[1;33m.\u001B[0m\u001B[1;33m\u001B[0m\u001B[1;33m\u001B[0m\u001B[0m\n\u001B[0;32m   4269\u001B[0m \u001B[1;33m\u001B[0m\u001B[0m\n",
      "\u001B[1;32m~\\anaconda3\\lib\\site-packages\\pandas\\core\\generic.py\u001B[0m in \u001B[0;36m_drop_axis\u001B[1;34m(self, labels, axis, level, errors, consolidate, only_slice)\u001B[0m\n\u001B[0;32m   4309\u001B[0m         \"\"\"\n\u001B[0;32m   4310\u001B[0m         \u001B[1;32mtry\u001B[0m\u001B[1;33m:\u001B[0m\u001B[1;33m\u001B[0m\u001B[1;33m\u001B[0m\u001B[0m\n\u001B[1;32m-> 4311\u001B[1;33m             \u001B[1;32mreturn\u001B[0m \u001B[0mself\u001B[0m\u001B[1;33m[\u001B[0m\u001B[0mkey\u001B[0m\u001B[1;33m]\u001B[0m\u001B[1;33m\u001B[0m\u001B[1;33m\u001B[0m\u001B[0m\n\u001B[0m\u001B[0;32m   4312\u001B[0m         \u001B[1;32mexcept\u001B[0m \u001B[1;33m(\u001B[0m\u001B[0mKeyError\u001B[0m\u001B[1;33m,\u001B[0m \u001B[0mValueError\u001B[0m\u001B[1;33m,\u001B[0m \u001B[0mIndexError\u001B[0m\u001B[1;33m)\u001B[0m\u001B[1;33m:\u001B[0m\u001B[1;33m\u001B[0m\u001B[1;33m\u001B[0m\u001B[0m\n\u001B[0;32m   4313\u001B[0m             \u001B[1;32mreturn\u001B[0m \u001B[0mdefault\u001B[0m\u001B[1;33m\u001B[0m\u001B[1;33m\u001B[0m\u001B[0m\n",
      "\u001B[1;32m~\\anaconda3\\lib\\site-packages\\pandas\\core\\indexes\\base.py\u001B[0m in \u001B[0;36mdrop\u001B[1;34m(self, labels, errors)\u001B[0m\n\u001B[0;32m   6659\u001B[0m         \u001B[1;33m-\u001B[0m\u001B[1;33m-\u001B[0m\u001B[1;33m-\u001B[0m\u001B[1;33m-\u001B[0m\u001B[1;33m-\u001B[0m\u001B[1;33m-\u001B[0m\u001B[1;33m-\u001B[0m\u001B[1;33m\u001B[0m\u001B[1;33m\u001B[0m\u001B[0m\n\u001B[0;32m   6660\u001B[0m         \u001B[0mint\u001B[0m\u001B[1;33m\u001B[0m\u001B[1;33m\u001B[0m\u001B[0m\n\u001B[1;32m-> 6661\u001B[1;33m             \u001B[0mIndex\u001B[0m \u001B[0mof\u001B[0m \u001B[0mlabel\u001B[0m\u001B[1;33m.\u001B[0m\u001B[1;33m\u001B[0m\u001B[1;33m\u001B[0m\u001B[0m\n\u001B[0m\u001B[0;32m   6662\u001B[0m         \"\"\"\n\u001B[0;32m   6663\u001B[0m         \u001B[1;32massert\u001B[0m \u001B[0mkind\u001B[0m \u001B[1;32min\u001B[0m \u001B[1;33m[\u001B[0m\u001B[1;34m\"loc\"\u001B[0m\u001B[1;33m,\u001B[0m \u001B[1;34m\"getitem\"\u001B[0m\u001B[1;33m,\u001B[0m \u001B[1;32mNone\u001B[0m\u001B[1;33m,\u001B[0m \u001B[0mno_default\u001B[0m\u001B[1;33m]\u001B[0m\u001B[1;33m\u001B[0m\u001B[1;33m\u001B[0m\u001B[0m\n",
      "\u001B[1;31mKeyError\u001B[0m: \"['is_canceled'] not found in axis\""
     ]
    }
   ],
   "source": [
    "nominal_cat_data = nominal_cat_data.drop(['is_canceled'], axis=1)"
   ],
   "metadata": {
    "collapsed": false
   }
  },
  {
   "cell_type": "code",
   "execution_count": 660,
   "outputs": [],
   "source": [
    "nominal_cat_data = nominal_cat_data.drop(['reservation_status'], axis=1)"
   ],
   "metadata": {
    "collapsed": false
   }
  },
  {
   "cell_type": "code",
   "execution_count": 661,
   "outputs": [
    {
     "data": {
      "text/plain": "   hotel_0  hotel_1  country_0  country_1  country_2  country_3  country_4  \\\n0        0        1          0          0          0          0          0   \n1        0        1          0          0          0          0          0   \n2        0        1          0          0          0          0          0   \n3        0        1          0          0          0          0          0   \n4        0        1          0          0          0          0          0   \n\n   country_5  country_6  country_7  ...  company_2  company_3  company_4  \\\n0          0          0          1  ...          0          0          0   \n1          0          0          1  ...          0          0          0   \n2          0          1          0  ...          0          0          0   \n3          0          1          0  ...          0          0          0   \n4          0          1          0  ...          0          0          0   \n\n   company_5  company_6  company_7  company_8  customer_type_0  \\\n0          0          0          0          1                0   \n1          0          0          0          1                0   \n2          0          0          0          1                0   \n3          0          0          0          1                0   \n4          0          0          0          1                0   \n\n   customer_type_1  customer_type_2  \n0                0                1  \n1                0                1  \n2                0                1  \n3                0                1  \n4                0                1  \n\n[5 rows x 37 columns]",
      "text/html": "<div>\n<style scoped>\n    .dataframe tbody tr th:only-of-type {\n        vertical-align: middle;\n    }\n\n    .dataframe tbody tr th {\n        vertical-align: top;\n    }\n\n    .dataframe thead th {\n        text-align: right;\n    }\n</style>\n<table border=\"1\" class=\"dataframe\">\n  <thead>\n    <tr style=\"text-align: right;\">\n      <th></th>\n      <th>hotel_0</th>\n      <th>hotel_1</th>\n      <th>country_0</th>\n      <th>country_1</th>\n      <th>country_2</th>\n      <th>country_3</th>\n      <th>country_4</th>\n      <th>country_5</th>\n      <th>country_6</th>\n      <th>country_7</th>\n      <th>...</th>\n      <th>company_2</th>\n      <th>company_3</th>\n      <th>company_4</th>\n      <th>company_5</th>\n      <th>company_6</th>\n      <th>company_7</th>\n      <th>company_8</th>\n      <th>customer_type_0</th>\n      <th>customer_type_1</th>\n      <th>customer_type_2</th>\n    </tr>\n  </thead>\n  <tbody>\n    <tr>\n      <th>0</th>\n      <td>0</td>\n      <td>1</td>\n      <td>0</td>\n      <td>0</td>\n      <td>0</td>\n      <td>0</td>\n      <td>0</td>\n      <td>0</td>\n      <td>0</td>\n      <td>1</td>\n      <td>...</td>\n      <td>0</td>\n      <td>0</td>\n      <td>0</td>\n      <td>0</td>\n      <td>0</td>\n      <td>0</td>\n      <td>1</td>\n      <td>0</td>\n      <td>0</td>\n      <td>1</td>\n    </tr>\n    <tr>\n      <th>1</th>\n      <td>0</td>\n      <td>1</td>\n      <td>0</td>\n      <td>0</td>\n      <td>0</td>\n      <td>0</td>\n      <td>0</td>\n      <td>0</td>\n      <td>0</td>\n      <td>1</td>\n      <td>...</td>\n      <td>0</td>\n      <td>0</td>\n      <td>0</td>\n      <td>0</td>\n      <td>0</td>\n      <td>0</td>\n      <td>1</td>\n      <td>0</td>\n      <td>0</td>\n      <td>1</td>\n    </tr>\n    <tr>\n      <th>2</th>\n      <td>0</td>\n      <td>1</td>\n      <td>0</td>\n      <td>0</td>\n      <td>0</td>\n      <td>0</td>\n      <td>0</td>\n      <td>0</td>\n      <td>1</td>\n      <td>0</td>\n      <td>...</td>\n      <td>0</td>\n      <td>0</td>\n      <td>0</td>\n      <td>0</td>\n      <td>0</td>\n      <td>0</td>\n      <td>1</td>\n      <td>0</td>\n      <td>0</td>\n      <td>1</td>\n    </tr>\n    <tr>\n      <th>3</th>\n      <td>0</td>\n      <td>1</td>\n      <td>0</td>\n      <td>0</td>\n      <td>0</td>\n      <td>0</td>\n      <td>0</td>\n      <td>0</td>\n      <td>1</td>\n      <td>0</td>\n      <td>...</td>\n      <td>0</td>\n      <td>0</td>\n      <td>0</td>\n      <td>0</td>\n      <td>0</td>\n      <td>0</td>\n      <td>1</td>\n      <td>0</td>\n      <td>0</td>\n      <td>1</td>\n    </tr>\n    <tr>\n      <th>4</th>\n      <td>0</td>\n      <td>1</td>\n      <td>0</td>\n      <td>0</td>\n      <td>0</td>\n      <td>0</td>\n      <td>0</td>\n      <td>0</td>\n      <td>1</td>\n      <td>0</td>\n      <td>...</td>\n      <td>0</td>\n      <td>0</td>\n      <td>0</td>\n      <td>0</td>\n      <td>0</td>\n      <td>0</td>\n      <td>1</td>\n      <td>0</td>\n      <td>0</td>\n      <td>1</td>\n    </tr>\n  </tbody>\n</table>\n<p>5 rows × 37 columns</p>\n</div>"
     },
     "execution_count": 661,
     "metadata": {},
     "output_type": "execute_result"
    }
   ],
   "source": [
    "from category_encoders import BinaryEncoder\n",
    "bin_encoder = BinaryEncoder(nominal_cat_data.columns)\n",
    "nominal_cat_data_bin_encoded = bin_encoder.fit_transform(nominal_cat_data.copy())\n",
    "nominal_cat_data_bin_encoded.head()"
   ],
   "metadata": {
    "collapsed": false
   }
  },
  {
   "cell_type": "code",
   "execution_count": 662,
   "outputs": [
    {
     "ename": "KeyError",
     "evalue": "\"['is_canceled'] not found in axis\"",
     "output_type": "error",
     "traceback": [
      "\u001B[1;31m---------------------------------------------------------------------------\u001B[0m",
      "\u001B[1;31mKeyError\u001B[0m                                  Traceback (most recent call last)",
      "\u001B[1;32m~\\AppData\\Local\\Temp\\ipykernel_39316\\3412628804.py\u001B[0m in \u001B[0;36m<module>\u001B[1;34m\u001B[0m\n\u001B[1;32m----> 1\u001B[1;33m \u001B[0mordinal_data\u001B[0m \u001B[1;33m=\u001B[0m \u001B[0mordinal_data\u001B[0m\u001B[1;33m.\u001B[0m\u001B[0mdrop\u001B[0m\u001B[1;33m(\u001B[0m\u001B[1;34m'is_canceled'\u001B[0m\u001B[1;33m,\u001B[0m \u001B[0maxis\u001B[0m\u001B[1;33m=\u001B[0m\u001B[1;36m1\u001B[0m\u001B[1;33m)\u001B[0m\u001B[1;33m\u001B[0m\u001B[1;33m\u001B[0m\u001B[0m\n\u001B[0m",
      "\u001B[1;32m~\\anaconda3\\lib\\site-packages\\pandas\\util\\_decorators.py\u001B[0m in \u001B[0;36mwrapper\u001B[1;34m(*args, **kwargs)\u001B[0m\n\u001B[0;32m    309\u001B[0m                 \u001B[1;32mand\u001B[0m \u001B[0mp\u001B[0m\u001B[1;33m.\u001B[0m\u001B[0mname\u001B[0m \u001B[1;32mnot\u001B[0m \u001B[1;32min\u001B[0m \u001B[0mallow_args\u001B[0m\u001B[1;33m\u001B[0m\u001B[1;33m\u001B[0m\u001B[0m\n\u001B[0;32m    310\u001B[0m             )\n\u001B[1;32m--> 311\u001B[1;33m             \u001B[1;32melse\u001B[0m \u001B[0mp\u001B[0m\u001B[1;33m\u001B[0m\u001B[1;33m\u001B[0m\u001B[0m\n\u001B[0m\u001B[0;32m    312\u001B[0m             \u001B[1;32mfor\u001B[0m \u001B[0mp\u001B[0m \u001B[1;32min\u001B[0m \u001B[0mold_sig\u001B[0m\u001B[1;33m.\u001B[0m\u001B[0mparameters\u001B[0m\u001B[1;33m.\u001B[0m\u001B[0mvalues\u001B[0m\u001B[1;33m(\u001B[0m\u001B[1;33m)\u001B[0m\u001B[1;33m\u001B[0m\u001B[1;33m\u001B[0m\u001B[0m\n\u001B[0;32m    313\u001B[0m         ]\n",
      "\u001B[1;32m~\\anaconda3\\lib\\site-packages\\pandas\\core\\frame.py\u001B[0m in \u001B[0;36mdrop\u001B[1;34m(self, labels, axis, index, columns, level, inplace, errors)\u001B[0m\n\u001B[0;32m   4955\u001B[0m             \u001B[1;34m\"The 'lookup' method is deprecated and will be \"\u001B[0m\u001B[1;33m\u001B[0m\u001B[1;33m\u001B[0m\u001B[0m\n\u001B[0;32m   4956\u001B[0m             \u001B[1;34m\"removed in a future version. \"\u001B[0m\u001B[1;33m\u001B[0m\u001B[1;33m\u001B[0m\u001B[0m\n\u001B[1;32m-> 4957\u001B[1;33m             \u001B[1;34m\"You can use DataFrame.melt and DataFrame.loc \"\u001B[0m\u001B[1;33m\u001B[0m\u001B[1;33m\u001B[0m\u001B[0m\n\u001B[0m\u001B[0;32m   4958\u001B[0m             \u001B[1;34m\"as a substitute.\"\u001B[0m\u001B[1;33m\u001B[0m\u001B[1;33m\u001B[0m\u001B[0m\n\u001B[0;32m   4959\u001B[0m         )\n",
      "\u001B[1;32m~\\anaconda3\\lib\\site-packages\\pandas\\core\\generic.py\u001B[0m in \u001B[0;36mdrop\u001B[1;34m(self, labels, axis, index, columns, level, inplace, errors)\u001B[0m\n\u001B[0;32m   4265\u001B[0m         \"\"\"\n\u001B[0;32m   4266\u001B[0m         \u001B[0mGet\u001B[0m \u001B[0mitem\u001B[0m \u001B[1;32mfrom\u001B[0m \u001B[0mobject\u001B[0m \u001B[1;32mfor\u001B[0m \u001B[0mgiven\u001B[0m \u001B[0mkey\u001B[0m \u001B[1;33m(\u001B[0m\u001B[0mex\u001B[0m\u001B[1;33m:\u001B[0m \u001B[0mDataFrame\u001B[0m \u001B[0mcolumn\u001B[0m\u001B[1;33m)\u001B[0m\u001B[1;33m.\u001B[0m\u001B[1;33m\u001B[0m\u001B[1;33m\u001B[0m\u001B[0m\n\u001B[1;32m-> 4267\u001B[1;33m \u001B[1;33m\u001B[0m\u001B[0m\n\u001B[0m\u001B[0;32m   4268\u001B[0m         \u001B[0mReturns\u001B[0m \u001B[0mdefault\u001B[0m \u001B[0mvalue\u001B[0m \u001B[1;32mif\u001B[0m \u001B[1;32mnot\u001B[0m \u001B[0mfound\u001B[0m\u001B[1;33m.\u001B[0m\u001B[1;33m\u001B[0m\u001B[1;33m\u001B[0m\u001B[0m\n\u001B[0;32m   4269\u001B[0m \u001B[1;33m\u001B[0m\u001B[0m\n",
      "\u001B[1;32m~\\anaconda3\\lib\\site-packages\\pandas\\core\\generic.py\u001B[0m in \u001B[0;36m_drop_axis\u001B[1;34m(self, labels, axis, level, errors, consolidate, only_slice)\u001B[0m\n\u001B[0;32m   4309\u001B[0m         \"\"\"\n\u001B[0;32m   4310\u001B[0m         \u001B[1;32mtry\u001B[0m\u001B[1;33m:\u001B[0m\u001B[1;33m\u001B[0m\u001B[1;33m\u001B[0m\u001B[0m\n\u001B[1;32m-> 4311\u001B[1;33m             \u001B[1;32mreturn\u001B[0m \u001B[0mself\u001B[0m\u001B[1;33m[\u001B[0m\u001B[0mkey\u001B[0m\u001B[1;33m]\u001B[0m\u001B[1;33m\u001B[0m\u001B[1;33m\u001B[0m\u001B[0m\n\u001B[0m\u001B[0;32m   4312\u001B[0m         \u001B[1;32mexcept\u001B[0m \u001B[1;33m(\u001B[0m\u001B[0mKeyError\u001B[0m\u001B[1;33m,\u001B[0m \u001B[0mValueError\u001B[0m\u001B[1;33m,\u001B[0m \u001B[0mIndexError\u001B[0m\u001B[1;33m)\u001B[0m\u001B[1;33m:\u001B[0m\u001B[1;33m\u001B[0m\u001B[1;33m\u001B[0m\u001B[0m\n\u001B[0;32m   4313\u001B[0m             \u001B[1;32mreturn\u001B[0m \u001B[0mdefault\u001B[0m\u001B[1;33m\u001B[0m\u001B[1;33m\u001B[0m\u001B[0m\n",
      "\u001B[1;32m~\\anaconda3\\lib\\site-packages\\pandas\\core\\indexes\\base.py\u001B[0m in \u001B[0;36mdrop\u001B[1;34m(self, labels, errors)\u001B[0m\n\u001B[0;32m   6659\u001B[0m         \u001B[1;33m-\u001B[0m\u001B[1;33m-\u001B[0m\u001B[1;33m-\u001B[0m\u001B[1;33m-\u001B[0m\u001B[1;33m-\u001B[0m\u001B[1;33m-\u001B[0m\u001B[1;33m-\u001B[0m\u001B[1;33m\u001B[0m\u001B[1;33m\u001B[0m\u001B[0m\n\u001B[0;32m   6660\u001B[0m         \u001B[0mint\u001B[0m\u001B[1;33m\u001B[0m\u001B[1;33m\u001B[0m\u001B[0m\n\u001B[1;32m-> 6661\u001B[1;33m             \u001B[0mIndex\u001B[0m \u001B[0mof\u001B[0m \u001B[0mlabel\u001B[0m\u001B[1;33m.\u001B[0m\u001B[1;33m\u001B[0m\u001B[1;33m\u001B[0m\u001B[0m\n\u001B[0m\u001B[0;32m   6662\u001B[0m         \"\"\"\n\u001B[0;32m   6663\u001B[0m         \u001B[1;32massert\u001B[0m \u001B[0mkind\u001B[0m \u001B[1;32min\u001B[0m \u001B[1;33m[\u001B[0m\u001B[1;34m\"loc\"\u001B[0m\u001B[1;33m,\u001B[0m \u001B[1;34m\"getitem\"\u001B[0m\u001B[1;33m,\u001B[0m \u001B[1;32mNone\u001B[0m\u001B[1;33m,\u001B[0m \u001B[0mno_default\u001B[0m\u001B[1;33m]\u001B[0m\u001B[1;33m\u001B[0m\u001B[1;33m\u001B[0m\u001B[0m\n",
      "\u001B[1;31mKeyError\u001B[0m: \"['is_canceled'] not found in axis\""
     ]
    }
   ],
   "source": [
    "ordinal_data = ordinal_data.drop('is_canceled', axis=1)"
   ],
   "metadata": {
    "collapsed": false
   }
  },
  {
   "cell_type": "code",
   "execution_count": 663,
   "outputs": [],
   "source": [
    "encoded_data_v2 = pd.concat([numerical_data, ordinal_data, nominal_cat_data_bin_encoded], axis=1)\n",
    "encoded_data_v2.to_parquet('encoded_data_v2.parquet.gzip', compression='gzip', index=False)"
   ],
   "metadata": {
    "collapsed": false
   }
  },
  {
   "cell_type": "code",
   "execution_count": 669,
   "outputs": [],
   "source": [],
   "metadata": {
    "collapsed": false
   }
  },
  {
   "cell_type": "markdown",
   "source": [
    "# DO ASSOCIATION RULES ON CAT DATA BEFORE ENCODING FML\n",
    "# TODO: Association Rules for clustering categorical and boolean data"
   ],
   "metadata": {
    "collapsed": false
   }
  },
  {
   "cell_type": "code",
   "execution_count": 677,
   "outputs": [
    {
     "data": {
      "text/plain": "          hotel country market_segment distribution_channel  agent company  \\\n0  Resort Hotel     PRT         Direct               Direct    0.0     0.0   \n1  Resort Hotel     PRT         Direct               Direct    0.0     0.0   \n2  Resort Hotel     GBR         Direct               Direct    0.0     0.0   \n3  Resort Hotel     GBR      Corporate            Corporate  304.0     0.0   \n4  Resort Hotel     GBR      Online TA                TA/TO  240.0     0.0   \n\n  customer_type meal reserved_room_type assigned_room_type deposit_type  \n0     Transient   BB                  C                  C   No Deposit  \n1     Transient   BB                  C                  C   No Deposit  \n2     Transient   BB                  A                  C   No Deposit  \n3     Transient   BB                  A                  A   No Deposit  \n4     Transient   BB                  A                  A   No Deposit  ",
      "text/html": "<div>\n<style scoped>\n    .dataframe tbody tr th:only-of-type {\n        vertical-align: middle;\n    }\n\n    .dataframe tbody tr th {\n        vertical-align: top;\n    }\n\n    .dataframe thead th {\n        text-align: right;\n    }\n</style>\n<table border=\"1\" class=\"dataframe\">\n  <thead>\n    <tr style=\"text-align: right;\">\n      <th></th>\n      <th>hotel</th>\n      <th>country</th>\n      <th>market_segment</th>\n      <th>distribution_channel</th>\n      <th>agent</th>\n      <th>company</th>\n      <th>customer_type</th>\n      <th>meal</th>\n      <th>reserved_room_type</th>\n      <th>assigned_room_type</th>\n      <th>deposit_type</th>\n    </tr>\n  </thead>\n  <tbody>\n    <tr>\n      <th>0</th>\n      <td>Resort Hotel</td>\n      <td>PRT</td>\n      <td>Direct</td>\n      <td>Direct</td>\n      <td>0.0</td>\n      <td>0.0</td>\n      <td>Transient</td>\n      <td>BB</td>\n      <td>C</td>\n      <td>C</td>\n      <td>No Deposit</td>\n    </tr>\n    <tr>\n      <th>1</th>\n      <td>Resort Hotel</td>\n      <td>PRT</td>\n      <td>Direct</td>\n      <td>Direct</td>\n      <td>0.0</td>\n      <td>0.0</td>\n      <td>Transient</td>\n      <td>BB</td>\n      <td>C</td>\n      <td>C</td>\n      <td>No Deposit</td>\n    </tr>\n    <tr>\n      <th>2</th>\n      <td>Resort Hotel</td>\n      <td>GBR</td>\n      <td>Direct</td>\n      <td>Direct</td>\n      <td>0.0</td>\n      <td>0.0</td>\n      <td>Transient</td>\n      <td>BB</td>\n      <td>A</td>\n      <td>C</td>\n      <td>No Deposit</td>\n    </tr>\n    <tr>\n      <th>3</th>\n      <td>Resort Hotel</td>\n      <td>GBR</td>\n      <td>Corporate</td>\n      <td>Corporate</td>\n      <td>304.0</td>\n      <td>0.0</td>\n      <td>Transient</td>\n      <td>BB</td>\n      <td>A</td>\n      <td>A</td>\n      <td>No Deposit</td>\n    </tr>\n    <tr>\n      <th>4</th>\n      <td>Resort Hotel</td>\n      <td>GBR</td>\n      <td>Online TA</td>\n      <td>TA/TO</td>\n      <td>240.0</td>\n      <td>0.0</td>\n      <td>Transient</td>\n      <td>BB</td>\n      <td>A</td>\n      <td>A</td>\n      <td>No Deposit</td>\n    </tr>\n  </tbody>\n</table>\n</div>"
     },
     "execution_count": 677,
     "metadata": {},
     "output_type": "execute_result"
    }
   ],
   "source": [
    "# dummy encoding the categorical data\n",
    "cat_combined_for_assoc_rules = pd.concat([nominal_cat_data, ordinal_data], axis=1)\n",
    "cat_combined_for_assoc_rules.head()"
   ],
   "metadata": {
    "collapsed": false
   }
  },
  {
   "cell_type": "code",
   "execution_count": 679,
   "outputs": [],
   "source": [
    "one_hot_cat = pd.get_dummies(cat_combined_for_assoc_rules)\n",
    "one_hot_cat['is_canceled'] = data.is_canceled.copy()\n",
    "one_hot_cat = one_hot_cat.applymap(bool)"
   ],
   "metadata": {
    "collapsed": false
   }
  },
  {
   "cell_type": "code",
   "execution_count": 684,
   "outputs": [
    {
     "data": {
      "text/plain": "                                              antecedents  \\\n202245  (market_segment_Online TA, assigned_room_type_...   \n202254  (distribution_channel_TA/TO, reserved_room_typ...   \n434450  (market_segment_Online TA, deposit_type_No Dep...   \n434485  (distribution_channel_TA/TO, reserved_room_typ...   \n434465  (distribution_channel_TA/TO, reserved_room_typ...   \n434473  (market_segment_Online TA, assigned_room_type_...   \n66236   (distribution_channel_TA/TO, reserved_room_typ...   \n202262  (distribution_channel_TA/TO, reserved_room_typ...   \n66226   (market_segment_Online TA, assigned_room_type_...   \n202235  (market_segment_Online TA, company_0.0, assign...   \n\n                                              consequents  antecedent support  \\\n202245  (distribution_channel_TA/TO, reserved_room_typ...            0.010931   \n202254  (market_segment_Online TA, assigned_room_type_...            0.012522   \n434450  (distribution_channel_TA/TO, reserved_room_typ...            0.010922   \n434485  (market_segment_Online TA, deposit_type_No Dep...            0.012522   \n434465  (market_segment_Online TA, assigned_room_type_...            0.012514   \n434473  (distribution_channel_TA/TO, reserved_room_typ...            0.010931   \n66236   (market_segment_Online TA, assigned_room_type_...            0.012530   \n202262  (market_segment_Online TA, company_0.0, assign...            0.012530   \n66226   (distribution_channel_TA/TO, reserved_room_typ...            0.010931   \n202235  (distribution_channel_TA/TO, reserved_room_typ...            0.010931   \n\n        consequent support   support  confidence       lift  leverage  \\\n202245            0.012522  0.010018    0.916475  73.189272  0.009881   \n202254            0.010931  0.010018    0.800000  73.189272  0.009881   \n434450            0.012522  0.010009    0.916411  73.184157  0.009872   \n434485            0.010922  0.010009    0.799331  73.184157  0.009872   \n434465            0.010931  0.010009    0.799866  73.177025  0.009872   \n434473            0.012514  0.010009    0.915709  73.177025  0.009872   \n66236             0.010931  0.010018    0.799465  73.140349  0.009881   \n202262            0.010931  0.010018    0.799465  73.140349  0.009881   \n66226             0.012530  0.010018    0.916475  73.140349  0.009881   \n202235            0.012530  0.010018    0.916475  73.140349  0.009881   \n\n        conviction  \n202245   11.822558  \n202254    4.945347  \n434450   11.813498  \n434485    4.928904  \n434465    4.942039  \n434473   11.715179  \n66236     4.932160  \n202262    4.932160  \n66226    11.822458  \n202235   11.822458  ",
      "text/html": "<div>\n<style scoped>\n    .dataframe tbody tr th:only-of-type {\n        vertical-align: middle;\n    }\n\n    .dataframe tbody tr th {\n        vertical-align: top;\n    }\n\n    .dataframe thead th {\n        text-align: right;\n    }\n</style>\n<table border=\"1\" class=\"dataframe\">\n  <thead>\n    <tr style=\"text-align: right;\">\n      <th></th>\n      <th>antecedents</th>\n      <th>consequents</th>\n      <th>antecedent support</th>\n      <th>consequent support</th>\n      <th>support</th>\n      <th>confidence</th>\n      <th>lift</th>\n      <th>leverage</th>\n      <th>conviction</th>\n    </tr>\n  </thead>\n  <tbody>\n    <tr>\n      <th>202245</th>\n      <td>(market_segment_Online TA, assigned_room_type_...</td>\n      <td>(distribution_channel_TA/TO, reserved_room_typ...</td>\n      <td>0.010931</td>\n      <td>0.012522</td>\n      <td>0.010018</td>\n      <td>0.916475</td>\n      <td>73.189272</td>\n      <td>0.009881</td>\n      <td>11.822558</td>\n    </tr>\n    <tr>\n      <th>202254</th>\n      <td>(distribution_channel_TA/TO, reserved_room_typ...</td>\n      <td>(market_segment_Online TA, assigned_room_type_...</td>\n      <td>0.012522</td>\n      <td>0.010931</td>\n      <td>0.010018</td>\n      <td>0.800000</td>\n      <td>73.189272</td>\n      <td>0.009881</td>\n      <td>4.945347</td>\n    </tr>\n    <tr>\n      <th>434450</th>\n      <td>(market_segment_Online TA, deposit_type_No Dep...</td>\n      <td>(distribution_channel_TA/TO, reserved_room_typ...</td>\n      <td>0.010922</td>\n      <td>0.012522</td>\n      <td>0.010009</td>\n      <td>0.916411</td>\n      <td>73.184157</td>\n      <td>0.009872</td>\n      <td>11.813498</td>\n    </tr>\n    <tr>\n      <th>434485</th>\n      <td>(distribution_channel_TA/TO, reserved_room_typ...</td>\n      <td>(market_segment_Online TA, deposit_type_No Dep...</td>\n      <td>0.012522</td>\n      <td>0.010922</td>\n      <td>0.010009</td>\n      <td>0.799331</td>\n      <td>73.184157</td>\n      <td>0.009872</td>\n      <td>4.928904</td>\n    </tr>\n    <tr>\n      <th>434465</th>\n      <td>(distribution_channel_TA/TO, reserved_room_typ...</td>\n      <td>(market_segment_Online TA, assigned_room_type_...</td>\n      <td>0.012514</td>\n      <td>0.010931</td>\n      <td>0.010009</td>\n      <td>0.799866</td>\n      <td>73.177025</td>\n      <td>0.009872</td>\n      <td>4.942039</td>\n    </tr>\n    <tr>\n      <th>434473</th>\n      <td>(market_segment_Online TA, assigned_room_type_...</td>\n      <td>(distribution_channel_TA/TO, reserved_room_typ...</td>\n      <td>0.010931</td>\n      <td>0.012514</td>\n      <td>0.010009</td>\n      <td>0.915709</td>\n      <td>73.177025</td>\n      <td>0.009872</td>\n      <td>11.715179</td>\n    </tr>\n    <tr>\n      <th>66236</th>\n      <td>(distribution_channel_TA/TO, reserved_room_typ...</td>\n      <td>(market_segment_Online TA, assigned_room_type_...</td>\n      <td>0.012530</td>\n      <td>0.010931</td>\n      <td>0.010018</td>\n      <td>0.799465</td>\n      <td>73.140349</td>\n      <td>0.009881</td>\n      <td>4.932160</td>\n    </tr>\n    <tr>\n      <th>202262</th>\n      <td>(distribution_channel_TA/TO, reserved_room_typ...</td>\n      <td>(market_segment_Online TA, company_0.0, assign...</td>\n      <td>0.012530</td>\n      <td>0.010931</td>\n      <td>0.010018</td>\n      <td>0.799465</td>\n      <td>73.140349</td>\n      <td>0.009881</td>\n      <td>4.932160</td>\n    </tr>\n    <tr>\n      <th>66226</th>\n      <td>(market_segment_Online TA, assigned_room_type_...</td>\n      <td>(distribution_channel_TA/TO, reserved_room_typ...</td>\n      <td>0.010931</td>\n      <td>0.012530</td>\n      <td>0.010018</td>\n      <td>0.916475</td>\n      <td>73.140349</td>\n      <td>0.009881</td>\n      <td>11.822458</td>\n    </tr>\n    <tr>\n      <th>202235</th>\n      <td>(market_segment_Online TA, company_0.0, assign...</td>\n      <td>(distribution_channel_TA/TO, reserved_room_typ...</td>\n      <td>0.010931</td>\n      <td>0.012530</td>\n      <td>0.010018</td>\n      <td>0.916475</td>\n      <td>73.140349</td>\n      <td>0.009881</td>\n      <td>11.822458</td>\n    </tr>\n  </tbody>\n</table>\n</div>"
     },
     "execution_count": 684,
     "metadata": {},
     "output_type": "execute_result"
    }
   ],
   "source": [
    "# Association rules\n",
    "from mlxtend.frequent_patterns import apriori, association_rules\n",
    "# find frequent itemsets\n",
    "frequent_itemsets = apriori(one_hot_cat, min_support=0.01, use_colnames=True)\n",
    "# generate association rules\n",
    "rules = association_rules(frequent_itemsets, metric='confidence', min_threshold=0.5)\n",
    "# display top 10 rules\n",
    "rules.sort_values(by='lift', ascending=False).head(10)"
   ],
   "metadata": {
    "collapsed": false
   }
  },
  {
   "cell_type": "code",
   "execution_count": 823,
   "outputs": [
    {
     "data": {
      "text/plain": "                                               antecedents    consequents  \\\n1020110  (assigned_room_type_A, country_PRT, distributi...  (is_canceled)   \n184818   (meal_BB, hotel_City Hotel, deposit_type_Non R...  (is_canceled)   \n190013   (meal_HB, assigned_room_type_A, hotel_City Hot...  (is_canceled)   \n189997   (meal_HB, hotel_City Hotel, deposit_type_Non R...  (is_canceled)   \n583962   (assigned_room_type_A, country_PRT, hotel_City...  (is_canceled)   \n...                                                    ...            ...   \n590019   (market_segment_Offline TA/TO, country_PRT, di...  (is_canceled)   \n87706    (country_PRT, distribution_channel_TA/TO, cust...  (is_canceled)   \n195773   (country_PRT, distribution_channel_TA/TO, hote...  (is_canceled)   \n736079   (market_segment_Offline TA/TO, assigned_room_t...  (is_canceled)   \n240301   (assigned_room_type_A, market_segment_Online T...  (is_canceled)   \n\n         antecedent support  consequent support   support  confidence  \\\n1020110            0.021878            0.370416  0.021878    1.000000   \n184818             0.030924            0.370416  0.030924    1.000000   \n190013             0.010001            0.370416  0.010001    1.000000   \n189997             0.010001            0.370416  0.010001    1.000000   \n583962             0.033026            0.370416  0.033026    1.000000   \n...                     ...                 ...       ...         ...   \n590019             0.028294            0.370416  0.014155    0.500296   \n87706              0.039275            0.370416  0.019642    0.500107   \n195773             0.039275            0.370416  0.019642    0.500107   \n736079             0.040355            0.370416  0.020178    0.500000   \n240301             0.052148            0.370416  0.026074    0.500000   \n\n             lift  leverage  conviction  \n1020110  2.699665  0.013774         inf  \n184818   2.699665  0.019469         inf  \n190013   2.699665  0.006296         inf  \n189997   2.699665  0.006296         inf  \n583962   2.699665  0.020793         inf  \n...           ...       ...         ...  \n590019   1.350632  0.003675    1.259913  \n87706    1.350121  0.005094    1.259436  \n195773   1.350121  0.005094    1.259436  \n736079   1.349833  0.005229    1.259167  \n240301   1.349833  0.006758    1.259167  \n\n[4058 rows x 9 columns]",
      "text/html": "<div>\n<style scoped>\n    .dataframe tbody tr th:only-of-type {\n        vertical-align: middle;\n    }\n\n    .dataframe tbody tr th {\n        vertical-align: top;\n    }\n\n    .dataframe thead th {\n        text-align: right;\n    }\n</style>\n<table border=\"1\" class=\"dataframe\">\n  <thead>\n    <tr style=\"text-align: right;\">\n      <th></th>\n      <th>antecedents</th>\n      <th>consequents</th>\n      <th>antecedent support</th>\n      <th>consequent support</th>\n      <th>support</th>\n      <th>confidence</th>\n      <th>lift</th>\n      <th>leverage</th>\n      <th>conviction</th>\n    </tr>\n  </thead>\n  <tbody>\n    <tr>\n      <th>1020110</th>\n      <td>(assigned_room_type_A, country_PRT, distributi...</td>\n      <td>(is_canceled)</td>\n      <td>0.021878</td>\n      <td>0.370416</td>\n      <td>0.021878</td>\n      <td>1.000000</td>\n      <td>2.699665</td>\n      <td>0.013774</td>\n      <td>inf</td>\n    </tr>\n    <tr>\n      <th>184818</th>\n      <td>(meal_BB, hotel_City Hotel, deposit_type_Non R...</td>\n      <td>(is_canceled)</td>\n      <td>0.030924</td>\n      <td>0.370416</td>\n      <td>0.030924</td>\n      <td>1.000000</td>\n      <td>2.699665</td>\n      <td>0.019469</td>\n      <td>inf</td>\n    </tr>\n    <tr>\n      <th>190013</th>\n      <td>(meal_HB, assigned_room_type_A, hotel_City Hot...</td>\n      <td>(is_canceled)</td>\n      <td>0.010001</td>\n      <td>0.370416</td>\n      <td>0.010001</td>\n      <td>1.000000</td>\n      <td>2.699665</td>\n      <td>0.006296</td>\n      <td>inf</td>\n    </tr>\n    <tr>\n      <th>189997</th>\n      <td>(meal_HB, hotel_City Hotel, deposit_type_Non R...</td>\n      <td>(is_canceled)</td>\n      <td>0.010001</td>\n      <td>0.370416</td>\n      <td>0.010001</td>\n      <td>1.000000</td>\n      <td>2.699665</td>\n      <td>0.006296</td>\n      <td>inf</td>\n    </tr>\n    <tr>\n      <th>583962</th>\n      <td>(assigned_room_type_A, country_PRT, hotel_City...</td>\n      <td>(is_canceled)</td>\n      <td>0.033026</td>\n      <td>0.370416</td>\n      <td>0.033026</td>\n      <td>1.000000</td>\n      <td>2.699665</td>\n      <td>0.020793</td>\n      <td>inf</td>\n    </tr>\n    <tr>\n      <th>...</th>\n      <td>...</td>\n      <td>...</td>\n      <td>...</td>\n      <td>...</td>\n      <td>...</td>\n      <td>...</td>\n      <td>...</td>\n      <td>...</td>\n      <td>...</td>\n    </tr>\n    <tr>\n      <th>590019</th>\n      <td>(market_segment_Offline TA/TO, country_PRT, di...</td>\n      <td>(is_canceled)</td>\n      <td>0.028294</td>\n      <td>0.370416</td>\n      <td>0.014155</td>\n      <td>0.500296</td>\n      <td>1.350632</td>\n      <td>0.003675</td>\n      <td>1.259913</td>\n    </tr>\n    <tr>\n      <th>87706</th>\n      <td>(country_PRT, distribution_channel_TA/TO, cust...</td>\n      <td>(is_canceled)</td>\n      <td>0.039275</td>\n      <td>0.370416</td>\n      <td>0.019642</td>\n      <td>0.500107</td>\n      <td>1.350121</td>\n      <td>0.005094</td>\n      <td>1.259436</td>\n    </tr>\n    <tr>\n      <th>195773</th>\n      <td>(country_PRT, distribution_channel_TA/TO, hote...</td>\n      <td>(is_canceled)</td>\n      <td>0.039275</td>\n      <td>0.370416</td>\n      <td>0.019642</td>\n      <td>0.500107</td>\n      <td>1.350121</td>\n      <td>0.005094</td>\n      <td>1.259436</td>\n    </tr>\n    <tr>\n      <th>736079</th>\n      <td>(market_segment_Offline TA/TO, assigned_room_t...</td>\n      <td>(is_canceled)</td>\n      <td>0.040355</td>\n      <td>0.370416</td>\n      <td>0.020178</td>\n      <td>0.500000</td>\n      <td>1.349833</td>\n      <td>0.005229</td>\n      <td>1.259167</td>\n    </tr>\n    <tr>\n      <th>240301</th>\n      <td>(assigned_room_type_A, market_segment_Online T...</td>\n      <td>(is_canceled)</td>\n      <td>0.052148</td>\n      <td>0.370416</td>\n      <td>0.026074</td>\n      <td>0.500000</td>\n      <td>1.349833</td>\n      <td>0.006758</td>\n      <td>1.259167</td>\n    </tr>\n  </tbody>\n</table>\n<p>4058 rows × 9 columns</p>\n</div>"
     },
     "execution_count": 823,
     "metadata": {},
     "output_type": "execute_result"
    }
   ],
   "source": [
    "filtered_rules = rules[rules['consequents'].apply(lambda x: str(x) == \"frozenset({'is_canceled'})\")]\n",
    "filtered_rules.sort_values(by = 'lift', ascending=False)"
   ],
   "metadata": {
    "collapsed": false
   }
  },
  {
   "cell_type": "code",
   "execution_count": 734,
   "outputs": [],
   "source": [
    "filtered_rules_df = pd.DataFrame(filtered_rules.copy())"
   ],
   "metadata": {
    "collapsed": false
   }
  },
  {
   "cell_type": "code",
   "execution_count": 814,
   "outputs": [],
   "source": [
    "import csv\n",
    "with open('output.csv', 'w', newline='') as file:\n",
    "    writer = csv.writer(file, delimiter=',')\n",
    "    writer.writerow(filtered_rules.columns)\n",
    "    writer.writerows(filtered_rules.values)"
   ],
   "metadata": {
    "collapsed": false
   }
  },
  {
   "cell_type": "code",
   "execution_count": 793,
   "outputs": [
    {
     "ename": "TypeError",
     "evalue": "__init__() got an unexpected keyword argument 'line_terminator'",
     "output_type": "error",
     "traceback": [
      "\u001B[1;31m---------------------------------------------------------------------------\u001B[0m",
      "\u001B[1;31mTypeError\u001B[0m                                 Traceback (most recent call last)",
      "\u001B[1;32m~\\AppData\\Local\\Temp\\ipykernel_39316\\2197989306.py\u001B[0m in \u001B[0;36m<module>\u001B[1;34m\u001B[0m\n\u001B[1;32m----> 1\u001B[1;33m \u001B[0mfiltered_rules_df\u001B[0m\u001B[1;33m.\u001B[0m\u001B[0mto_csv\u001B[0m\u001B[1;33m(\u001B[0m\u001B[1;34m'filtered_rules.csv'\u001B[0m\u001B[1;33m,\u001B[0m \u001B[0mline_terminator\u001B[0m\u001B[1;33m=\u001B[0m\u001B[1;34m''\u001B[0m\u001B[1;33m,\u001B[0m \u001B[0mindex\u001B[0m\u001B[1;33m=\u001B[0m\u001B[1;32mFalse\u001B[0m\u001B[1;33m)\u001B[0m\u001B[1;33m\u001B[0m\u001B[1;33m\u001B[0m\u001B[0m\n\u001B[0m",
      "\u001B[1;32m~\\anaconda3\\lib\\site-packages\\pandas\\core\\generic.py\u001B[0m in \u001B[0;36mto_csv\u001B[1;34m(self, path_or_buf, sep, na_rep, float_format, columns, header, index, index_label, mode, encoding, compression, quoting, quotechar, line_terminator, chunksize, date_format, doublequote, escapechar, decimal, errors, storage_options)\u001B[0m\n\u001B[0;32m   3549\u001B[0m         \u001B[0mheader\u001B[0m\u001B[1;33m:\u001B[0m \u001B[0mbool_t\u001B[0m \u001B[1;33m|\u001B[0m \u001B[0mlist\u001B[0m\u001B[1;33m[\u001B[0m\u001B[0mstr\u001B[0m\u001B[1;33m]\u001B[0m \u001B[1;33m=\u001B[0m \u001B[1;32mTrue\u001B[0m\u001B[1;33m,\u001B[0m\u001B[1;33m\u001B[0m\u001B[1;33m\u001B[0m\u001B[0m\n\u001B[0;32m   3550\u001B[0m         \u001B[0mindex\u001B[0m\u001B[1;33m:\u001B[0m \u001B[0mbool_t\u001B[0m \u001B[1;33m=\u001B[0m \u001B[1;32mTrue\u001B[0m\u001B[1;33m,\u001B[0m\u001B[1;33m\u001B[0m\u001B[1;33m\u001B[0m\u001B[0m\n\u001B[1;32m-> 3551\u001B[1;33m         \u001B[0mindex_label\u001B[0m\u001B[1;33m:\u001B[0m \u001B[0mIndexLabel\u001B[0m \u001B[1;33m|\u001B[0m \u001B[1;32mNone\u001B[0m \u001B[1;33m=\u001B[0m \u001B[1;32mNone\u001B[0m\u001B[1;33m,\u001B[0m\u001B[1;33m\u001B[0m\u001B[1;33m\u001B[0m\u001B[0m\n\u001B[0m\u001B[0;32m   3552\u001B[0m         \u001B[0mmode\u001B[0m\u001B[1;33m:\u001B[0m \u001B[0mstr\u001B[0m \u001B[1;33m=\u001B[0m \u001B[1;34m\"w\"\u001B[0m\u001B[1;33m,\u001B[0m\u001B[1;33m\u001B[0m\u001B[1;33m\u001B[0m\u001B[0m\n\u001B[0;32m   3553\u001B[0m         \u001B[0mencoding\u001B[0m\u001B[1;33m:\u001B[0m \u001B[0mstr\u001B[0m \u001B[1;33m|\u001B[0m \u001B[1;32mNone\u001B[0m \u001B[1;33m=\u001B[0m \u001B[1;32mNone\u001B[0m\u001B[1;33m,\u001B[0m\u001B[1;33m\u001B[0m\u001B[1;33m\u001B[0m\u001B[0m\n",
      "\u001B[1;32m~\\anaconda3\\lib\\site-packages\\pandas\\io\\formats\\format.py\u001B[0m in \u001B[0;36mto_csv\u001B[1;34m(self, path_or_buf, encoding, sep, columns, index_label, mode, compression, quoting, quotechar, line_terminator, chunksize, date_format, doublequote, escapechar, errors, storage_options)\u001B[0m\n\u001B[0;32m   1159\u001B[0m         \"\"\"\n\u001B[0;32m   1160\u001B[0m         \u001B[0mRender\u001B[0m \u001B[0mdataframe\u001B[0m \u001B[1;32mas\u001B[0m \u001B[0mcomma\u001B[0m\u001B[1;33m-\u001B[0m\u001B[0mseparated\u001B[0m \u001B[0mfile\u001B[0m\u001B[1;33m.\u001B[0m\u001B[1;33m\u001B[0m\u001B[1;33m\u001B[0m\u001B[0m\n\u001B[1;32m-> 1161\u001B[1;33m         \"\"\"\n\u001B[0m\u001B[0;32m   1162\u001B[0m         \u001B[1;32mfrom\u001B[0m \u001B[0mpandas\u001B[0m\u001B[1;33m.\u001B[0m\u001B[0mio\u001B[0m\u001B[1;33m.\u001B[0m\u001B[0mformats\u001B[0m\u001B[1;33m.\u001B[0m\u001B[0mcsvs\u001B[0m \u001B[1;32mimport\u001B[0m \u001B[0mCSVFormatter\u001B[0m\u001B[1;33m\u001B[0m\u001B[1;33m\u001B[0m\u001B[0m\n\u001B[0;32m   1163\u001B[0m \u001B[1;33m\u001B[0m\u001B[0m\n",
      "\u001B[1;31mTypeError\u001B[0m: __init__() got an unexpected keyword argument 'line_terminator'"
     ]
    }
   ],
   "source": [
    "filtered_rules_df.to_csv('filtered_rules.csv', line_terminator='', index=False)"
   ],
   "metadata": {
    "collapsed": false
   }
  },
  {
   "cell_type": "code",
   "execution_count": 822,
   "outputs": [
    {
     "data": {
      "text/plain": "\"frozenset({'is_canceled'})\""
     },
     "execution_count": 822,
     "metadata": {},
     "output_type": "execute_result"
    }
   ],
   "source": [
    "str(filtered_rules.consequents.iloc[0])"
   ],
   "metadata": {
    "collapsed": false
   }
  },
  {
   "cell_type": "code",
   "execution_count": 825,
   "outputs": [],
   "source": [
    "one_hot_cat_v2 = pd.get_dummies(cat_combined_for_assoc_rules.drop(columns=['country', 'agent', 'company']))\n",
    "one_hot_cat_v2['is_canceled'] = data.is_canceled.copy()\n",
    "one_hot_cat_v2 = one_hot_cat_v2.applymap(bool)"
   ],
   "metadata": {
    "collapsed": false
   }
  },
  {
   "cell_type": "code",
   "execution_count": 829,
   "outputs": [],
   "source": [
    "frequent_itemsets_v2 = apriori(one_hot_cat_v2, min_support=0.01, use_colnames=True)"
   ],
   "metadata": {
    "collapsed": false
   }
  },
  {
   "cell_type": "code",
   "execution_count": 830,
   "outputs": [
    {
     "data": {
      "text/plain": "                                             antecedents    consequents  \\\n21105  (distribution_channel_TA/TO, assigned_room_typ...  (is_canceled)   \n30216  (assigned_room_type_A, meal_BB, hotel_City Hot...  (is_canceled)   \n23965  (assigned_room_type_A, hotel_City Hotel, depos...  (is_canceled)   \n24569  (market_segment_Offline TA/TO, distribution_ch...  (is_canceled)   \n25225  (market_segment_Offline TA/TO, meal_BB, hotel_...  (is_canceled)   \n25292  (market_segment_Offline TA/TO, hotel_City Hote...  (is_canceled)   \n25315  (market_segment_Offline TA/TO, assigned_room_t...  (is_canceled)   \n28730  (distribution_channel_TA/TO, meal_BB, hotel_Ci...  (is_canceled)   \n28877  (distribution_channel_TA/TO, hotel_City Hotel,...  (is_canceled)   \n29037  (assigned_room_type_A, distribution_channel_TA...  (is_canceled)   \n\n       antecedent support  consequent support   support  confidence      lift  \\\n21105            0.098978            0.370416  0.098978         1.0  2.699665   \n30216            0.087579            0.370416  0.087579         1.0  2.699665   \n23965            0.054335            0.370416  0.054335         1.0  2.699665   \n24569            0.037130            0.370416  0.037130         1.0  2.699665   \n25225            0.034358            0.370416  0.034358         1.0  2.699665   \n25292            0.037038            0.370416  0.037038         1.0  2.699665   \n25315            0.036938            0.370416  0.036938         1.0  2.699665   \n28730            0.085116            0.370416  0.085116         1.0  2.699665   \n28877            0.090996            0.370416  0.090996         1.0  2.699665   \n29037            0.090753            0.370416  0.090753         1.0  2.699665   \n\n       leverage  conviction  \n21105  0.062315         inf  \n30216  0.055138         inf  \n23965  0.034208         inf  \n24569  0.023377         inf  \n25225  0.021631         inf  \n25292  0.023319         inf  \n25315  0.023255         inf  \n28730  0.053588         inf  \n28877  0.057290         inf  \n29037  0.057137         inf  ",
      "text/html": "<div>\n<style scoped>\n    .dataframe tbody tr th:only-of-type {\n        vertical-align: middle;\n    }\n\n    .dataframe tbody tr th {\n        vertical-align: top;\n    }\n\n    .dataframe thead th {\n        text-align: right;\n    }\n</style>\n<table border=\"1\" class=\"dataframe\">\n  <thead>\n    <tr style=\"text-align: right;\">\n      <th></th>\n      <th>antecedents</th>\n      <th>consequents</th>\n      <th>antecedent support</th>\n      <th>consequent support</th>\n      <th>support</th>\n      <th>confidence</th>\n      <th>lift</th>\n      <th>leverage</th>\n      <th>conviction</th>\n    </tr>\n  </thead>\n  <tbody>\n    <tr>\n      <th>21105</th>\n      <td>(distribution_channel_TA/TO, assigned_room_typ...</td>\n      <td>(is_canceled)</td>\n      <td>0.098978</td>\n      <td>0.370416</td>\n      <td>0.098978</td>\n      <td>1.0</td>\n      <td>2.699665</td>\n      <td>0.062315</td>\n      <td>inf</td>\n    </tr>\n    <tr>\n      <th>30216</th>\n      <td>(assigned_room_type_A, meal_BB, hotel_City Hot...</td>\n      <td>(is_canceled)</td>\n      <td>0.087579</td>\n      <td>0.370416</td>\n      <td>0.087579</td>\n      <td>1.0</td>\n      <td>2.699665</td>\n      <td>0.055138</td>\n      <td>inf</td>\n    </tr>\n    <tr>\n      <th>23965</th>\n      <td>(assigned_room_type_A, hotel_City Hotel, depos...</td>\n      <td>(is_canceled)</td>\n      <td>0.054335</td>\n      <td>0.370416</td>\n      <td>0.054335</td>\n      <td>1.0</td>\n      <td>2.699665</td>\n      <td>0.034208</td>\n      <td>inf</td>\n    </tr>\n    <tr>\n      <th>24569</th>\n      <td>(market_segment_Offline TA/TO, distribution_ch...</td>\n      <td>(is_canceled)</td>\n      <td>0.037130</td>\n      <td>0.370416</td>\n      <td>0.037130</td>\n      <td>1.0</td>\n      <td>2.699665</td>\n      <td>0.023377</td>\n      <td>inf</td>\n    </tr>\n    <tr>\n      <th>25225</th>\n      <td>(market_segment_Offline TA/TO, meal_BB, hotel_...</td>\n      <td>(is_canceled)</td>\n      <td>0.034358</td>\n      <td>0.370416</td>\n      <td>0.034358</td>\n      <td>1.0</td>\n      <td>2.699665</td>\n      <td>0.021631</td>\n      <td>inf</td>\n    </tr>\n    <tr>\n      <th>25292</th>\n      <td>(market_segment_Offline TA/TO, hotel_City Hote...</td>\n      <td>(is_canceled)</td>\n      <td>0.037038</td>\n      <td>0.370416</td>\n      <td>0.037038</td>\n      <td>1.0</td>\n      <td>2.699665</td>\n      <td>0.023319</td>\n      <td>inf</td>\n    </tr>\n    <tr>\n      <th>25315</th>\n      <td>(market_segment_Offline TA/TO, assigned_room_t...</td>\n      <td>(is_canceled)</td>\n      <td>0.036938</td>\n      <td>0.370416</td>\n      <td>0.036938</td>\n      <td>1.0</td>\n      <td>2.699665</td>\n      <td>0.023255</td>\n      <td>inf</td>\n    </tr>\n    <tr>\n      <th>28730</th>\n      <td>(distribution_channel_TA/TO, meal_BB, hotel_Ci...</td>\n      <td>(is_canceled)</td>\n      <td>0.085116</td>\n      <td>0.370416</td>\n      <td>0.085116</td>\n      <td>1.0</td>\n      <td>2.699665</td>\n      <td>0.053588</td>\n      <td>inf</td>\n    </tr>\n    <tr>\n      <th>28877</th>\n      <td>(distribution_channel_TA/TO, hotel_City Hotel,...</td>\n      <td>(is_canceled)</td>\n      <td>0.090996</td>\n      <td>0.370416</td>\n      <td>0.090996</td>\n      <td>1.0</td>\n      <td>2.699665</td>\n      <td>0.057290</td>\n      <td>inf</td>\n    </tr>\n    <tr>\n      <th>29037</th>\n      <td>(assigned_room_type_A, distribution_channel_TA...</td>\n      <td>(is_canceled)</td>\n      <td>0.090753</td>\n      <td>0.370416</td>\n      <td>0.090753</td>\n      <td>1.0</td>\n      <td>2.699665</td>\n      <td>0.057137</td>\n      <td>inf</td>\n    </tr>\n  </tbody>\n</table>\n</div>"
     },
     "execution_count": 830,
     "metadata": {},
     "output_type": "execute_result"
    }
   ],
   "source": [
    "rules_v2 = association_rules(frequent_itemsets_v2, metric='confidence', min_threshold=0.5)\n",
    "rules_v2 = rules_v2[rules_v2['consequents'].apply(lambda x: str(x) == \"frozenset({'is_canceled'})\")]\n",
    "rules_v2.sort_values(by='lift', ascending=False).head(10)"
   ],
   "metadata": {
    "collapsed": false
   }
  },
  {
   "cell_type": "code",
   "execution_count": 832,
   "outputs": [],
   "source": [
    "import csv\n",
    "with open('output_v2.csv', 'w', newline='') as file:\n",
    "    writer = csv.writer(file, delimiter=',')\n",
    "    writer.writerow(rules_v2.columns)\n",
    "    writer.writerows(rules_v2.values)"
   ],
   "metadata": {
    "collapsed": false
   }
  },
  {
   "cell_type": "code",
   "execution_count": 847,
   "outputs": [],
   "source": [
    "from sklearn.preprocessing import PolynomialFeatures\n",
    "pf = PolynomialFeatures(degree=2)\n",
    "encoded_data_v3 = pf.fit_transform(encoded_data_v2.drop(columns='is_canceled'))"
   ],
   "metadata": {
    "collapsed": false
   }
  },
  {
   "cell_type": "code",
   "execution_count": 848,
   "outputs": [
    {
     "data": {
      "text/plain": "     1  lead_time  arrival_date_week_number  stays_in_weekend_nights  \\\n0  1.0      342.0                      27.0                      0.0   \n1  1.0      737.0                      27.0                      0.0   \n2  1.0        7.0                      27.0                      0.0   \n3  1.0       13.0                      27.0                      0.0   \n4  1.0       14.0                      27.0                      0.0   \n\n   stays_in_week_nights  adults  children  babies  previous_cancellations  \\\n0                   0.0     2.0       0.0     0.0                     0.0   \n1                   0.0     2.0       0.0     0.0                     0.0   \n2                   1.0     1.0       0.0     0.0                     0.0   \n3                   1.0     1.0       0.0     0.0                     0.0   \n4                   2.0     2.0       0.0     0.0                     0.0   \n\n   previous_bookings_not_canceled  ...  company_8 customer_type_0  \\\n0                             0.0  ...                        0.0   \n1                             0.0  ...                        0.0   \n2                             0.0  ...                        0.0   \n3                             0.0  ...                        0.0   \n4                             0.0  ...                        0.0   \n\n   company_8 customer_type_1  company_8 customer_type_2  customer_type_0^2  \\\n0                        0.0                        1.0                0.0   \n1                        0.0                        1.0                0.0   \n2                        0.0                        1.0                0.0   \n3                        0.0                        1.0                0.0   \n4                        0.0                        1.0                0.0   \n\n   customer_type_0 customer_type_1  customer_type_0 customer_type_2  \\\n0                              0.0                              0.0   \n1                              0.0                              0.0   \n2                              0.0                              0.0   \n3                              0.0                              0.0   \n4                              0.0                              0.0   \n\n   customer_type_1^2  customer_type_1 customer_type_2  customer_type_2^2  \\\n0                0.0                              0.0                1.0   \n1                0.0                              0.0                1.0   \n2                0.0                              0.0                1.0   \n3                0.0                              0.0                1.0   \n4                0.0                              0.0                1.0   \n\n   is_canceled  \n0            0  \n1            0  \n2            0  \n3            0  \n4            0  \n\n[5 rows x 1831 columns]",
      "text/html": "<div>\n<style scoped>\n    .dataframe tbody tr th:only-of-type {\n        vertical-align: middle;\n    }\n\n    .dataframe tbody tr th {\n        vertical-align: top;\n    }\n\n    .dataframe thead th {\n        text-align: right;\n    }\n</style>\n<table border=\"1\" class=\"dataframe\">\n  <thead>\n    <tr style=\"text-align: right;\">\n      <th></th>\n      <th>1</th>\n      <th>lead_time</th>\n      <th>arrival_date_week_number</th>\n      <th>stays_in_weekend_nights</th>\n      <th>stays_in_week_nights</th>\n      <th>adults</th>\n      <th>children</th>\n      <th>babies</th>\n      <th>previous_cancellations</th>\n      <th>previous_bookings_not_canceled</th>\n      <th>...</th>\n      <th>company_8 customer_type_0</th>\n      <th>company_8 customer_type_1</th>\n      <th>company_8 customer_type_2</th>\n      <th>customer_type_0^2</th>\n      <th>customer_type_0 customer_type_1</th>\n      <th>customer_type_0 customer_type_2</th>\n      <th>customer_type_1^2</th>\n      <th>customer_type_1 customer_type_2</th>\n      <th>customer_type_2^2</th>\n      <th>is_canceled</th>\n    </tr>\n  </thead>\n  <tbody>\n    <tr>\n      <th>0</th>\n      <td>1.0</td>\n      <td>342.0</td>\n      <td>27.0</td>\n      <td>0.0</td>\n      <td>0.0</td>\n      <td>2.0</td>\n      <td>0.0</td>\n      <td>0.0</td>\n      <td>0.0</td>\n      <td>0.0</td>\n      <td>...</td>\n      <td>0.0</td>\n      <td>0.0</td>\n      <td>1.0</td>\n      <td>0.0</td>\n      <td>0.0</td>\n      <td>0.0</td>\n      <td>0.0</td>\n      <td>0.0</td>\n      <td>1.0</td>\n      <td>0</td>\n    </tr>\n    <tr>\n      <th>1</th>\n      <td>1.0</td>\n      <td>737.0</td>\n      <td>27.0</td>\n      <td>0.0</td>\n      <td>0.0</td>\n      <td>2.0</td>\n      <td>0.0</td>\n      <td>0.0</td>\n      <td>0.0</td>\n      <td>0.0</td>\n      <td>...</td>\n      <td>0.0</td>\n      <td>0.0</td>\n      <td>1.0</td>\n      <td>0.0</td>\n      <td>0.0</td>\n      <td>0.0</td>\n      <td>0.0</td>\n      <td>0.0</td>\n      <td>1.0</td>\n      <td>0</td>\n    </tr>\n    <tr>\n      <th>2</th>\n      <td>1.0</td>\n      <td>7.0</td>\n      <td>27.0</td>\n      <td>0.0</td>\n      <td>1.0</td>\n      <td>1.0</td>\n      <td>0.0</td>\n      <td>0.0</td>\n      <td>0.0</td>\n      <td>0.0</td>\n      <td>...</td>\n      <td>0.0</td>\n      <td>0.0</td>\n      <td>1.0</td>\n      <td>0.0</td>\n      <td>0.0</td>\n      <td>0.0</td>\n      <td>0.0</td>\n      <td>0.0</td>\n      <td>1.0</td>\n      <td>0</td>\n    </tr>\n    <tr>\n      <th>3</th>\n      <td>1.0</td>\n      <td>13.0</td>\n      <td>27.0</td>\n      <td>0.0</td>\n      <td>1.0</td>\n      <td>1.0</td>\n      <td>0.0</td>\n      <td>0.0</td>\n      <td>0.0</td>\n      <td>0.0</td>\n      <td>...</td>\n      <td>0.0</td>\n      <td>0.0</td>\n      <td>1.0</td>\n      <td>0.0</td>\n      <td>0.0</td>\n      <td>0.0</td>\n      <td>0.0</td>\n      <td>0.0</td>\n      <td>1.0</td>\n      <td>0</td>\n    </tr>\n    <tr>\n      <th>4</th>\n      <td>1.0</td>\n      <td>14.0</td>\n      <td>27.0</td>\n      <td>0.0</td>\n      <td>2.0</td>\n      <td>2.0</td>\n      <td>0.0</td>\n      <td>0.0</td>\n      <td>0.0</td>\n      <td>0.0</td>\n      <td>...</td>\n      <td>0.0</td>\n      <td>0.0</td>\n      <td>1.0</td>\n      <td>0.0</td>\n      <td>0.0</td>\n      <td>0.0</td>\n      <td>0.0</td>\n      <td>0.0</td>\n      <td>1.0</td>\n      <td>0</td>\n    </tr>\n  </tbody>\n</table>\n<p>5 rows × 1831 columns</p>\n</div>"
     },
     "execution_count": 848,
     "metadata": {},
     "output_type": "execute_result"
    }
   ],
   "source": [
    "encoded_data_v3 = pd.DataFrame(encoded_data_v3)\n",
    "encoded_data_v3.columns = pf.get_feature_names_out()\n",
    "encoded_data_v3['is_canceled'] = data.is_canceled.copy()\n",
    "encoded_data_v3.head()\n"
   ],
   "metadata": {
    "collapsed": false
   }
  },
  {
   "cell_type": "code",
   "execution_count": 850,
   "outputs": [],
   "source": [
    "encoded_data_v3.to_parquet('encoded_data_v3.parquet.gzip', index=False, compression='gzip')"
   ],
   "metadata": {
    "collapsed": false
   }
  },
  {
   "cell_type": "code",
   "execution_count": null,
   "outputs": [],
   "source": [],
   "metadata": {
    "collapsed": false
   }
  },
  {
   "cell_type": "code",
   "execution_count": 897,
   "outputs": [
    {
     "data": {
      "text/plain": "array([[ 6.09114853e-03,  9.81661864e-04,  1.73854444e-03, ...,\n        -5.02679416e-03,  7.25147926e-04, -1.22474700e-04],\n       [ 1.13794199e-02,  9.32361695e-04, -2.64211130e-03, ...,\n        -6.22423432e-03,  6.68908903e-04, -3.84592579e-03],\n       [ 5.00474207e-03,  8.24106797e-04,  4.30750276e-03, ...,\n        -2.23298151e-03,  7.43383978e-04, -1.72928685e-03],\n       ...,\n       [ 2.44137465e-03,  1.09408220e-03, -5.92825141e-03, ...,\n         8.89326296e-04,  6.09395087e-04,  1.59702100e-03],\n       [-3.23135456e-05,  6.00817102e-04, -3.60099516e-03, ...,\n        -6.32142501e-04,  7.63911985e-04, -9.39587231e-04],\n       [ 3.71090768e-04,  8.81895115e-04,  4.54597779e-04, ...,\n         7.73930552e-04,  7.63263485e-04, -1.38887867e-04]])"
     },
     "execution_count": 897,
     "metadata": {},
     "output_type": "execute_result"
    }
   ],
   "source": [
    "fi = FastICA(n_components=25, max_iter=500, tol=0.0005)\n",
    "ica_data = fi.fit_transform(combined_data.copy().drop(columns=['is_canceled', 'reservation_status']))\n",
    "ica_data"
   ],
   "metadata": {
    "collapsed": false
   }
  },
  {
   "cell_type": "code",
   "execution_count": 898,
   "outputs": [
    {
     "data": {
      "text/plain": "['IC1',\n 'IC2',\n 'IC3',\n 'IC4',\n 'IC5',\n 'IC6',\n 'IC7',\n 'IC8',\n 'IC9',\n 'IC10',\n 'IC11',\n 'IC12',\n 'IC13',\n 'IC14',\n 'IC15',\n 'IC16',\n 'IC17',\n 'IC18',\n 'IC19',\n 'IC20',\n 'IC21',\n 'IC22',\n 'IC23',\n 'IC24',\n 'IC25']"
     },
     "execution_count": 898,
     "metadata": {},
     "output_type": "execute_result"
    }
   ],
   "source": [
    "component_names = ['IC{}'.format(i) for i in range(1, fi.n_components+1)]\n",
    "component_names"
   ],
   "metadata": {
    "collapsed": false
   }
  },
  {
   "cell_type": "code",
   "execution_count": 899,
   "outputs": [
    {
     "data": {
      "text/plain": "        IC1       IC2       IC3       IC4       IC5       IC6       IC7  \\\n0  0.006091  0.000982  0.001739  0.000333 -0.002280  0.006249 -0.001110   \n1  0.011379  0.000932 -0.002642 -0.001478 -0.003575  0.005179 -0.001113   \n2  0.005005  0.000824  0.004308  0.000378 -0.001031  0.001045  0.004009   \n3  0.006898  0.000863 -0.001044  0.003892 -0.002396  0.000253  0.003948   \n4  0.007248  0.000843 -0.003817  0.001429 -0.000112 -0.000564 -0.000722   \n\n        IC8       IC9      IC10  ...      IC17      IC18      IC19      IC20  \\\n0 -0.001616 -0.001281  0.002919  ...  0.000139 -0.001656 -0.000139 -0.000342   \n1 -0.001777 -0.001745  0.001428  ...  0.000077 -0.002567  0.000147 -0.000345   \n2 -0.000104 -0.000635 -0.000066  ...  0.000255  0.000068 -0.000488 -0.000441   \n3  0.000072 -0.001155 -0.003108  ...  0.000281  0.000026 -0.000499 -0.000513   \n4  0.000430 -0.000825 -0.003158  ...  0.000247  0.000050 -0.000555 -0.000719   \n\n       IC21      IC22      IC23      IC24      IC25  is_canceled  \n0 -0.000124 -0.009263 -0.005027  0.000725 -0.000122            0  \n1  0.000026 -0.022266 -0.006224  0.000669 -0.003846            0  \n2 -0.000092  0.000653 -0.002233  0.000743 -0.001729            0  \n3  0.000024  0.000750 -0.001737  0.000878 -0.004064            0  \n4  0.000099  0.002130  0.005129  0.000885 -0.003986            0  \n\n[5 rows x 26 columns]",
      "text/html": "<div>\n<style scoped>\n    .dataframe tbody tr th:only-of-type {\n        vertical-align: middle;\n    }\n\n    .dataframe tbody tr th {\n        vertical-align: top;\n    }\n\n    .dataframe thead th {\n        text-align: right;\n    }\n</style>\n<table border=\"1\" class=\"dataframe\">\n  <thead>\n    <tr style=\"text-align: right;\">\n      <th></th>\n      <th>IC1</th>\n      <th>IC2</th>\n      <th>IC3</th>\n      <th>IC4</th>\n      <th>IC5</th>\n      <th>IC6</th>\n      <th>IC7</th>\n      <th>IC8</th>\n      <th>IC9</th>\n      <th>IC10</th>\n      <th>...</th>\n      <th>IC17</th>\n      <th>IC18</th>\n      <th>IC19</th>\n      <th>IC20</th>\n      <th>IC21</th>\n      <th>IC22</th>\n      <th>IC23</th>\n      <th>IC24</th>\n      <th>IC25</th>\n      <th>is_canceled</th>\n    </tr>\n  </thead>\n  <tbody>\n    <tr>\n      <th>0</th>\n      <td>0.006091</td>\n      <td>0.000982</td>\n      <td>0.001739</td>\n      <td>0.000333</td>\n      <td>-0.002280</td>\n      <td>0.006249</td>\n      <td>-0.001110</td>\n      <td>-0.001616</td>\n      <td>-0.001281</td>\n      <td>0.002919</td>\n      <td>...</td>\n      <td>0.000139</td>\n      <td>-0.001656</td>\n      <td>-0.000139</td>\n      <td>-0.000342</td>\n      <td>-0.000124</td>\n      <td>-0.009263</td>\n      <td>-0.005027</td>\n      <td>0.000725</td>\n      <td>-0.000122</td>\n      <td>0</td>\n    </tr>\n    <tr>\n      <th>1</th>\n      <td>0.011379</td>\n      <td>0.000932</td>\n      <td>-0.002642</td>\n      <td>-0.001478</td>\n      <td>-0.003575</td>\n      <td>0.005179</td>\n      <td>-0.001113</td>\n      <td>-0.001777</td>\n      <td>-0.001745</td>\n      <td>0.001428</td>\n      <td>...</td>\n      <td>0.000077</td>\n      <td>-0.002567</td>\n      <td>0.000147</td>\n      <td>-0.000345</td>\n      <td>0.000026</td>\n      <td>-0.022266</td>\n      <td>-0.006224</td>\n      <td>0.000669</td>\n      <td>-0.003846</td>\n      <td>0</td>\n    </tr>\n    <tr>\n      <th>2</th>\n      <td>0.005005</td>\n      <td>0.000824</td>\n      <td>0.004308</td>\n      <td>0.000378</td>\n      <td>-0.001031</td>\n      <td>0.001045</td>\n      <td>0.004009</td>\n      <td>-0.000104</td>\n      <td>-0.000635</td>\n      <td>-0.000066</td>\n      <td>...</td>\n      <td>0.000255</td>\n      <td>0.000068</td>\n      <td>-0.000488</td>\n      <td>-0.000441</td>\n      <td>-0.000092</td>\n      <td>0.000653</td>\n      <td>-0.002233</td>\n      <td>0.000743</td>\n      <td>-0.001729</td>\n      <td>0</td>\n    </tr>\n    <tr>\n      <th>3</th>\n      <td>0.006898</td>\n      <td>0.000863</td>\n      <td>-0.001044</td>\n      <td>0.003892</td>\n      <td>-0.002396</td>\n      <td>0.000253</td>\n      <td>0.003948</td>\n      <td>0.000072</td>\n      <td>-0.001155</td>\n      <td>-0.003108</td>\n      <td>...</td>\n      <td>0.000281</td>\n      <td>0.000026</td>\n      <td>-0.000499</td>\n      <td>-0.000513</td>\n      <td>0.000024</td>\n      <td>0.000750</td>\n      <td>-0.001737</td>\n      <td>0.000878</td>\n      <td>-0.004064</td>\n      <td>0</td>\n    </tr>\n    <tr>\n      <th>4</th>\n      <td>0.007248</td>\n      <td>0.000843</td>\n      <td>-0.003817</td>\n      <td>0.001429</td>\n      <td>-0.000112</td>\n      <td>-0.000564</td>\n      <td>-0.000722</td>\n      <td>0.000430</td>\n      <td>-0.000825</td>\n      <td>-0.003158</td>\n      <td>...</td>\n      <td>0.000247</td>\n      <td>0.000050</td>\n      <td>-0.000555</td>\n      <td>-0.000719</td>\n      <td>0.000099</td>\n      <td>0.002130</td>\n      <td>0.005129</td>\n      <td>0.000885</td>\n      <td>-0.003986</td>\n      <td>0</td>\n    </tr>\n  </tbody>\n</table>\n<p>5 rows × 26 columns</p>\n</div>"
     },
     "execution_count": 899,
     "metadata": {},
     "output_type": "execute_result"
    }
   ],
   "source": [
    "ica_data = pd.DataFrame(ica_data)\n",
    "ica_data.columns = component_names\n",
    "ica_data['is_canceled'] = data.is_canceled\n",
    "ica_data.head()"
   ],
   "metadata": {
    "collapsed": false
   }
  },
  {
   "cell_type": "code",
   "execution_count": 900,
   "outputs": [],
   "source": [
    "ica_data.to_parquet('ica_data.parquet.gzip', compression='gzip', index=False)"
   ],
   "metadata": {
    "collapsed": false
   }
  },
  {
   "cell_type": "code",
   "execution_count": 861,
   "outputs": [
    {
     "data": {
      "text/plain": "array(['hotel', 'country', 'market_segment', 'distribution_channel',\n       'agent', 'company', 'customer_type', 'reservation_status', 'meal',\n       'reserved_room_type', 'assigned_room_type', 'deposit_type',\n       'lead_time', 'arrival_date_week_number', 'stays_in_weekend_nights',\n       'stays_in_week_nights', 'adults', 'children', 'babies',\n       'previous_cancellations', 'previous_bookings_not_canceled',\n       'booking_changes', 'days_in_waiting_list', 'adr',\n       'required_car_parking_spaces', 'total_of_special_requests',\n       'is_repeated_guest', 'is_canceled', 'cluster_label'], dtype=object)"
     },
     "execution_count": 861,
     "metadata": {},
     "output_type": "execute_result"
    }
   ],
   "source": [
    "fi.feature_names_in_"
   ],
   "metadata": {
    "collapsed": false
   }
  },
  {
   "cell_type": "code",
   "execution_count": 4,
   "outputs": [],
   "source": [
    "def data_stat_finder(df: pd.DataFrame, target: str):\n",
    "    results = []\n",
    "    for i in df.columns:\n",
    "        curr = df[i]\n",
    "        if curr.dtype == 'object':\n",
    "            continue\n",
    "        mean = curr.mean()\n",
    "        median = curr.median()\n",
    "        third_quartile = curr.quantile(0.75)\n",
    "        variance = curr.var()\n",
    "        covariance_with_target = curr.cov(df[f'{target}'])\n",
    "        skew = curr.skew()\n",
    "        kurtosis = curr.kurt()\n",
    "        na_count = sum(curr.isna())\n",
    "        results.append([i, mean, median, third_quartile, variance, covariance_with_target, skew, kurtosis, na_count])\n",
    "    results = pd.DataFrame(results, columns = ['col.name', 'mean', 'median', 'third_quartile', 'variance', 'covariance_with_target', 'skew', 'kurtosis', 'na_count'] )\n",
    "    return results"
   ],
   "metadata": {
    "collapsed": false
   }
  },
  {
   "cell_type": "code",
   "execution_count": null,
   "outputs": [],
   "source": [
    "if max(vif) > 5:\n",
    "    lasso = Lasso(alpha=0.1)\n",
    "    lasso.fit(data.drop(columns=['is_canceled']), data['is_canceled'])\n",
    "    coef = pd.Series(lasso.coef_, index=data.drop(columns=['is_canceled']).columns)\n",
    "    if sum(coef == 0) > 0:\n",
    "        df_lasso = data.drop(columns=['y']).loc[:, coef != 0]\n",
    "        pd.concat([df_lasso, data['is_canceled']], axis=1)"
   ],
   "metadata": {
    "collapsed": false
   }
  },
  {
   "cell_type": "code",
   "execution_count": null,
   "outputs": [],
   "source": [
    "import pandas as pd\n",
    "import numpy as np\n",
    "from sklearn.decomposition import PCA\n",
    "from sklearn.linear_model import Lasso\n",
    "from sklearn.model_selection import cross_val_score, KFold\n",
    "from sklearn.impute import SimpleImputer\n",
    "from sklearn.preprocessing import StandardScaler\n",
    "from sklearn.preprocessing import LabelEncoder\n",
    "from sklearn.preprocessing import OneHotEncoder\n",
    "from category_encoders import LeaveOneOutEncoder, CatBoostEncoder\n",
    "from scipy.stats import boxcox\n",
    "from statsmodels.stats.stattools import durbin_watson\n",
    "from statsmodels.stats.outliers_influence import variance_inflation_factor\n",
    "\n",
    "def pre_process_data_v1(df):\n",
    "    # Heteroscedasticity - Transformation\n",
    "    if abs(df.resid.mean()) > 0.05:\n",
    "        df['y_transformed'] = boxcox(df['y'])[0]\n",
    "        return df\n",
    "\n",
    "    # Missing Values - Imputation/Removal\n",
    "    if df.isnull().sum().sum() > 0:\n",
    "        imputer = SimpleImputer(strategy='mean')\n",
    "        df_imp = pd.DataFrame(imputer.fit_transform(df), columns=df.columns)\n",
    "        return df_imp\n",
    "\n",
    "    # Autocorrelation - Model parameter optimization\n",
    "    if durbin_watson(df.resid) < 1.5:\n",
    "        # optimize model parameters\n",
    "        return df\n",
    "\n",
    "    # Multicollinearity - PCA, Lasso\n",
    "    vif = [variance_inflation_factor(df.values, i) for i in range(df.shape[1]-1)]\n",
    "    if max(vif) > 5:\n",
    "        pca = PCA(n_components=2)\n",
    "        df_pca = pca.fit_transform(df.drop(columns=['y']))\n",
    "        return pd.concat([pd.DataFrame(df_pca), df['y']], axis=1)\n",
    "\n",
    "    lasso = Lasso(alpha=0.1)\n",
    "    lasso.fit(df.drop(columns=['y']), df['y'])\n",
    "    coef = pd.Series(lasso.coef_, index=df.drop(columns=['y']).columns)\n",
    "    if sum(coef == 0) > 0:\n",
    "        df_lasso = df.drop(columns=['y']).loc[:, coef != 0]\n",
    "        return pd.concat([df_lasso, df['y']], axis=1)\n",
    "\n",
    "    # Dataset Skew - Transformation\n",
    "    numerical_cols = df.select_dtypes(include=['float64', 'int64']).columns\n",
    "    skewness = df[numerical_cols].skew()\n",
    "    skewed_cols = skewness[abs(skewness) > 0.5].index\n",
    "    if len(skewed_cols) > 0:\n",
    "        df[skewed_cols] = df[skewed_cols].apply(lambda x: np.log1p(x))\n",
    "        return df\n",
    "\n",
    "    # Scaling numerical variables\n",
    "    scaler = StandardScaler()\n",
    "    df[numerical_cols] = scaler.fit_transform(df[numerical_cols])\n",
    "\n",
    "    # Dataset Outliers - Transformation\n",
    "    if len(df[(df['y'] < df['y'].quantile(0.05)) | (df['y'] > df['y'].quantile(0.95))]) > 0:\n",
    "        df['y_transformed'] = np.sqrt(df['y'])\n",
    "        return df\n",
    "\n",
    "    # Categorical Variables - Target Encoding\n",
    "    categorical_cols = df.select_dtypes(include=['object']).columns\n",
    "    if len(categorical_cols) > 0:\n",
    "        # Label encoding for ordinal categories\n",
    "        for col in categorical_cols:\n",
    "            if len(df[col].unique()) < 10:\n",
    "                le = LabelEncoder()\n",
    "                df[col] = le.fit_transform(df[col])\n",
    "            else:\n",
    "                # Target encoding for nominal categories\n",
    "                # TODO: Add leave-one-out and catboost encoders\n",
    "                df = pd.concat([df, pd.get_dummies(df[col], prefix=col, drop_first=True)], axis=1)\n",
    "                df.drop(columns=[col], inplace=True)\n",
    "\n",
    "    # Class Imbalance - Resampling, K-Folds CV\n",
    "    if abs(df['y'].value_counts(normalize=True)[0] - df['y'].value_counts(normalize=True)[1]) > 0.2:\n",
    "        # perform resampling\n",
    "        return df\n",
    "\n",
    "    kfold = KFold(n_splits=5, shuffle=True, random_state=42)\n",
    "    scores = cross_val_score(lasso, df.drop(columns=['y']), df['y'], cv=kfold)\n",
    "    if np.std(scores) > 0.1:\n",
    "        # perform K-Folds CV\n",
    "        return df\n",
    "\n",
    "    # Noise - Remove noisy points\n",
    "    if max(abs(df.resid)) > 2:\n",
    "        df_clean = df.loc[abs(df.resid) < 2, :]\n",
    "        return df_clean"
   ],
   "metadata": {
    "collapsed": false
   }
  },
  {
   "cell_type": "code",
   "execution_count": 448,
   "outputs": [
    {
     "data": {
      "text/plain": "8.375910880308233e-06"
     },
     "execution_count": 448,
     "metadata": {},
     "output_type": "execute_result"
    }
   ],
   "source": [
    "data.adr.value_counts(normalize=True).min()"
   ],
   "metadata": {
    "collapsed": false
   }
  },
  {
   "cell_type": "code",
   "execution_count": null,
   "outputs": [],
   "source": [
    "from sklearn.metrics import accuracy_score\n",
    "import pandas as pd\n",
    "import numpy as np\n",
    "from sklearn.preprocessing import StandardScaler, PolynomialFeatures\n",
    "from sklearn.decomposition import PCA\n",
    "from sklearn.linear_model import Lasso, LogisticRegression\n",
    "from sklearn.model_selection import train_test_split, GridSearchCV, cross_val_score, StratifiedKFold\n",
    "from imblearn.over_sampling import RandomOverSampler\n",
    "from imblearn.under_sampling import RandomUnderSampler\n",
    "from imblearn.combine import SMOTETomek\n",
    "from scipy.stats import boxcox\n",
    "\n",
    "# Load the dataset\n",
    "df = pd.read_csv('dataset.csv')\n",
    "\n",
    "# Check for missing values\n",
    "if df.isnull().sum().sum() > 0:\n",
    "    # Impute missing values\n",
    "    df.fillna(df.mean(), inplace=True)\n",
    "\n",
    "# Check for dataset skew\n",
    "if abs(df.skew().max()) > 0.5:\n",
    "    # Transform dataset\n",
    "    df = pd.DataFrame(boxcox(df + 1)[0], columns=df.columns)\n",
    "\n",
    "# Check for dataset outliers\n",
    "if abs(df.quantile(0.75) - df.quantile(0.25)).max() > 1.5 * df.mad():\n",
    "    # Transform dataset\n",
    "    q1 = df.quantile(0.25)\n",
    "    q3 = df.quantile(0.75)\n",
    "    iqr = q3 - q1\n",
    "    df = df[~((df < (q1 - 1.5 * iqr)) | (df > (q3 + 1.5 * iqr))).any(axis=1)]\n",
    "\n",
    "# Check for categorical variables\n",
    "if df.select_dtypes(include=['object']).shape[1] > 0:\n",
    "    # Encode categorical variables\n",
    "    df = pd.get_dummies(df, columns=df.select_dtypes(include=['object']).columns)\n",
    "\n",
    "# Check for class imbalance\n",
    "target = 'target'\n",
    "if df[target].value_counts(normalize=True).min() < 0.1:\n",
    "    # Resample dataset\n",
    "    if df[target].nunique() == 2:\n",
    "        ros = RandomOverSampler(random_state=42)\n",
    "        X_resampled, y_resampled = ros.fit_resample(df.drop(target, axis=1), df[target])\n",
    "    else:\n",
    "        rus = RandomUnderSampler(random_state=42)\n",
    "        X_resampled, y_resampled = rus.fit_resample(df.drop(target, axis=1), df[target])\n",
    "else:\n",
    "    # Use K-Fold Cross Validation\n",
    "    skf = StratifiedKFold(n_splits=10, shuffle=True, random_state=42)\n",
    "    scores = cross_val_score(skf, df.drop(target, axis=1), df[target], cv=skf)\n",
    "    print('Cross Validation Accuracy Scores: ', scores)\n",
    "\n",
    "# Check for heteroscedasticity\n",
    "X_train, X_test, y_train, y_test = train_test_split(df.drop(target, axis=1), df[target], test_size=0.2, random_state=42)\n",
    "if np.abs(X_train.var() - X_test.var()).max() > 1:\n",
    "    # Standardize dataset\n",
    "    scaler = StandardScaler()\n",
    "    X_train = scaler.fit_transform(X_train)\n",
    "    X_test = scaler.transform(X_test)\n",
    "\n",
    "# Generate polynomial features\n",
    "poly = PolynomialFeatures(degree=2, include_bias=False)\n",
    "X_train = poly.fit_transform(X_train)\n",
    "X_test = poly.transform(X_test)\n",
    "\n",
    "# Dimensionality reduction\n",
    "pca = PCA(n_components=0.95)\n",
    "X_train = pca.fit_transform(X_train)\n",
    "X_test = pca.transform(X_test)\n",
    "\n",
    "# Feature selection\n",
    "lasso = Lasso(alpha=0.1)\n",
    "lasso.fit(X_train, y_train)\n",
    "selected_features = lasso.coef_ != 0\n",
    "X_train = X_train[:, selected_features]\n",
    "X_test = X_test[:, selected_features]\n",
    "\n",
    "# Grid search for hyperparameters\n",
    "param_grid = {'C': [0.1, 1, 10, 100], 'penalty': ['l1', 'l2']}\n",
    "grid_search = GridSearchCV(LogisticRegression(random_state=42), param_grid, cv=skf)\n",
    "grid_search.fit(X_train, y_train)\n",
    "print('Best hyperparameters: ', grid_search.best_params_)\n",
    "\n",
    "# Final model training and evaluation\n",
    "model = LogisticRegression(random_state=42, **grid_search.best_params_)\n",
    "model.fit(X_train, y_train)\n",
    "y_pred = model.predict(X_test)\n",
    "print('Accuracy: ', accuracy_score(y_test, y_pred))\n",
    "\n",
    "# Resampling for final model\n",
    "if df[target].nunique() == 2:\n",
    "    smote_tomek = SMOTETomek(random_state=42)\n",
    "    X_resampled, y_resampled = smote_tomek.fit_resample(df.drop(target, axis=1), df[target])\n",
    "else:\n",
    "    rus = RandomUnderSampler(random_state=42)\n",
    "    X_resampled, y_resampled = rus.fit_resample(df.drop(target, axis=1), df[target])\n",
    "\n",
    "X_resampled = scaler.transform(X_resampled)\n",
    "X_resampled = poly.transform(X_resampled)\n",
    "X_resampled = pca.transform(X_resampled)\n",
    "X_resampled = X_resampled[:, selected_features]\n",
    "model.fit(X_resampled, y_resampled)\n",
    "model"
   ],
   "metadata": {
    "collapsed": false
   }
  },
  {
   "cell_type": "code",
   "execution_count": null,
   "outputs": [],
   "source": [
    "import pandas as pd\n",
    "import numpy as np\n",
    "from sklearn.decomposition import PCA\n",
    "from sklearn.linear_model import Lasso\n",
    "from sklearn.model_selection import cross_val_score, KFold\n",
    "from sklearn.impute import SimpleImputer\n",
    "from sklearn.preprocessing import StandardScaler\n",
    "from sklearn.preprocessing import LabelEncoder\n",
    "from sklearn.preprocessing import OneHotEncoder\n",
    "from category_encoders import LeaveOneOutEncoder, CatBoostEncoder\n",
    "from scipy.stats import boxcox\n",
    "from statsmodels.stats.stattools import durbin_watson\n",
    "from statsmodels.stats.outliers_influence import variance_inflation_factor\n",
    "\n",
    "def pre_process_data(df):\n",
    "    # Heteroscedasticity - Transformation\n",
    "    if abs(df.resid.mean()) > 0.05:\n",
    "        df['y_transformed'] = boxcox(df['y'])[0]\n",
    "        return df\n",
    "\n",
    "    # Missing Values - Imputation/Removal\n",
    "    if df.isnull().sum().sum() > 0:\n",
    "        imputer = SimpleImputer(strategy='mean')\n",
    "        df_imp = pd.DataFrame(imputer.fit_transform(df), columns=df.columns)\n",
    "        return df_imp\n",
    "\n",
    "    # Autocorrelation - Model parameter optimization\n",
    "    if durbin_watson(df.resid) < 1.5:\n",
    "        # optimize model parameters\n",
    "        return df\n",
    "\n",
    "    # Multicollinearity - PCA, Lasso\n",
    "    vif = [variance_inflation_factor(df.values, i) for i in range(df.shape[1]-1)]\n",
    "    if max(vif) > 5:\n",
    "        pca = PCA(n_components=2)\n",
    "        df_pca = pca.fit_transform(df.drop(columns=['y']))\n",
    "        return pd.concat([pd.DataFrame(df_pca), df['y']], axis=1)\n",
    "\n",
    "    lasso = Lasso(alpha=0.1)\n",
    "    lasso.fit(df.drop(columns=['y']), df['y'])\n",
    "    coef = pd.Series(lasso.coef_, index=df.drop(columns=['y']).columns)\n",
    "    if sum(coef == 0) > 0:\n",
    "        df_lasso = df.drop(columns=['y']).loc[:, coef != 0]\n",
    "        return pd.concat([df_lasso, df['y']], axis=1)\n",
    "\n",
    "    # Dataset Skew - Transformation\n",
    "    numerical_cols = df.select_dtypes(include=['float64', 'int64']).columns\n",
    "    skewness = df[numerical_cols].skew()\n",
    "    skewed_cols = skewness[abs(skewness) > 0.5].index\n",
    "    if len(skewed_cols) > 0:\n",
    "        df[skewed_cols] = df[skewed_cols].apply(lambda x: np.log1p(x))\n",
    "        return df\n",
    "\n",
    "    # Scaling numerical variables\n",
    "    scaler = StandardScaler()\n",
    "    df[numerical_cols] = scaler.fit_transform(df[numerical_cols])\n",
    "\n",
    "    # Dataset Outliers - Transformation\n",
    "    if len(df[(df['y'] < df['y'].quantile(0.05)) | (df['y'] > df['y'].quantile(0.95))]) > 0:\n",
    "        df['y_transformed'] = np.sqrt(df['y'])\n",
    "        return df\n",
    "\n",
    "    # Categorical Variables - Target Encoding\n",
    "    categorical_cols = df.select_dtypes(include=['object']).columns\n",
    "    if len(categorical_cols) > 0:\n",
    "        # Label encoding for ordinal categories\n",
    "        for col in categorical_cols:\n",
    "            if len(df[col].unique()) < 10:\n",
    "                le = LabelEncoder()\n",
    "                df[col] = le.fit_transform(df[col])\n",
    "            elif len(df[col].unique()) < 100:\n",
    "                loo = LeaveOneOutEncoder()\n",
    "                df[col] = loo.fit_transform(df[col], df['y'])\n",
    "            else:\n",
    "                # Target encoding for high cardinality categories\n",
    "                cb = CatBoostEncoder()\n",
    "                df[col] = cb.fit_transform(df[col], df['y'])\n",
    "            \"\"\"else:\n",
    "        # Target encoding for nominal categories\n",
    "        # TODO: Add leave-one-out\"\"\"\n",
    "\n",
    "    # Class Imbalance - Resampling, K-Folds CV\n",
    "    if abs(df['y'].value_counts(normalize=True)[0] - df['y'].value_counts(normalize=True)[1]) > 0.2:\n",
    "        # perform resampling\n",
    "        return df\n",
    "\n",
    "    kfold = KFold(n_splits=5, shuffle=True, random_state=42)\n",
    "    scores = cross_val_score(lasso, df.drop(columns=['y']), df['y'], cv=kfold)\n",
    "    if np.std(scores) > 0.1:\n",
    "        # perform K-Folds CV\n",
    "        return df\n",
    "\n",
    "    # Noise - Remove noisy points\n",
    "    if max(abs(df.resid)) > 2:\n",
    "        df_clean = df.loc[abs(df.resid) < 2, :]\n",
    "        return df_clean\n",
    "\n",
    "    # Return pre-processed dataframe\n",
    "    return df\n"
   ],
   "metadata": {
    "collapsed": false
   }
  }
 ],
 "metadata": {
  "kernelspec": {
   "display_name": "Python 3",
   "language": "python",
   "name": "python3"
  },
  "language_info": {
   "codemirror_mode": {
    "name": "ipython",
    "version": 2
   },
   "file_extension": ".py",
   "mimetype": "text/x-python",
   "name": "python",
   "nbconvert_exporter": "python",
   "pygments_lexer": "ipython2",
   "version": "2.7.6"
  }
 },
 "nbformat": 4,
 "nbformat_minor": 0
}
